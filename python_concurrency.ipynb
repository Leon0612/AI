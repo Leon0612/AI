{
 "metadata": {
  "language_info": {
   "codemirror_mode": {
    "name": "ipython",
    "version": 3
   },
   "file_extension": ".py",
   "mimetype": "text/x-python",
   "name": "python",
   "nbconvert_exporter": "python",
   "pygments_lexer": "ipython3",
   "version": "3.8.5"
  },
  "orig_nbformat": 2,
  "kernelspec": {
   "name": "python3",
   "display_name": "Python 3.8.5 64-bit ('base': conda)"
  },
  "interpreter": {
   "hash": "7b4b4feff2f24a0f0a34464dbe537a36fda679851528fb8735cb41fa49dffb2d"
  }
 },
 "nbformat": 4,
 "nbformat_minor": 2,
 "cells": [
  {
   "source": [
    "## 并发编程\n",
    "### 线程和进程\n",
    "操作系统可以同时执行多个任务，每一个任务就是一个进程。进程可以可以同时执行多个任务，每一个任务就是一个线程。一个程序运行后至少有一个进程，在一个进程中可以包含多个线程，但至少要包含一个主线程。\n",
    "### 并发和并行\n",
    "并行指在同一时刻有多条指令在多个处理器上同时执行。并发指在同一时刻只能有一条指令执行，但多个指令被快速轮换执行，使得在宏观上具有多个进程同时执行的效果。多线程就是让多个函数能并发执行，让普通用户感觉到多个函数似乎在同时执行。\n",
    "### 线程的创建和启动"
   ],
   "cell_type": "markdown",
   "metadata": {}
  },
  {
   "cell_type": "code",
   "execution_count": 1,
   "metadata": {},
   "outputs": [
    {
     "output_type": "stream",
     "name": "stdout",
     "text": [
      "MainThread 0\nMainThread 1\nMainThread 2\nMainThread 3\nMainThread 4\nMainThread 5\nThread-4 0\nThread-4 1\nThread-4 2\nThread-5 0\nThread-5 1\nThread-5 2\nMainThread 6\nMainThread 7\nMainThread 8\nMainThread 9\nmain thread is done!\n"
     ]
    }
   ],
   "source": [
    "import threading\n",
    "\n",
    "# 定义一个普通的action方法，该方法准备作为线程执行体\n",
    "def action(max):\n",
    "    for i in range(max):\n",
    "        # 调用threading模块的current_thread()函数获取当前线程\n",
    "        # 调用线程对象的getName()方法获取当前线程的名字\n",
    "        print(threading.current_thread().getName() + \" \" + str(i))\n",
    "\n",
    "\n",
    "# 下面是主程序（也就是主线程的线程执行体）\n",
    "for i in range(10):\n",
    "    print(threading.current_thread().getName() + \" \" + str(i))\n",
    "    if i == 5:\n",
    "        # 创建并启动第一个线程\n",
    "        t1 = threading.Thread(target=action, args=(3,))\n",
    "        t1.start()\n",
    "        # 创建并启动第二个线程\n",
    "        t2 = threading.Thread(target=action, args=(3,))\n",
    "        t2.start()\n",
    "print('main thread is done!')"
   ]
  },
  {
   "source": [
    "## 线程的生命周期\n",
    "### 新建和就绪状态  \n",
    "当程序创建了一个Thread对象或者Thread子类的对象后，该线程就处于新建状态，此时的线程对象没有表现出任何线程的动态特征，程序也不会执行线程执行体。当线程对象调用start()方法后，该线程就处于就绪状态，Python解释器会为其创建方法调用栈和程序计数器，处于就绪状态中的线程并没有开始执行，只是表示线程可以运行了，何时运行取决于Python解释器中线程调度器的调度。注意: \n",
    "  \n",
    "1、启动线程使用start方法，而不是run方法。如果直接调用线程对象的run方法，系统会把线程对象当成一个普通对象，且在该方法返回之前其他线程无法并发执行。    \n",
    "2、只能对处于新建状态的线程调用start方法，如果程序对同一个线程重复调用start方法，将引发RuntimeError异常。\n",
    "\n",
    "### 运行和阻塞状态\n",
    "如果处于就绪状态的线程获得了CPU，开始执行run()方法的线程执行体，则该线程处于运行状态。当发生以下情况时，线程会进入阻塞状态:  \n",
    "\n",
    "1、线程调用sleep()方法主动放弃其所占用的处理器资源。  \n",
    "2、线程调用了一个阻塞式I/O方法，在该方法返回之前，该线程被阻塞。  \n",
    "3、线程视图获得一个锁对象，但该锁对象正被其他线程所持有。  \n",
    "4、线程正在等待某个通知(Notify)。  \n",
    "\n",
    "当前正在执行的线程被阻塞之后，其他线程就可以获得执行的机会，被阻塞的线程在合适的时间会重新进入就绪状态，等待线程调度器再次调度它:\n",
    "\n",
    "1、调用sleep()方法的线程经过了指定的时间。  \n",
    "2、线程调用的阻塞式I/O方法已经返回。  \n",
    "3、线程成功获得了试图获得的锁对象。  \n",
    "4、线程正在等待某个通知，其他线程发出了一个通知。\n",
    "\n",
    "### 线程死亡\n",
    "线程会以以下三种方式结束，结束后就处于死亡状态:\n",
    "\n",
    "1、run()方法或代表线程执行体的target函数执行完成，线程正常结束。  \n",
    "2、线程抛出一个未捕获的Exception或Error。  \n",
    "\n",
    "测试某个线程是否死亡，可以调用线程对象的is_alive()方法，当线程处于就绪、运行和阻塞状态时，返回True；当线程处于新建、死亡两种状态时，返回False。不要对处于死亡状态的线程调用start()方法，会引发RuntimeError异常。"
   ],
   "cell_type": "markdown",
   "metadata": {}
  },
  {
   "source": [
    "### join线程\n",
    "当在某个程序执行流中调用其他线程的join()方法时，调用线程将被阻塞，直到被join()方法加入的join线程执行完成。"
   ],
   "cell_type": "markdown",
   "metadata": {}
  },
  {
   "cell_type": "code",
   "execution_count": 2,
   "metadata": {},
   "outputs": [
    {
     "output_type": "stream",
     "name": "stdout",
     "text": [
      "new thread 0\nnew thread 1\nnew thread 2\nMainThread 0\nMainThread 1\nMainThread 2\nMainThread 3\nMainThread 4\njoin's thread 0\njoin's thread 1\njoin's thread 2\nMainThread 5\nMainThread 6\nMainThread 7\nMainThread 8\nMainThread 9\n"
     ]
    }
   ],
   "source": [
    "# 启动子线程\n",
    "threading.Thread(target=action, args=(3,), name=\"new thread\").start()\n",
    "for i in range(10):\n",
    "    if i == 5:\n",
    "        jt = threading.Thread(target=action, args=(3,), name=\"join's thread\")\n",
    "        jt.start()\n",
    "        # 主线程调用了jt线程的join()方法\n",
    "        # 主线程必须等待jt执行结束才会向下执行\n",
    "        jt.join()\n",
    "    print(threading.current_thread().name + ' ' + str(i))"
   ]
  },
  {
   "source": [
    "### 线程睡眠"
   ],
   "cell_type": "markdown",
   "metadata": {}
  },
  {
   "cell_type": "code",
   "execution_count": 3,
   "metadata": {},
   "outputs": [
    {
     "output_type": "stream",
     "name": "stdout",
     "text": [
      "current time: <built-in function ctime>\n",
      "current time: <built-in function ctime>\n",
      "current time: <built-in function ctime>\n",
      "current time: <built-in function ctime>\n",
      "current time: <built-in function ctime>\n",
      "current time: <built-in function ctime>\n",
      "current time: <built-in function ctime>\n",
      "current time: <built-in function ctime>\n",
      "current time: <built-in function ctime>\n",
      "current time: <built-in function ctime>\n"
     ]
    }
   ],
   "source": [
    "import time\n",
    "\n",
    "for i in range(10):\n",
    "    print('current time: %s' % time.ctime)\n",
    "    time.sleep(2)"
   ]
  },
  {
   "source": [
    "### 线程同步 --> 线程安全问题: 以银行取款为例"
   ],
   "cell_type": "markdown",
   "metadata": {}
  },
  {
   "cell_type": "code",
   "execution_count": 11,
   "metadata": {},
   "outputs": [],
   "source": [
    "class Account:\n",
    "    def __init__(self, account_no, balance):\n",
    "        self.account_no = account_no\n",
    "        self.balance = balance\n",
    "\n",
    "# 定义一个函数模拟取钱操作\n",
    "def draw(account, draw_amount):\n",
    "    if account.balance >= draw_amount:\n",
    "        print(threading.current_thread().name + \"取钱成功！取出：\" + str(draw_amount), end='\\t')\n",
    "        time.sleep(0.001)\n",
    "        # 修改余额\n",
    "        account.balance -= draw_amount\n",
    "        print(\"余额为：\" + str(account.balance))\n",
    "    else:\n",
    "        print(threading.current_thread().name + \"取钱失败！余额不足！\")"
   ]
  },
  {
   "cell_type": "code",
   "execution_count": 10,
   "metadata": {},
   "outputs": [
    {
     "output_type": "stream",
     "name": "stdout",
     "text": [
      "甲取钱成功！取出：800\t余额为：200\n乙取钱失败！余额不足！\n"
     ]
    }
   ],
   "source": [
    "acct = Account('1234567', 1000)\n",
    "# 使用两个线程模拟从同一个账户取钱\n",
    "threading.Thread(name='甲', target=draw, args=(acct, 800)).start()\n",
    "threading.Thread(name='乙', target=draw, args=(acct, 800)).start()"
   ]
  },
  {
   "cell_type": "code",
   "execution_count": 12,
   "metadata": {},
   "outputs": [
    {
     "output_type": "stream",
     "name": "stdout",
     "text": [
      "甲取钱成功！取出：800\t乙取钱成功！取出：800\t余额为：200\n",
      "余额为：-600\n"
     ]
    }
   ],
   "source": [
    "acct1 = Account('1234567', 1000)\n",
    "# 使用两个线程模拟从同一个账户取钱，并取消time.sleep(0.001)的注释\n",
    "threading.Thread(name='甲', target=draw, args=(acct1, 800)).start()\n",
    "threading.Thread(name='乙', target=draw, args=(acct1, 800)).start()"
   ]
  },
  {
   "source": [
    "### 同步锁(Lock)\n",
    "之所以出现上述错误，是因为run()方法的方法体不具有线程安全性：程序中有两个并发线程在修改Account对象，而且系统恰好在time.sleep(0.001)处执行线程切换，切换到另一个修改Account对象的线程，所以就出现了问题。为了解决这个问题，threading模块引入了锁。threading模块提供了Lock和RLock两个类，在实现线程安全的控制中，比较常用的是RLock。"
   ],
   "cell_type": "markdown",
   "metadata": {}
  },
  {
   "cell_type": "code",
   "execution_count": 13,
   "metadata": {},
   "outputs": [],
   "source": [
    "class Account:\n",
    "    def __init__(self, account_no, balance):\n",
    "        self.account_no = account_no\n",
    "        self._balance = balance\n",
    "        # 定义一个RLock对象\n",
    "        self.lock = threading.RLock()\n",
    "\n",
    "    # 因为账户余额不允许随意修改，所以只为self._balance提供getter方法\n",
    "    def getBalance(self):\n",
    "        return self._balance\n",
    "\n",
    "    # 提供一个线程安全的draw()方法来完成取钱操作\n",
    "    def draw(self, draw_amount):\n",
    "        self.lock.acquire()    # 加锁\n",
    "        try:\n",
    "            if self._balance >= draw_amount:\n",
    "                print(threading.current_thread().name + \"取钱成功！取出：\" + str(draw_amount), end='\\t')\n",
    "                time.sleep(0.001)\n",
    "                self._balance -= draw_amount\n",
    "                print(\"余额为：\" + str(self._balance))\n",
    "            else:\n",
    "                print(threading.current_thread().name + \"取钱失败！余额不足！\")\n",
    "        # 使用finally块来保证释放锁\n",
    "        finally:\n",
    "            self.lock.release()"
   ]
  },
  {
   "source": [
    "当一个线程在draw()方法中对RLock对象加锁之后，其他线程由于无法获取对RLock对象的锁定，因此它们不能同时执行draw()方法对self._balance进行修改。这意味着：并发线程在任意时刻只有一个线程可以进入修改共享资源的代码区(也称为临界区)，所以在同一时刻最多只有一个线程处于临界区内，从而保证了线程安全。为了保证Lock对象能真正锁定它所管理的Account对象，程序会被编写成每个Account对象有一个对应的Lock:"
   ],
   "cell_type": "markdown",
   "metadata": {}
  },
  {
   "cell_type": "code",
   "execution_count": 14,
   "metadata": {},
   "outputs": [
    {
     "output_type": "stream",
     "name": "stdout",
     "text": [
      "甲取钱成功！取出：800\t余额为：200\n",
      "乙取钱失败！余额不足！\n"
     ]
    }
   ],
   "source": [
    "def draw(account, draw_amount):\n",
    "    account.draw(draw_amount)\n",
    "\n",
    "\n",
    "acct = Account('1234567', 1000)\n",
    "threading.Thread(name='甲', target=draw, args=(acct, 800)).start()\n",
    "threading.Thread(name='乙', target=draw, args=(acct, 800)).start()"
   ]
  }
 ]
}