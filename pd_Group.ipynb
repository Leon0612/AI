{
 "cells": [
  {
   "cell_type": "code",
   "execution_count": 1,
   "metadata": {},
   "outputs": [],
   "source": [
    "import numpy as np\n",
    "np.random.seed(42)\n",
    "import pandas as pd\n",
    "from pandas import Series, DataFrame"
   ]
  },
  {
   "cell_type": "markdown",
   "metadata": {},
   "source": [
    "### 数据分组 --> GroupBy机制"
   ]
  },
  {
   "cell_type": "code",
   "execution_count": 2,
   "metadata": {},
   "outputs": [
    {
     "output_type": "execute_result",
     "data": {
      "text/plain": [
       "  key1 key2     data1     data2\n",
       "0    a  one  0.496714 -0.234137\n",
       "1    a  two -0.138264  1.579213\n",
       "2    b  one  0.647689  0.767435\n",
       "3    b  two  1.523030 -0.469474\n",
       "4    a  one -0.234153  0.542560"
      ],
      "text/html": "<div>\n<style scoped>\n    .dataframe tbody tr th:only-of-type {\n        vertical-align: middle;\n    }\n\n    .dataframe tbody tr th {\n        vertical-align: top;\n    }\n\n    .dataframe thead th {\n        text-align: right;\n    }\n</style>\n<table border=\"1\" class=\"dataframe\">\n  <thead>\n    <tr style=\"text-align: right;\">\n      <th></th>\n      <th>key1</th>\n      <th>key2</th>\n      <th>data1</th>\n      <th>data2</th>\n    </tr>\n  </thead>\n  <tbody>\n    <tr>\n      <th>0</th>\n      <td>a</td>\n      <td>one</td>\n      <td>0.496714</td>\n      <td>-0.234137</td>\n    </tr>\n    <tr>\n      <th>1</th>\n      <td>a</td>\n      <td>two</td>\n      <td>-0.138264</td>\n      <td>1.579213</td>\n    </tr>\n    <tr>\n      <th>2</th>\n      <td>b</td>\n      <td>one</td>\n      <td>0.647689</td>\n      <td>0.767435</td>\n    </tr>\n    <tr>\n      <th>3</th>\n      <td>b</td>\n      <td>two</td>\n      <td>1.523030</td>\n      <td>-0.469474</td>\n    </tr>\n    <tr>\n      <th>4</th>\n      <td>a</td>\n      <td>one</td>\n      <td>-0.234153</td>\n      <td>0.542560</td>\n    </tr>\n  </tbody>\n</table>\n</div>"
     },
     "metadata": {},
     "execution_count": 2
    }
   ],
   "source": [
    "df = DataFrame({'key1': ['a', 'a', 'b', 'b', 'a' ], 'key2': ['one', 'two', 'one', 'two', 'one'],\n",
    "                'data1': np.random.randn(5), 'data2': np.random.randn(5)})\n",
    "df"
   ]
  },
  {
   "cell_type": "code",
   "execution_count": 3,
   "metadata": {},
   "outputs": [
    {
     "output_type": "execute_result",
     "data": {
      "text/plain": [
       "<pandas.core.groupby.generic.SeriesGroupBy object at 0x000001B04BB774F0>"
      ]
     },
     "metadata": {},
     "execution_count": 3
    }
   ],
   "source": [
    "grouped = df['data1'].groupby(df['key1'])\n",
    "grouped                  # grouped现在是一个GroupBy对象，它实际上还没有进行任何计算"
   ]
  },
  {
   "cell_type": "code",
   "execution_count": 4,
   "metadata": {},
   "outputs": [
    {
     "output_type": "execute_result",
     "data": {
      "text/plain": [
       "key1\n",
       "a    0.041432\n",
       "b    1.085359\n",
       "Name: data1, dtype: float64"
      ]
     },
     "metadata": {},
     "execution_count": 4
    }
   ],
   "source": [
    "grouped.mean()"
   ]
  },
  {
   "cell_type": "code",
   "execution_count": 5,
   "metadata": {},
   "outputs": [
    {
     "output_type": "execute_result",
     "data": {
      "text/plain": [
       "key1  key2\n",
       "a     one     0.131280\n",
       "      two    -0.138264\n",
       "b     one     0.647689\n",
       "      two     1.523030\n",
       "Name: data1, dtype: float64"
      ]
     },
     "metadata": {},
     "execution_count": 5
    }
   ],
   "source": [
    "means = df.data1.groupby([df.key1, df.key2]).mean()\n",
    "means"
   ]
  },
  {
   "cell_type": "code",
   "execution_count": 6,
   "metadata": {},
   "outputs": [
    {
     "output_type": "execute_result",
     "data": {
      "text/plain": [
       "key2       one       two\n",
       "key1                    \n",
       "a     0.131280 -0.138264\n",
       "b     0.647689  1.523030"
      ],
      "text/html": "<div>\n<style scoped>\n    .dataframe tbody tr th:only-of-type {\n        vertical-align: middle;\n    }\n\n    .dataframe tbody tr th {\n        vertical-align: top;\n    }\n\n    .dataframe thead th {\n        text-align: right;\n    }\n</style>\n<table border=\"1\" class=\"dataframe\">\n  <thead>\n    <tr style=\"text-align: right;\">\n      <th>key2</th>\n      <th>one</th>\n      <th>two</th>\n    </tr>\n    <tr>\n      <th>key1</th>\n      <th></th>\n      <th></th>\n    </tr>\n  </thead>\n  <tbody>\n    <tr>\n      <th>a</th>\n      <td>0.131280</td>\n      <td>-0.138264</td>\n    </tr>\n    <tr>\n      <th>b</th>\n      <td>0.647689</td>\n      <td>1.523030</td>\n    </tr>\n  </tbody>\n</table>\n</div>"
     },
     "metadata": {},
     "execution_count": 6
    }
   ],
   "source": [
    "means.unstack()"
   ]
  },
  {
   "cell_type": "markdown",
   "metadata": {},
   "source": [
    "分组键也可以是正确长度的任何数组:"
   ]
  },
  {
   "cell_type": "code",
   "execution_count": 7,
   "metadata": {},
   "outputs": [
    {
     "output_type": "execute_result",
     "data": {
      "text/plain": [
       "SH  2005    1.009872\n",
       "    2006   -0.234153\n",
       "SZ  2005   -0.138264\n",
       "    2006    0.647689\n",
       "Name: data1, dtype: float64"
      ]
     },
     "metadata": {},
     "execution_count": 7
    }
   ],
   "source": [
    "cities = np.array(['SH', 'SZ', 'SZ', 'SH', 'SH'])\n",
    "years = np.array([2005, 2005, 2006, 2005, 2006])\n",
    "df.data1.groupby([cities, years]).mean()"
   ]
  },
  {
   "cell_type": "markdown",
   "metadata": {},
   "source": [
    "分组信息作为想要继续处理的数据，通常包含在同一个DataFrame中，这种情况下，可以传递列名(无论列名是字符串、数字或其他Python对象)作为分组键:"
   ]
  },
  {
   "cell_type": "code",
   "execution_count": 8,
   "metadata": {},
   "outputs": [
    {
     "output_type": "execute_result",
     "data": {
      "text/plain": [
       "         data1     data2\n",
       "key1                    \n",
       "a     0.041432  0.629212\n",
       "b     1.085359  0.148980"
      ],
      "text/html": "<div>\n<style scoped>\n    .dataframe tbody tr th:only-of-type {\n        vertical-align: middle;\n    }\n\n    .dataframe tbody tr th {\n        vertical-align: top;\n    }\n\n    .dataframe thead th {\n        text-align: right;\n    }\n</style>\n<table border=\"1\" class=\"dataframe\">\n  <thead>\n    <tr style=\"text-align: right;\">\n      <th></th>\n      <th>data1</th>\n      <th>data2</th>\n    </tr>\n    <tr>\n      <th>key1</th>\n      <th></th>\n      <th></th>\n    </tr>\n  </thead>\n  <tbody>\n    <tr>\n      <th>a</th>\n      <td>0.041432</td>\n      <td>0.629212</td>\n    </tr>\n    <tr>\n      <th>b</th>\n      <td>1.085359</td>\n      <td>0.148980</td>\n    </tr>\n  </tbody>\n</table>\n</div>"
     },
     "metadata": {},
     "execution_count": 8
    }
   ],
   "source": [
    "df.groupby('key1').mean()"
   ]
  },
  {
   "cell_type": "code",
   "execution_count": 9,
   "metadata": {},
   "outputs": [
    {
     "output_type": "execute_result",
     "data": {
      "text/plain": [
       "              data1     data2\n",
       "key1 key2                    \n",
       "a    one   0.131280  0.154212\n",
       "     two  -0.138264  1.579213\n",
       "b    one   0.647689  0.767435\n",
       "     two   1.523030 -0.469474"
      ],
      "text/html": "<div>\n<style scoped>\n    .dataframe tbody tr th:only-of-type {\n        vertical-align: middle;\n    }\n\n    .dataframe tbody tr th {\n        vertical-align: top;\n    }\n\n    .dataframe thead th {\n        text-align: right;\n    }\n</style>\n<table border=\"1\" class=\"dataframe\">\n  <thead>\n    <tr style=\"text-align: right;\">\n      <th></th>\n      <th></th>\n      <th>data1</th>\n      <th>data2</th>\n    </tr>\n    <tr>\n      <th>key1</th>\n      <th>key2</th>\n      <th></th>\n      <th></th>\n    </tr>\n  </thead>\n  <tbody>\n    <tr>\n      <th rowspan=\"2\" valign=\"top\">a</th>\n      <th>one</th>\n      <td>0.131280</td>\n      <td>0.154212</td>\n    </tr>\n    <tr>\n      <th>two</th>\n      <td>-0.138264</td>\n      <td>1.579213</td>\n    </tr>\n    <tr>\n      <th rowspan=\"2\" valign=\"top\">b</th>\n      <th>one</th>\n      <td>0.647689</td>\n      <td>0.767435</td>\n    </tr>\n    <tr>\n      <th>two</th>\n      <td>1.523030</td>\n      <td>-0.469474</td>\n    </tr>\n  </tbody>\n</table>\n</div>"
     },
     "metadata": {},
     "execution_count": 9
    }
   ],
   "source": [
    "df.groupby(['key1', 'key2']).mean()"
   ]
  },
  {
   "cell_type": "markdown",
   "metadata": {},
   "source": [
    "size方法返回一个包含组大小信息的Series:"
   ]
  },
  {
   "cell_type": "code",
   "execution_count": 10,
   "metadata": {},
   "outputs": [
    {
     "output_type": "execute_result",
     "data": {
      "text/plain": [
       "key1  key2\n",
       "a     one     2\n",
       "      two     1\n",
       "b     one     1\n",
       "      two     1\n",
       "dtype: int64"
      ]
     },
     "metadata": {},
     "execution_count": 10
    }
   ],
   "source": [
    "df.groupby(['key1', 'key2']).size()"
   ]
  },
  {
   "cell_type": "markdown",
   "metadata": {},
   "source": [
    "注意，分组键中的任何缺失值会被排除在结果之外！"
   ]
  },
  {
   "cell_type": "markdown",
   "metadata": {},
   "source": [
    "### 数据分组 --> 遍历各分组\n",
    "GroupBy对象支持迭代，会生成一个包含组名和数据块的2维元组序列:"
   ]
  },
  {
   "cell_type": "code",
   "execution_count": 11,
   "metadata": {},
   "outputs": [
    {
     "output_type": "stream",
     "name": "stdout",
     "text": [
      "Group Name:  a\n  key1 key2     data1     data2\n0    a  one  0.496714 -0.234137\n1    a  two -0.138264  1.579213\n4    a  one -0.234153  0.542560\n---------------------------------\nGroup Name:  b\n  key1 key2     data1     data2\n2    b  one  0.647689  0.767435\n3    b  two  1.523030 -0.469474\n---------------------------------\n"
     ]
    }
   ],
   "source": [
    "for name, group in df.groupby('key1'):\n",
    "    print('Group Name: ', name)\n",
    "    print(group)\n",
    "    print('---------------------------------')"
   ]
  },
  {
   "cell_type": "markdown",
   "metadata": {},
   "source": [
    "在多个分组键的情况下，元组中的第一个元素是键值的元组:"
   ]
  },
  {
   "cell_type": "code",
   "execution_count": 12,
   "metadata": {},
   "outputs": [
    {
     "output_type": "stream",
     "name": "stdout",
     "text": [
      "Group Name:  ('a', 'one')\n  key1 key2     data1     data2\n0    a  one  0.496714 -0.234137\n4    a  one -0.234153  0.542560\n---------------------------------\nGroup Name:  ('a', 'two')\n  key1 key2     data1     data2\n1    a  two -0.138264  1.579213\n---------------------------------\nGroup Name:  ('b', 'one')\n  key1 key2     data1     data2\n2    b  one  0.647689  0.767435\n---------------------------------\nGroup Name:  ('b', 'two')\n  key1 key2    data1     data2\n3    b  two  1.52303 -0.469474\n---------------------------------\n"
     ]
    }
   ],
   "source": [
    "for (k1, k2), group in df.groupby(['key1', 'key2']):\n",
    "    print('Group Name: ', (k1, k2))\n",
    "    print(group)\n",
    "    print('---------------------------------')"
   ]
  },
  {
   "cell_type": "markdown",
   "metadata": {},
   "source": [
    "计算出数据块的字典:"
   ]
  },
  {
   "cell_type": "code",
   "execution_count": 13,
   "metadata": {},
   "outputs": [
    {
     "output_type": "execute_result",
     "data": {
      "text/plain": [
       "{'a':   key1 key2     data1     data2\n",
       " 0    a  one  0.496714 -0.234137\n",
       " 1    a  two -0.138264  1.579213\n",
       " 4    a  one -0.234153  0.542560,\n",
       " 'b':   key1 key2     data1     data2\n",
       " 2    b  one  0.647689  0.767435\n",
       " 3    b  two  1.523030 -0.469474}"
      ]
     },
     "metadata": {},
     "execution_count": 13
    }
   ],
   "source": [
    "pieces = dict(list(df.groupby('key1')))\n",
    "pieces"
   ]
  },
  {
   "cell_type": "code",
   "execution_count": 14,
   "metadata": {},
   "outputs": [
    {
     "output_type": "execute_result",
     "data": {
      "text/plain": [
       "  key1 key2     data1     data2\n",
       "2    b  one  0.647689  0.767435\n",
       "3    b  two  1.523030 -0.469474"
      ],
      "text/html": "<div>\n<style scoped>\n    .dataframe tbody tr th:only-of-type {\n        vertical-align: middle;\n    }\n\n    .dataframe tbody tr th {\n        vertical-align: top;\n    }\n\n    .dataframe thead th {\n        text-align: right;\n    }\n</style>\n<table border=\"1\" class=\"dataframe\">\n  <thead>\n    <tr style=\"text-align: right;\">\n      <th></th>\n      <th>key1</th>\n      <th>key2</th>\n      <th>data1</th>\n      <th>data2</th>\n    </tr>\n  </thead>\n  <tbody>\n    <tr>\n      <th>2</th>\n      <td>b</td>\n      <td>one</td>\n      <td>0.647689</td>\n      <td>0.767435</td>\n    </tr>\n    <tr>\n      <th>3</th>\n      <td>b</td>\n      <td>two</td>\n      <td>1.523030</td>\n      <td>-0.469474</td>\n    </tr>\n  </tbody>\n</table>\n</div>"
     },
     "metadata": {},
     "execution_count": 14
    }
   ],
   "source": [
    "pieces['b']"
   ]
  },
  {
   "cell_type": "markdown",
   "metadata": {},
   "source": [
    "默认情况下，groupby在axis=0的轴向上分组，也可以在其他任意轴向上进行分组:"
   ]
  },
  {
   "cell_type": "code",
   "execution_count": 15,
   "metadata": {},
   "outputs": [
    {
     "output_type": "execute_result",
     "data": {
      "text/plain": [
       "key1      object\n",
       "key2      object\n",
       "data1    float64\n",
       "data2    float64\n",
       "dtype: object"
      ]
     },
     "metadata": {},
     "execution_count": 15
    }
   ],
   "source": [
    "df.dtypes"
   ]
  },
  {
   "cell_type": "code",
   "execution_count": 16,
   "metadata": {},
   "outputs": [
    {
     "output_type": "stream",
     "name": "stdout",
     "text": [
      "Dtype:  float64\n      data1     data2\n0  0.496714 -0.234137\n1 -0.138264  1.579213\n2  0.647689  0.767435\n3  1.523030 -0.469474\n4 -0.234153  0.542560\n---------------------\nDtype:  object\n  key1 key2\n0    a  one\n1    a  two\n2    b  one\n3    b  two\n4    a  one\n---------------------\n"
     ]
    }
   ],
   "source": [
    "grouped = df.groupby(df.dtypes, axis=1)\n",
    "\n",
    "for dtype, group in grouped:\n",
    "    print('Dtype: ', dtype)\n",
    "    print(group)\n",
    "    print('---------------------')"
   ]
  },
  {
   "cell_type": "markdown",
   "metadata": {},
   "source": [
    "### 数据分组 --> 选择一列或所有列的子集\n",
    "将从DataFrame创建的GroupBy对象用列名称或列名称数组进行索引时，会产生用于聚合的列子集的效果，这表明：  \n",
    "df.groupby('key1')\\['data1'\\] 是 df\\['data1'\\].groupby(df\\['key1'\\])   \n",
    "df.groupby('key1')\\[\\['data2'\\]\\] 是 df\\[\\['data1'\\]\\].groupby(df\\['key1'\\])   \n",
    "的语法糖！"
   ]
  },
  {
   "cell_type": "code",
   "execution_count": 17,
   "metadata": {},
   "outputs": [
    {
     "output_type": "execute_result",
     "data": {
      "text/plain": [
       "key1  key2\n",
       "a     one     0.154212\n",
       "      two     1.579213\n",
       "b     one     0.767435\n",
       "      two    -0.469474\n",
       "Name: data2, dtype: float64"
      ]
     },
     "metadata": {},
     "execution_count": 17
    }
   ],
   "source": [
    "df.groupby(['key1', 'key2'])['data2'].mean()      # equivalents to: df['data2'].groupby([df['key1'], df['key2']]).mean()"
   ]
  },
  {
   "cell_type": "code",
   "execution_count": 18,
   "metadata": {},
   "outputs": [
    {
     "output_type": "execute_result",
     "data": {
      "text/plain": [
       "              data2\n",
       "key1 key2          \n",
       "a    one   0.154212\n",
       "     two   1.579213\n",
       "b    one   0.767435\n",
       "     two  -0.469474"
      ],
      "text/html": "<div>\n<style scoped>\n    .dataframe tbody tr th:only-of-type {\n        vertical-align: middle;\n    }\n\n    .dataframe tbody tr th {\n        vertical-align: top;\n    }\n\n    .dataframe thead th {\n        text-align: right;\n    }\n</style>\n<table border=\"1\" class=\"dataframe\">\n  <thead>\n    <tr style=\"text-align: right;\">\n      <th></th>\n      <th></th>\n      <th>data2</th>\n    </tr>\n    <tr>\n      <th>key1</th>\n      <th>key2</th>\n      <th></th>\n    </tr>\n  </thead>\n  <tbody>\n    <tr>\n      <th rowspan=\"2\" valign=\"top\">a</th>\n      <th>one</th>\n      <td>0.154212</td>\n    </tr>\n    <tr>\n      <th>two</th>\n      <td>1.579213</td>\n    </tr>\n    <tr>\n      <th rowspan=\"2\" valign=\"top\">b</th>\n      <th>one</th>\n      <td>0.767435</td>\n    </tr>\n    <tr>\n      <th>two</th>\n      <td>-0.469474</td>\n    </tr>\n  </tbody>\n</table>\n</div>"
     },
     "metadata": {},
     "execution_count": 18
    }
   ],
   "source": [
    "df.groupby(['key1', 'key2'])[['data2']].mean()"
   ]
  },
  {
   "cell_type": "markdown",
   "metadata": {},
   "source": [
    "上面两个语句表明：如果传递的是列表或数组，则此索引操作返回的对象是分组的DataFrame；如果只有单个列作为标量传递，则为分组的Series。"
   ]
  },
  {
   "cell_type": "markdown",
   "metadata": {},
   "source": [
    "### 数据分组 --> 使用字典和Series分组\n",
    "分组信息可能会以非数组形式存在:"
   ]
  },
  {
   "cell_type": "code",
   "execution_count": 19,
   "metadata": {},
   "outputs": [
    {
     "output_type": "execute_result",
     "data": {
      "text/plain": [
       "             a         b         c         d         e\n",
       "Mon  -0.463418 -0.465730  0.241962 -1.913280 -1.724918\n",
       "Tues -0.562288 -1.012831  0.314247 -0.908024 -1.412304\n",
       "Wed   1.465649       NaN       NaN -1.424748 -0.544383\n",
       "Thur  0.110923 -1.150994  0.375698 -0.600639 -0.291694\n",
       "Fri  -0.601707  1.852278 -0.013497 -1.057711  0.822545"
      ],
      "text/html": "<div>\n<style scoped>\n    .dataframe tbody tr th:only-of-type {\n        vertical-align: middle;\n    }\n\n    .dataframe tbody tr th {\n        vertical-align: top;\n    }\n\n    .dataframe thead th {\n        text-align: right;\n    }\n</style>\n<table border=\"1\" class=\"dataframe\">\n  <thead>\n    <tr style=\"text-align: right;\">\n      <th></th>\n      <th>a</th>\n      <th>b</th>\n      <th>c</th>\n      <th>d</th>\n      <th>e</th>\n    </tr>\n  </thead>\n  <tbody>\n    <tr>\n      <th>Mon</th>\n      <td>-0.463418</td>\n      <td>-0.465730</td>\n      <td>0.241962</td>\n      <td>-1.913280</td>\n      <td>-1.724918</td>\n    </tr>\n    <tr>\n      <th>Tues</th>\n      <td>-0.562288</td>\n      <td>-1.012831</td>\n      <td>0.314247</td>\n      <td>-0.908024</td>\n      <td>-1.412304</td>\n    </tr>\n    <tr>\n      <th>Wed</th>\n      <td>1.465649</td>\n      <td>NaN</td>\n      <td>NaN</td>\n      <td>-1.424748</td>\n      <td>-0.544383</td>\n    </tr>\n    <tr>\n      <th>Thur</th>\n      <td>0.110923</td>\n      <td>-1.150994</td>\n      <td>0.375698</td>\n      <td>-0.600639</td>\n      <td>-0.291694</td>\n    </tr>\n    <tr>\n      <th>Fri</th>\n      <td>-0.601707</td>\n      <td>1.852278</td>\n      <td>-0.013497</td>\n      <td>-1.057711</td>\n      <td>0.822545</td>\n    </tr>\n  </tbody>\n</table>\n</div>"
     },
     "metadata": {},
     "execution_count": 19
    }
   ],
   "source": [
    "weekday = DataFrame(np.random.randn(5, 5), columns = ['a','b','c','d','e'], index = ['Mon','Tues','Wed','Thur','Fri'])\n",
    "weekday.iloc[2:3, [1, 2]] = np.nan\n",
    "weekday"
   ]
  },
  {
   "cell_type": "markdown",
   "metadata": {},
   "source": [
    "假设有各列的分组对应关系，并把各列按组累加："
   ]
  },
  {
   "cell_type": "code",
   "execution_count": 20,
   "metadata": {},
   "outputs": [
    {
     "output_type": "execute_result",
     "data": {
      "text/plain": [
       "          blue       red\n",
       "Mon  -1.671318 -2.654065\n",
       "Tues -0.593777 -2.987422\n",
       "Wed  -1.424748  0.921266\n",
       "Thur -0.224941 -1.331765\n",
       "Fri  -1.071208  2.073116"
      ],
      "text/html": "<div>\n<style scoped>\n    .dataframe tbody tr th:only-of-type {\n        vertical-align: middle;\n    }\n\n    .dataframe tbody tr th {\n        vertical-align: top;\n    }\n\n    .dataframe thead th {\n        text-align: right;\n    }\n</style>\n<table border=\"1\" class=\"dataframe\">\n  <thead>\n    <tr style=\"text-align: right;\">\n      <th></th>\n      <th>blue</th>\n      <th>red</th>\n    </tr>\n  </thead>\n  <tbody>\n    <tr>\n      <th>Mon</th>\n      <td>-1.671318</td>\n      <td>-2.654065</td>\n    </tr>\n    <tr>\n      <th>Tues</th>\n      <td>-0.593777</td>\n      <td>-2.987422</td>\n    </tr>\n    <tr>\n      <th>Wed</th>\n      <td>-1.424748</td>\n      <td>0.921266</td>\n    </tr>\n    <tr>\n      <th>Thur</th>\n      <td>-0.224941</td>\n      <td>-1.331765</td>\n    </tr>\n    <tr>\n      <th>Fri</th>\n      <td>-1.071208</td>\n      <td>2.073116</td>\n    </tr>\n  </tbody>\n</table>\n</div>"
     },
     "metadata": {},
     "execution_count": 20
    }
   ],
   "source": [
    "mapping = {'a': 'red', 'b': 'red', 'c': 'blue', 'd': 'blue', 'e': 'red', 'f': 'orange'}\n",
    "by_column = weekday.groupby(mapping, axis=1)\n",
    "by_column.sum()"
   ]
  },
  {
   "cell_type": "markdown",
   "metadata": {},
   "source": [
    "Seiries也有相同的功能，可以视为固定大小的映射:"
   ]
  },
  {
   "cell_type": "code",
   "execution_count": 21,
   "metadata": {},
   "outputs": [
    {
     "output_type": "execute_result",
     "data": {
      "text/plain": [
       "a       red\n",
       "b       red\n",
       "c      blue\n",
       "d      blue\n",
       "e       red\n",
       "f    orange\n",
       "dtype: object"
      ]
     },
     "metadata": {},
     "execution_count": 21
    }
   ],
   "source": [
    "map_series = Series(mapping)\n",
    "map_series"
   ]
  },
  {
   "cell_type": "code",
   "execution_count": 22,
   "metadata": {},
   "outputs": [
    {
     "output_type": "execute_result",
     "data": {
      "text/plain": [
       "      blue  red\n",
       "Mon      2    3\n",
       "Tues     2    3\n",
       "Wed      1    2\n",
       "Thur     2    3\n",
       "Fri      2    3"
      ],
      "text/html": "<div>\n<style scoped>\n    .dataframe tbody tr th:only-of-type {\n        vertical-align: middle;\n    }\n\n    .dataframe tbody tr th {\n        vertical-align: top;\n    }\n\n    .dataframe thead th {\n        text-align: right;\n    }\n</style>\n<table border=\"1\" class=\"dataframe\">\n  <thead>\n    <tr style=\"text-align: right;\">\n      <th></th>\n      <th>blue</th>\n      <th>red</th>\n    </tr>\n  </thead>\n  <tbody>\n    <tr>\n      <th>Mon</th>\n      <td>2</td>\n      <td>3</td>\n    </tr>\n    <tr>\n      <th>Tues</th>\n      <td>2</td>\n      <td>3</td>\n    </tr>\n    <tr>\n      <th>Wed</th>\n      <td>1</td>\n      <td>2</td>\n    </tr>\n    <tr>\n      <th>Thur</th>\n      <td>2</td>\n      <td>3</td>\n    </tr>\n    <tr>\n      <th>Fri</th>\n      <td>2</td>\n      <td>3</td>\n    </tr>\n  </tbody>\n</table>\n</div>"
     },
     "metadata": {},
     "execution_count": 22
    }
   ],
   "source": [
    "weekday.groupby(map_series, axis = 1).count()"
   ]
  },
  {
   "cell_type": "markdown",
   "metadata": {},
   "source": [
    "### 数据分组 --> 使用函数分组\n",
    "与使用字典或Series分组相比，使用Python函数是定义分组关系的一种更为通用的方式。作为分组键传递的函数将会按照每个索引值调用一次，同时返回值会被用作分组名称："
   ]
  },
  {
   "cell_type": "code",
   "execution_count": 23,
   "metadata": {},
   "outputs": [
    {
     "output_type": "execute_result",
     "data": {
      "text/plain": [
       "          a         b         c         d         e\n",
       "3  0.400524  1.386548  0.228465 -4.395739 -1.446756\n",
       "4 -0.451365 -2.163825  0.689945 -1.508663 -1.703997"
      ],
      "text/html": "<div>\n<style scoped>\n    .dataframe tbody tr th:only-of-type {\n        vertical-align: middle;\n    }\n\n    .dataframe tbody tr th {\n        vertical-align: top;\n    }\n\n    .dataframe thead th {\n        text-align: right;\n    }\n</style>\n<table border=\"1\" class=\"dataframe\">\n  <thead>\n    <tr style=\"text-align: right;\">\n      <th></th>\n      <th>a</th>\n      <th>b</th>\n      <th>c</th>\n      <th>d</th>\n      <th>e</th>\n    </tr>\n  </thead>\n  <tbody>\n    <tr>\n      <th>3</th>\n      <td>0.400524</td>\n      <td>1.386548</td>\n      <td>0.228465</td>\n      <td>-4.395739</td>\n      <td>-1.446756</td>\n    </tr>\n    <tr>\n      <th>4</th>\n      <td>-0.451365</td>\n      <td>-2.163825</td>\n      <td>0.689945</td>\n      <td>-1.508663</td>\n      <td>-1.703997</td>\n    </tr>\n  </tbody>\n</table>\n</div>"
     },
     "metadata": {},
     "execution_count": 23
    }
   ],
   "source": [
    "# 根据名称的长度进行分组\n",
    "weekday.groupby(len).sum()"
   ]
  },
  {
   "cell_type": "markdown",
   "metadata": {},
   "source": [
    "可将函数与数组，字典或Series进行混合，所有的对象都会在内部转换为数组:"
   ]
  },
  {
   "cell_type": "code",
   "execution_count": 24,
   "metadata": {},
   "outputs": [
    {
     "output_type": "execute_result",
     "data": {
      "text/plain": [
       "              a         b         c         d         e\n",
       "3 one -0.463418 -0.465730  0.241962 -1.913280 -1.724918\n",
       "  two -0.601707  1.852278 -0.013497 -1.057711  0.822545\n",
       "4 one -0.562288 -1.012831  0.314247 -0.908024 -1.412304\n",
       "  two  0.110923 -1.150994  0.375698 -0.600639 -0.291694"
      ],
      "text/html": "<div>\n<style scoped>\n    .dataframe tbody tr th:only-of-type {\n        vertical-align: middle;\n    }\n\n    .dataframe tbody tr th {\n        vertical-align: top;\n    }\n\n    .dataframe thead th {\n        text-align: right;\n    }\n</style>\n<table border=\"1\" class=\"dataframe\">\n  <thead>\n    <tr style=\"text-align: right;\">\n      <th></th>\n      <th></th>\n      <th>a</th>\n      <th>b</th>\n      <th>c</th>\n      <th>d</th>\n      <th>e</th>\n    </tr>\n  </thead>\n  <tbody>\n    <tr>\n      <th rowspan=\"2\" valign=\"top\">3</th>\n      <th>one</th>\n      <td>-0.463418</td>\n      <td>-0.465730</td>\n      <td>0.241962</td>\n      <td>-1.913280</td>\n      <td>-1.724918</td>\n    </tr>\n    <tr>\n      <th>two</th>\n      <td>-0.601707</td>\n      <td>1.852278</td>\n      <td>-0.013497</td>\n      <td>-1.057711</td>\n      <td>0.822545</td>\n    </tr>\n    <tr>\n      <th rowspan=\"2\" valign=\"top\">4</th>\n      <th>one</th>\n      <td>-0.562288</td>\n      <td>-1.012831</td>\n      <td>0.314247</td>\n      <td>-0.908024</td>\n      <td>-1.412304</td>\n    </tr>\n    <tr>\n      <th>two</th>\n      <td>0.110923</td>\n      <td>-1.150994</td>\n      <td>0.375698</td>\n      <td>-0.600639</td>\n      <td>-0.291694</td>\n    </tr>\n  </tbody>\n</table>\n</div>"
     },
     "metadata": {},
     "execution_count": 24
    }
   ],
   "source": [
    "key_list = ['one', 'one', 'one', 'two', 'two']\n",
    "weekday.groupby([len, key_list]).min()"
   ]
  },
  {
   "cell_type": "markdown",
   "metadata": {},
   "source": [
    "### 数据分组 --> 根据索引层级分组"
   ]
  },
  {
   "cell_type": "code",
   "execution_count": 25,
   "metadata": {},
   "outputs": [
    {
     "output_type": "execute_result",
     "data": {
      "text/plain": [
       "city         sh                            sz          \n",
       "tenor         1         3         5         1         3\n",
       "0     -1.220844  0.208864 -1.959670 -1.328186  0.196861\n",
       "1      0.738467  0.171368 -0.115648 -0.301104 -1.478522\n",
       "2     -0.719844 -0.460639  1.057122  0.343618 -1.763040\n",
       "3      0.324084 -0.385082 -0.676922  0.611676  1.031000"
      ],
      "text/html": "<div>\n<style scoped>\n    .dataframe tbody tr th:only-of-type {\n        vertical-align: middle;\n    }\n\n    .dataframe tbody tr th {\n        vertical-align: top;\n    }\n\n    .dataframe thead tr th {\n        text-align: left;\n    }\n</style>\n<table border=\"1\" class=\"dataframe\">\n  <thead>\n    <tr>\n      <th>city</th>\n      <th colspan=\"3\" halign=\"left\">sh</th>\n      <th colspan=\"2\" halign=\"left\">sz</th>\n    </tr>\n    <tr>\n      <th>tenor</th>\n      <th>1</th>\n      <th>3</th>\n      <th>5</th>\n      <th>1</th>\n      <th>3</th>\n    </tr>\n  </thead>\n  <tbody>\n    <tr>\n      <th>0</th>\n      <td>-1.220844</td>\n      <td>0.208864</td>\n      <td>-1.959670</td>\n      <td>-1.328186</td>\n      <td>0.196861</td>\n    </tr>\n    <tr>\n      <th>1</th>\n      <td>0.738467</td>\n      <td>0.171368</td>\n      <td>-0.115648</td>\n      <td>-0.301104</td>\n      <td>-1.478522</td>\n    </tr>\n    <tr>\n      <th>2</th>\n      <td>-0.719844</td>\n      <td>-0.460639</td>\n      <td>1.057122</td>\n      <td>0.343618</td>\n      <td>-1.763040</td>\n    </tr>\n    <tr>\n      <th>3</th>\n      <td>0.324084</td>\n      <td>-0.385082</td>\n      <td>-0.676922</td>\n      <td>0.611676</td>\n      <td>1.031000</td>\n    </tr>\n  </tbody>\n</table>\n</div>"
     },
     "metadata": {},
     "execution_count": 25
    }
   ],
   "source": [
    "columns = pd.MultiIndex.from_arrays([['sh', 'sh', 'sh', 'sz', 'sz'], [1, 3, 5, 1, 3]], names = ['city', 'tenor'])\n",
    "city_df = DataFrame(np.random.randn(4, 5), columns = columns)\n",
    "city_df"
   ]
  },
  {
   "cell_type": "markdown",
   "metadata": {},
   "source": [
    "根据层级分组时，将层级数值或层级名称传递给level关键字："
   ]
  },
  {
   "cell_type": "code",
   "execution_count": 26,
   "metadata": {},
   "outputs": [
    {
     "output_type": "execute_result",
     "data": {
      "text/plain": [
       "city  sh  sz\n",
       "0      3   2\n",
       "1      3   2\n",
       "2      3   2\n",
       "3      3   2"
      ],
      "text/html": "<div>\n<style scoped>\n    .dataframe tbody tr th:only-of-type {\n        vertical-align: middle;\n    }\n\n    .dataframe tbody tr th {\n        vertical-align: top;\n    }\n\n    .dataframe thead th {\n        text-align: right;\n    }\n</style>\n<table border=\"1\" class=\"dataframe\">\n  <thead>\n    <tr style=\"text-align: right;\">\n      <th>city</th>\n      <th>sh</th>\n      <th>sz</th>\n    </tr>\n  </thead>\n  <tbody>\n    <tr>\n      <th>0</th>\n      <td>3</td>\n      <td>2</td>\n    </tr>\n    <tr>\n      <th>1</th>\n      <td>3</td>\n      <td>2</td>\n    </tr>\n    <tr>\n      <th>2</th>\n      <td>3</td>\n      <td>2</td>\n    </tr>\n    <tr>\n      <th>3</th>\n      <td>3</td>\n      <td>2</td>\n    </tr>\n  </tbody>\n</table>\n</div>"
     },
     "metadata": {},
     "execution_count": 26
    }
   ],
   "source": [
    "city_df.groupby(level='city', axis=1).count()"
   ]
  },
  {
   "cell_type": "markdown",
   "metadata": {},
   "source": [
    "### 数据聚合\n",
    "聚合是指所有数据根据数组产生标量值的数据转换过程，例如以下优化的GroupBy方法：\n",
    "- count: 分组中的非NA值数量\n",
    "- sum: 非NA值的累和\n",
    "- mean: 非NA值的均值\n",
    "- median: 非NA值的算数中位数\n",
    "- std、var: 无偏的(n-1分母)的标准差和方差\n",
    "- min、max: 非NA值的最小值、最大值\n",
    "- prod: 非NA值的累积\n",
    "- first、last: 非NA值的第一个和最后一个值  \n",
    "\n",
    "可以使用自行制定的聚合，并再调用已经在分组对象上定义好的方法，例如可以使用quantile计算Series或DataFrame列的样本分位数。监管quantile并不是显式地为GroupBy对象实现的，但它是Series的方法，因此也可以用于聚合。在内部，GroupBy有效地对Series进行切片，为每一块调用piece.quantile(0.9),然后将这些结果一起组装到结果对象中:"
   ]
  },
  {
   "cell_type": "code",
   "execution_count": 27,
   "metadata": {},
   "outputs": [
    {
     "output_type": "execute_result",
     "data": {
      "text/plain": [
       "  key1 key2     data1     data2\n",
       "0    a  one  0.496714 -0.234137\n",
       "1    a  two -0.138264  1.579213\n",
       "2    b  one  0.647689  0.767435\n",
       "3    b  two  1.523030 -0.469474\n",
       "4    a  one -0.234153  0.542560"
      ],
      "text/html": "<div>\n<style scoped>\n    .dataframe tbody tr th:only-of-type {\n        vertical-align: middle;\n    }\n\n    .dataframe tbody tr th {\n        vertical-align: top;\n    }\n\n    .dataframe thead th {\n        text-align: right;\n    }\n</style>\n<table border=\"1\" class=\"dataframe\">\n  <thead>\n    <tr style=\"text-align: right;\">\n      <th></th>\n      <th>key1</th>\n      <th>key2</th>\n      <th>data1</th>\n      <th>data2</th>\n    </tr>\n  </thead>\n  <tbody>\n    <tr>\n      <th>0</th>\n      <td>a</td>\n      <td>one</td>\n      <td>0.496714</td>\n      <td>-0.234137</td>\n    </tr>\n    <tr>\n      <th>1</th>\n      <td>a</td>\n      <td>two</td>\n      <td>-0.138264</td>\n      <td>1.579213</td>\n    </tr>\n    <tr>\n      <th>2</th>\n      <td>b</td>\n      <td>one</td>\n      <td>0.647689</td>\n      <td>0.767435</td>\n    </tr>\n    <tr>\n      <th>3</th>\n      <td>b</td>\n      <td>two</td>\n      <td>1.523030</td>\n      <td>-0.469474</td>\n    </tr>\n    <tr>\n      <th>4</th>\n      <td>a</td>\n      <td>one</td>\n      <td>-0.234153</td>\n      <td>0.542560</td>\n    </tr>\n  </tbody>\n</table>\n</div>"
     },
     "metadata": {},
     "execution_count": 27
    }
   ],
   "source": [
    "df"
   ]
  },
  {
   "cell_type": "code",
   "execution_count": 28,
   "metadata": {},
   "outputs": [
    {
     "output_type": "execute_result",
     "data": {
      "text/plain": [
       "key1\n",
       "a    0.369718\n",
       "b    1.435496\n",
       "Name: data1, dtype: float64"
      ]
     },
     "metadata": {},
     "execution_count": 28
    }
   ],
   "source": [
    "grouped = df.groupby('key1')\n",
    "grouped.data1.quantile(0.9)"
   ]
  },
  {
   "cell_type": "markdown",
   "metadata": {},
   "source": [
    "要使用自定的聚合函数，需要将函数传递给aggregate或者agg方法:"
   ]
  },
  {
   "cell_type": "code",
   "execution_count": 29,
   "metadata": {},
   "outputs": [
    {
     "output_type": "execute_result",
     "data": {
      "text/plain": [
       "         data1     data2\n",
       "key1                    \n",
       "a     0.730868  1.813350\n",
       "b     0.875341  1.236909"
      ],
      "text/html": "<div>\n<style scoped>\n    .dataframe tbody tr th:only-of-type {\n        vertical-align: middle;\n    }\n\n    .dataframe tbody tr th {\n        vertical-align: top;\n    }\n\n    .dataframe thead th {\n        text-align: right;\n    }\n</style>\n<table border=\"1\" class=\"dataframe\">\n  <thead>\n    <tr style=\"text-align: right;\">\n      <th></th>\n      <th>data1</th>\n      <th>data2</th>\n    </tr>\n    <tr>\n      <th>key1</th>\n      <th></th>\n      <th></th>\n    </tr>\n  </thead>\n  <tbody>\n    <tr>\n      <th>a</th>\n      <td>0.730868</td>\n      <td>1.813350</td>\n    </tr>\n    <tr>\n      <th>b</th>\n      <td>0.875341</td>\n      <td>1.236909</td>\n    </tr>\n  </tbody>\n</table>\n</div>"
     },
     "metadata": {},
     "execution_count": 29
    }
   ],
   "source": [
    "def peak_to_peak(arr):\n",
    "    return arr.max() - arr.min()\n",
    "\n",
    "\n",
    "grouped.agg(peak_to_peak)"
   ]
  },
  {
   "cell_type": "markdown",
   "metadata": {},
   "source": [
    "自定义聚合函数通常比优化的GroupBy方法慢得多，因为在构造中间组数据块时有一些额外的开销(函数调用、数据重新排列等)！"
   ]
  },
  {
   "cell_type": "markdown",
   "metadata": {},
   "source": [
    "### 数据聚合 --> 使用指定分组值填充缺失值\n",
    "假设需要填充值按组来变化，一个方法是对数据分组后使用apply和一个在每个数据块上都调用fillna的函数："
   ]
  },
  {
   "cell_type": "code",
   "execution_count": 30,
   "metadata": {},
   "outputs": [
    {
     "output_type": "execute_result",
     "data": {
      "text/plain": [
       "Shanghai    0.931280\n",
       "Suzhou     -0.839218\n",
       "Hangzhou         NaN\n",
       "Hefei       0.331263\n",
       "Xian        0.975545\n",
       "Lanzhou          NaN\n",
       "Chengdu    -0.185659\n",
       "Lasa             NaN\n",
       "dtype: float64"
      ]
     },
     "metadata": {},
     "execution_count": 30
    }
   ],
   "source": [
    "cities = ['Shanghai', 'Suzhou', 'Hangzhou', 'Hefei', 'Xian', 'Lanzhou', 'Chengdu', 'Lasa']\n",
    "group_key = ['East'] * 4 + ['West'] * 4\n",
    "data = Series(np.random.randn(8), index=cities)\n",
    "data[['Hangzhou', 'Lanzhou', 'Lasa']] = np.nan\n",
    "data"
   ]
  },
  {
   "cell_type": "code",
   "execution_count": 31,
   "metadata": {},
   "outputs": [
    {
     "output_type": "execute_result",
     "data": {
      "text/plain": [
       "East    0.141109\n",
       "West    0.394943\n",
       "dtype: float64"
      ]
     },
     "metadata": {},
     "execution_count": 31
    }
   ],
   "source": [
    "data.groupby(group_key).mean()"
   ]
  },
  {
   "cell_type": "markdown",
   "metadata": {},
   "source": [
    "使用分组的平均值来填充NA值："
   ]
  },
  {
   "cell_type": "code",
   "execution_count": 32,
   "metadata": {},
   "outputs": [
    {
     "output_type": "execute_result",
     "data": {
      "text/plain": [
       "Shanghai    0.931280\n",
       "Suzhou     -0.839218\n",
       "Hangzhou    0.141109\n",
       "Hefei       0.331263\n",
       "Xian        0.975545\n",
       "Lanzhou     0.394943\n",
       "Chengdu    -0.185659\n",
       "Lasa        0.394943\n",
       "dtype: float64"
      ]
     },
     "metadata": {},
     "execution_count": 32
    }
   ],
   "source": [
    "data.groupby(group_key).apply(lambda g: g.fillna(g.mean()))"
   ]
  },
  {
   "cell_type": "markdown",
   "metadata": {},
   "source": [
    "在另一种情况下，可能在代码中已经为每个分组预定义了填充值，由于每个分组都有一个内置的name属性，可以这样使用："
   ]
  },
  {
   "cell_type": "code",
   "execution_count": 33,
   "metadata": {},
   "outputs": [
    {
     "output_type": "execute_result",
     "data": {
      "text/plain": [
       "Shanghai    0.931280\n",
       "Suzhou     -0.839218\n",
       "Hangzhou    0.500000\n",
       "Hefei       0.331263\n",
       "Xian        0.975545\n",
       "Lanzhou    -1.000000\n",
       "Chengdu    -0.185659\n",
       "Lasa       -1.000000\n",
       "dtype: float64"
      ]
     },
     "metadata": {},
     "execution_count": 33
    }
   ],
   "source": [
    "fill_values = {'East': 0.5, 'West': -1}\n",
    "fill_func = lambda g: g.fillna(fill_values[g.name])\n",
    "data.groupby(group_key).apply(fill_func)"
   ]
  }
 ],
 "metadata": {
  "kernelspec": {
   "name": "python385jvsc74a57bd07b4b4feff2f24a0f0a34464dbe537a36fda679851528fb8735cb41fa49dffb2d",
   "display_name": "Python 3.8.5 64-bit ('base': conda)"
  },
  "language_info": {
   "codemirror_mode": {
    "name": "ipython",
    "version": 3
   },
   "file_extension": ".py",
   "mimetype": "text/x-python",
   "name": "python",
   "nbconvert_exporter": "python",
   "pygments_lexer": "ipython3",
   "version": "3.8.5"
  }
 },
 "nbformat": 4,
 "nbformat_minor": 4
}