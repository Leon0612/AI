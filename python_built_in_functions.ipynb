{
 "metadata": {
  "language_info": {
   "codemirror_mode": {
    "name": "ipython",
    "version": 3
   },
   "file_extension": ".py",
   "mimetype": "text/x-python",
   "name": "python",
   "nbconvert_exporter": "python",
   "pygments_lexer": "ipython3",
   "version": "3.8.5"
  },
  "orig_nbformat": 2,
  "kernelspec": {
   "name": "python385jvsc74a57bd07b4b4feff2f24a0f0a34464dbe537a36fda679851528fb8735cb41fa49dffb2d",
   "display_name": "Python 3.8.5 64-bit ('base': conda)"
  }
 },
 "nbformat": 4,
 "nbformat_minor": 2,
 "cells": [
  {
   "source": [
    "### MENU\n",
    "1. print()\n",
    "2. type()\n",
    "3. repr()\n",
    "4. input()\n",
    "5. bytes()\n",
    "6. dir()\n",
    "7. enumerate()\n",
    "8. zip()\n",
    "9. foramt(), hash(), id()\n",
    "10. iter(), range(), next(), reversed()\n",
    "11. 用列表推导代替map()和filter()"
   ],
   "cell_type": "markdown",
   "metadata": {}
  },
  {
   "source": [
    "### print(v1, v2, ..., sep=' ', end='\\n', file=sys.stdout, flush=False)\n",
    "1. file参数指定函数的输出目标，sys.stdout表示系统默认输出(屏幕)，也可以打开一个文件然后写入到文件中。  \n",
    "2. flush参数用于控制输出缓存，该参数一般保持为False，可以获得较好的性能。"
   ],
   "cell_type": "markdown",
   "metadata": {}
  },
  {
   "cell_type": "code",
   "execution_count": 1,
   "metadata": {},
   "outputs": [
    {
     "output_type": "stream",
     "name": "stdout",
     "text": [
      "this travel book is saled: 98, it has 520.00 pages\n"
     ]
    }
   ],
   "source": [
    "n = 'travel'\n",
    "p = 98.5\n",
    "s = 520\n",
    "print('this %s book is saled: %d, it has %.2f pages' % (n, p, s))"
   ]
  },
  {
   "source": [
    "### type()"
   ],
   "cell_type": "markdown",
   "metadata": {}
  },
  {
   "cell_type": "code",
   "execution_count": 2,
   "metadata": {},
   "outputs": [
    {
     "output_type": "execute_result",
     "data": {
      "text/plain": [
       "int"
      ]
     },
     "metadata": {},
     "execution_count": 2
    }
   ],
   "source": [
    "a = 1\n",
    "type(a)"
   ]
  },
  {
   "source": [
    "### repr()\n",
    "str是Python的内置类型，而repr只是一个函数。此外，repr会以Python表达式的形式来表示值，即带引号的字符串:"
   ],
   "cell_type": "markdown",
   "metadata": {}
  },
  {
   "cell_type": "code",
   "execution_count": 3,
   "metadata": {},
   "outputs": [
    {
     "output_type": "stream",
     "name": "stdout",
     "text": [
      "plant to cup\n'plant to cup'\n"
     ]
    }
   ],
   "source": [
    "st = 'plant to cup'\n",
    "\n",
    "print(st)\n",
    "print(repr(st))"
   ]
  },
  {
   "source": [
    "### input()"
   ],
   "cell_type": "markdown",
   "metadata": {}
  },
  {
   "cell_type": "code",
   "execution_count": 4,
   "metadata": {},
   "outputs": [
    {
     "output_type": "stream",
     "name": "stdout",
     "text": [
      "612\n"
     ]
    }
   ],
   "source": [
    "a = input(\"please enter a number: \")\n",
    "print(a)"
   ]
  },
  {
   "source": [
    "### bytes()"
   ],
   "cell_type": "markdown",
   "metadata": {}
  },
  {
   "cell_type": "code",
   "execution_count": 5,
   "metadata": {},
   "outputs": [
    {
     "output_type": "stream",
     "name": "stdout",
     "text": [
      "b'\\xe4\\xb8\\x80\\xe4\\xba\\x8c\\xe4\\xb8\\x89\\xe5\\x9b\\x9b'\nb'\\xe4\\xb8\\x80\\xe4\\xba\\x8c\\xe4\\xb8\\x89\\xe5\\x9b\\x9b'\n"
     ]
    }
   ],
   "source": [
    "b1 = bytes('一二三四', encoding='utf-8')\n",
    "b2 = '一二三四'.encode('utf-8')\n",
    "print(b1)\n",
    "print(b2)"
   ]
  },
  {
   "cell_type": "code",
   "execution_count": 6,
   "metadata": {},
   "outputs": [
    {
     "output_type": "execute_result",
     "data": {
      "text/plain": [
       "'一二三四'"
      ]
     },
     "metadata": {},
     "execution_count": 6
    }
   ],
   "source": [
    "b3 = b2.decode('utf-8')\n",
    "b3"
   ]
  },
  {
   "source": [
    "### dir(): 列出指定类和模块包含的全部内容(函数、方法、类、变量)"
   ],
   "cell_type": "markdown",
   "metadata": {}
  },
  {
   "cell_type": "code",
   "execution_count": 7,
   "metadata": {},
   "outputs": [
    {
     "output_type": "execute_result",
     "data": {
      "text/plain": [
       "['__add__', '__class__', '__contains__', '__delattr__']"
      ]
     },
     "metadata": {},
     "execution_count": 7
    }
   ],
   "source": [
    "dir(str)[:4]"
   ]
  },
  {
   "source": [
    "其中以双下划线开头和结尾的方法被约定成私有方法，不希望被外部直接调用，查看某方法的用法，使用help函数:"
   ],
   "cell_type": "markdown",
   "metadata": {}
  },
  {
   "cell_type": "code",
   "execution_count": 8,
   "metadata": {},
   "outputs": [
    {
     "output_type": "stream",
     "name": "stdout",
     "text": [
      "Help on method_descriptor:\n\nstartswith(...)\n    S.startswith(prefix[, start[, end]]) -> bool\n    \n    Return True if S starts with the specified prefix, False otherwise.\n    With optional start, test S beginning at that position.\n    With optional end, stop comparing S at that position.\n    prefix can also be a tuple of strings to try.\n\n"
     ]
    }
   ],
   "source": [
    "help(str.startswith)"
   ]
  },
  {
   "cell_type": "code",
   "execution_count": 9,
   "metadata": {},
   "outputs": [
    {
     "output_type": "execute_result",
     "data": {
      "text/plain": [
       "['split', 'splitlines', 'startswith', 'strip', 'swapcase']"
      ]
     },
     "metadata": {},
     "execution_count": 9
    }
   ],
   "source": [
    "[e for e in dir(str) if not e.startswith('_') and e.startswith('s')]"
   ]
  },
  {
   "source": [
    "定义类的dir方法:"
   ],
   "cell_type": "markdown",
   "metadata": {}
  },
  {
   "cell_type": "code",
   "execution_count": 10,
   "metadata": {},
   "outputs": [
    {
     "output_type": "execute_result",
     "data": {
      "text/plain": [
       "['area', 'location', 'perimeter']"
      ]
     },
     "metadata": {},
     "execution_count": 10
    }
   ],
   "source": [
    "class Shape:\n",
    "    def __dir__(self):\n",
    "        return ['area', 'perimeter', 'location']\n",
    "\n",
    "s = Shape()\n",
    "dir(s)"
   ]
  },
  {
   "source": [
    "### enumerate: 返回一个枚举对象\n",
    "尽量用enumerate改写那种将range与下标访问相结合的序列遍历代码:"
   ],
   "cell_type": "markdown",
   "metadata": {}
  },
  {
   "cell_type": "code",
   "execution_count": 11,
   "metadata": {},
   "outputs": [
    {
     "output_type": "execute_result",
     "data": {
      "text/plain": [
       "<enumerate at 0x1c7d3914400>"
      ]
     },
     "metadata": {},
     "execution_count": 11
    }
   ],
   "source": [
    "seasons = ['Spring', 'Summer', 'Fall', 'Winter']\n",
    "seasons = enumerate(seasons)\n",
    "seasons"
   ]
  },
  {
   "cell_type": "code",
   "execution_count": 12,
   "metadata": {},
   "outputs": [
    {
     "output_type": "execute_result",
     "data": {
      "text/plain": [
       "[(0, 'Spring'), (1, 'Summer'), (2, 'Fall'), (3, 'Winter')]"
      ]
     },
     "metadata": {},
     "execution_count": 12
    }
   ],
   "source": [
    "list(seasons)"
   ]
  },
  {
   "cell_type": "code",
   "execution_count": 13,
   "metadata": {},
   "outputs": [
    {
     "output_type": "execute_result",
     "data": {
      "text/plain": [
       "{0: 'foo', 1: 'bar', 2: 'baz'}"
      ]
     },
     "metadata": {},
     "execution_count": 13
    }
   ],
   "source": [
    "some_list = ['foo', 'bar', 'baz']\n",
    "mapping = {}\n",
    "for i, v in enumerate(some_list):\n",
    "    mapping[i] = v\n",
    "\n",
    "mapping"
   ]
  },
  {
   "source": [
    "### zip()"
   ],
   "cell_type": "markdown",
   "metadata": {}
  },
  {
   "cell_type": "code",
   "execution_count": 14,
   "metadata": {},
   "outputs": [
    {
     "output_type": "execute_result",
     "data": {
      "text/plain": [
       "[('a', 1), ('b', 2), ('c', 3)]"
      ]
     },
     "metadata": {},
     "execution_count": 14
    }
   ],
   "source": [
    "a = ['a', 'b', 'c']\n",
    "b = [1, 2, 3]\n",
    "[x for x in zip(a, b)]"
   ]
  },
  {
   "source": [
    "zip可以处理任意长度的序列，它生成列表的长度由最短的序列决定。itertools内置模块中的zip_longest函数可以平行地遍历多个迭代器，而不用考虑他们的长度是否相等:"
   ],
   "cell_type": "markdown",
   "metadata": {}
  },
  {
   "cell_type": "code",
   "execution_count": 15,
   "metadata": {},
   "outputs": [
    {
     "output_type": "execute_result",
     "data": {
      "text/plain": [
       "[('foo', 'one', False), ('bar', 'two', True)]"
      ]
     },
     "metadata": {},
     "execution_count": 15
    }
   ],
   "source": [
    "seq1 = ['foo', 'bar', 'baz']\n",
    "seq2 = ['one', 'two', 'three']\n",
    "seq3 = [False, True]\n",
    "zipped = zip(seq1, seq2, seq3)\n",
    "list(zipped)"
   ]
  },
  {
   "cell_type": "code",
   "execution_count": 16,
   "metadata": {},
   "outputs": [
    {
     "output_type": "stream",
     "name": "stdout",
     "text": [
      "0: foo, one\n1: bar, two\n2: baz, three\n"
     ]
    }
   ],
   "source": [
    "for i, (a, b) in enumerate(zip(seq1, seq2)):\n",
    "    print('{0}: {1}, {2}'.format(i, a, b))"
   ]
  },
  {
   "source": [
    "给定一个已配对的序列时，zip函数可以拆分序列:"
   ],
   "cell_type": "markdown",
   "metadata": {}
  },
  {
   "cell_type": "code",
   "execution_count": 17,
   "metadata": {},
   "outputs": [
    {
     "output_type": "stream",
     "name": "stdout",
     "text": [
      "('A', 'B', 'C', 'D')\n('a', 'b', 'c', 'd')\n"
     ]
    }
   ],
   "source": [
    "pitchers = [('A', 'a'), ('B', 'b'), ('C', 'c'), ('D', 'd')]\n",
    "first, second = zip(*pitchers)\n",
    "\n",
    "print(first)\n",
    "print(second)"
   ]
  },
  {
   "source": [
    "### format(), hash(), id()"
   ],
   "cell_type": "markdown",
   "metadata": {}
  },
  {
   "cell_type": "code",
   "execution_count": 18,
   "metadata": {},
   "outputs": [
    {
     "output_type": "stream",
     "name": "stdout",
     "text": [
      "123.46\n1053078502307889275\n1957759131248\n"
     ]
    }
   ],
   "source": [
    "a = 123.4567\n",
    "print(format(a, '.2f'))\n",
    "print(hash(a))          # 返回该对象的哈希值(如果它有的话)\n",
    "print(id(a))            # 返回对象的\"标识值\", 该值是在此对象的生命周期中是唯一且恒定的。两个生命期不重叠的对象可能具有相同的id值"
   ]
  },
  {
   "source": [
    "### iter(): 生成迭代器\n",
    "### range(): 返回一个迭代器，类型是对象\n",
    "### next(iterator): 通过调用iterator的\\__next\\__()方法获取下一个元素\n",
    "### reversed(seq): 返回一个反向的iterator"
   ],
   "cell_type": "markdown",
   "metadata": {}
  },
  {
   "cell_type": "code",
   "execution_count": 19,
   "metadata": {},
   "outputs": [
    {
     "output_type": "stream",
     "name": "stdout",
     "text": [
      "0\n1\n2\n3\n4\n"
     ]
    }
   ],
   "source": [
    "it = iter(list(range(5)))         # range(start, stop [, step])\n",
    "\n",
    "while True:\n",
    "    try:\n",
    "        print(next(it))           # 如果迭代器耗尽，则返回给定的default，如果没有默认值则触发StopIteration\n",
    "    except StopIteration:\n",
    "        break"
   ]
  },
  {
   "cell_type": "code",
   "execution_count": 20,
   "metadata": {},
   "outputs": [
    {
     "output_type": "stream",
     "name": "stdout",
     "text": [
      "4\n",
      "3\n",
      "2\n",
      "1\n",
      "0\n"
     ]
    }
   ],
   "source": [
    "it_reverse = reversed(list(range(5)))\n",
    "\n",
    "while True:\n",
    "    try:\n",
    "        print(next(it_reverse))\n",
    "    except StopIteration:\n",
    "        break"
   ]
  },
  {
   "source": [
    "### getattr(): 返回对象命名属性的值"
   ],
   "cell_type": "markdown",
   "metadata": {}
  },
  {
   "cell_type": "code",
   "execution_count": 21,
   "metadata": {},
   "outputs": [
    {
     "output_type": "execute_result",
     "data": {
      "text/plain": [
       "123"
      ]
     },
     "metadata": {},
     "execution_count": 21
    }
   ],
   "source": [
    "class A:\n",
    "    num = 123\n",
    "\n",
    "\n",
    "a = A()\n",
    "getattr(a, 'num')"
   ]
  },
  {
   "source": [
    "### isinstance(object, classinfo)\n",
    "如果参数object是参数classinfo的实例或者是其(直接、间接或虚拟)子类则返回True。如果不是返回False。如果classinfo是类型对象元组(或由其他此类元组递归组成的元组)，那么如果object是其中任何一个类型的实例就返回True。如果classinfo既不是类型，也不是类型元组或类型元组的元组，则将引发TypeError异常。"
   ],
   "cell_type": "markdown",
   "metadata": {}
  },
  {
   "source": [
    "### issubclass(class, classinfo)\n",
    "如果class是classinfo的(直接、间接或虚拟)子类则返回True。类会被视作其自身的子类。classinfo也可以是类对象的元组，在此情况下classinfo 中的每个条目都将被检查。在任何其他情况下，都将引发TypeError异常。"
   ],
   "cell_type": "markdown",
   "metadata": {}
  },
  {
   "source": [
    "### 列表推导 --> 用列表推导来代替map和filter两个内置函数\n",
    "1. map(function, iterable, ...): 返回一个将function应用于iterable中每一项并输出其结果的迭代器。如果传入了额外的iterable参数，function必须接受相同个数的实参并被应用于从所有可迭代对象中并行获取的项。当有多个可迭代对象时，最短的可迭代对象耗尽则整个迭代就将结束。\n",
    "\n",
    "2. filter(function, iterable)"
   ],
   "cell_type": "markdown",
   "metadata": {}
  },
  {
   "cell_type": "code",
   "execution_count": 22,
   "metadata": {},
   "outputs": [
    {
     "output_type": "execute_result",
     "data": {
      "text/plain": [
       "[0, 1, 4, 9, 16]"
      ]
     },
     "metadata": {},
     "execution_count": 22
    }
   ],
   "source": [
    "a = list(range(5))\n",
    "b = map(lambda x: x**2, a)          # Better: [x**2 for x in list(range(5))]\n",
    "list(b)"
   ]
  },
  {
   "cell_type": "code",
   "execution_count": 23,
   "metadata": {},
   "outputs": [
    {
     "output_type": "execute_result",
     "data": {
      "text/plain": [
       "[-3, -7]"
      ]
     },
     "metadata": {},
     "execution_count": 23
    }
   ],
   "source": [
    "nums = [1, -3, 2, 9, -7, 10]\n",
    "negatives = filter(lambda x: x < 0, nums)      # Better: [x for x in [1, -3, 2, 9, -7, 10] if x < 0]\n",
    "list(negatives)"
   ]
  },
  {
   "source": [
    "dict和set也有类似的推导机制:"
   ],
   "cell_type": "markdown",
   "metadata": {}
  },
  {
   "cell_type": "code",
   "execution_count": 24,
   "metadata": {},
   "outputs": [
    {
     "output_type": "stream",
     "name": "stdout",
     "text": [
      "{1: 'java', 2: 'c++', 3: 'python'}\n{3, 4, 6}\n"
     ]
    }
   ],
   "source": [
    "ranks = {'java': 1, 'c++': 2, 'python': 3}\n",
    "rank_dict = {rank: name for name, rank in ranks.items()}\n",
    "len_rank = {len(name) for name in rank_dict.values()}\n",
    "print(rank_dict)\n",
    "print(len_rank)"
   ]
  },
  {
   "source": [
    "### 避免使用含有两个以上表达式的列表推导"
   ],
   "cell_type": "markdown",
   "metadata": {}
  },
  {
   "cell_type": "code",
   "execution_count": 25,
   "metadata": {},
   "outputs": [
    {
     "output_type": "stream",
     "name": "stdout",
     "text": [
      "[1, 2, 3, 4, 5, 6, 7, 8, 9]\n[[1, 4, 9], [16, 25, 36], [49, 64, 81]]\n"
     ]
    }
   ],
   "source": [
    "# 下面两个例子容易理解，如果更加复杂的话则会难以理解\n",
    "matrix = [[1, 2, 3], [4, 5, 6], [7, 8, 9]]\n",
    "flat = [x for row in matrix for x in row]\n",
    "squared = [[x**2 for x in row] for row in matrix]\n",
    "print(flat)\n",
    "print(squared)"
   ]
  },
  {
   "source": [
    "### 用生成器表达式来改写数据量较大的列表推导\n",
    "列表推导的缺点：在推导的过程中，对于输入序列的每个值可能都要创建仅含一项元素的全新列表，如果输入的数据非常多，可能会消耗大量内存并导致程序崩溃。为解决此问题，Python提供了生成器表达式，它是对列表推导和生成器的一种泛化。把实现列表推导的表达式放入一对圆括号中，就构成了生成器表达式。对其求值时，它会立即返回一个迭代器，而不会把整个输入序列都呈现出来。"
   ],
   "cell_type": "markdown",
   "metadata": {}
  }
 ]
}