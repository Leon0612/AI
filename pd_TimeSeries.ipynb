{
 "cells": [
  {
   "cell_type": "markdown",
   "metadata": {},
   "source": [
    "### 日期和时间数据的类型及工具"
   ]
  },
  {
   "cell_type": "code",
   "execution_count": 1,
   "metadata": {},
   "outputs": [],
   "source": [
    "from datetime import datetime, timedelta\n",
    "import numpy as np\n",
    "import pandas as pd\n",
    "from pandas import Series, DataFrame"
   ]
  },
  {
   "cell_type": "code",
   "execution_count": 2,
   "metadata": {},
   "outputs": [
    {
     "output_type": "stream",
     "name": "stdout",
     "text": [
      "2021-05-24 16:28:12.634761\n2021 5 24\n"
     ]
    }
   ],
   "source": [
    "now = datetime.now()\n",
    "print(now)\n",
    "print(now.year, now.month, now.day)     "
   ]
  },
  {
   "cell_type": "code",
   "execution_count": 3,
   "metadata": {},
   "outputs": [
    {
     "output_type": "stream",
     "name": "stdout",
     "text": [
      "1065 days, 8:13:12.649838\n1065 29592\n"
     ]
    }
   ],
   "source": [
    "delta = datetime.now() - datetime(2018, 6, 24, 8, 15)\n",
    "print(delta)\n",
    "print(delta.days, delta.seconds)"
   ]
  },
  {
   "cell_type": "code",
   "execution_count": 4,
   "metadata": {},
   "outputs": [
    {
     "output_type": "execute_result",
     "data": {
      "text/plain": [
       "datetime.datetime(2021, 6, 12, 0, 0)"
      ]
     },
     "metadata": {},
     "execution_count": 4
    }
   ],
   "source": [
    "start = datetime(2021, 5, 24)\n",
    "start + timedelta(19)"
   ]
  },
  {
   "cell_type": "markdown",
   "metadata": {},
   "source": [
    "### 字符串与datetime互相转换\n",
    "可以使用str方法或者传递一个指定的格式给strftime方法来对datetime对象和pandas的Timestamp对象进行格式化:"
   ]
  },
  {
   "cell_type": "code",
   "execution_count": 5,
   "metadata": {},
   "outputs": [
    {
     "output_type": "stream",
     "name": "stdout",
     "text": [
      "2021-06-12 00:00:00\n2021-06-12\n6\n"
     ]
    }
   ],
   "source": [
    "stamp = datetime(2021, 6, 12)\n",
    "str_stamp = str(stamp)\n",
    "strf_stamp = stamp.strftime('%Y-%m-%d')      # equivalents to stamp.strftime('%F')\n",
    "weekday_stamp = stamp.strftime('%w')\n",
    "print(str_stamp)\n",
    "print(strf_stamp)\n",
    "print(weekday_stamp)"
   ]
  },
  {
   "cell_type": "markdown",
   "metadata": {},
   "source": [
    "### datetime格式\n",
    "- %Y 四位数的年份\n",
    "- %m 两位数的月份\n",
    "- %d 两位数的日期\n",
    "- %H 24小时制的小时\n",
    "- %M 两位的分钟\n",
    "- %S 秒\n",
    "- %w 星期几，0是星期天\n",
    "- %W 一年中的星期数，以星期一为每周的第一天，一年中第一个星期日前的日期为第0周\n",
    "- %F %Y-%m-%d的简写  \n",
    "\n",
    "可以使用datetime.strptime和这些格式代码，将字符串转换为日期，datetime.strptime是在已知格式的情况下转换日期的好方式："
   ]
  },
  {
   "cell_type": "code",
   "execution_count": 6,
   "metadata": {},
   "outputs": [
    {
     "output_type": "execute_result",
     "data": {
      "text/plain": [
       "datetime.datetime(2021, 6, 12, 0, 0)"
      ]
     },
     "metadata": {},
     "execution_count": 6
    }
   ],
   "source": [
    "value = '2021-06-12'\n",
    "datetime.strptime(value, '%Y-%m-%d')"
   ]
  },
  {
   "cell_type": "code",
   "execution_count": 7,
   "metadata": {},
   "outputs": [
    {
     "output_type": "execute_result",
     "data": {
      "text/plain": [
       "[datetime.datetime(2021, 6, 12, 0, 0), datetime.datetime(2021, 6, 12, 0, 0)]"
      ]
     },
     "metadata": {},
     "execution_count": 7
    }
   ],
   "source": [
    "datestrs = ['6/12/2021', '6/12/2021']\n",
    "[datetime.strptime(x, '%m/%d/%Y') for x in datestrs]"
   ]
  },
  {
   "cell_type": "markdown",
   "metadata": {},
   "source": [
    "### pd.to_datetime"
   ]
  },
  {
   "cell_type": "code",
   "execution_count": 8,
   "metadata": {},
   "outputs": [
    {
     "output_type": "execute_result",
     "data": {
      "text/plain": [
       "DatetimeIndex(['2021-06-12 12:00:00', '2021-12-06 00:00:00'], dtype='datetime64[ns]', freq=None)"
      ]
     },
     "metadata": {},
     "execution_count": 8
    }
   ],
   "source": [
    "datestrs = ['2021-06-12 12:00:00', '2021-12-6 00:00:00']\n",
    "pd.to_datetime(datestrs)"
   ]
  },
  {
   "cell_type": "markdown",
   "metadata": {},
   "source": [
    "to_dateframe方法还可以处理那些被认为是缺失值的值(None，空字符串等):"
   ]
  },
  {
   "cell_type": "code",
   "execution_count": 9,
   "metadata": {},
   "outputs": [
    {
     "output_type": "execute_result",
     "data": {
      "text/plain": [
       "DatetimeIndex(['2021-06-12 12:00:00', '2021-12-06 00:00:00', 'NaT'], dtype='datetime64[ns]', freq=None)"
      ]
     },
     "metadata": {},
     "execution_count": 9
    }
   ],
   "source": [
    "idx = pd.to_datetime(datestrs + [None])\n",
    "idx"
   ]
  },
  {
   "cell_type": "code",
   "execution_count": 10,
   "metadata": {},
   "outputs": [
    {
     "output_type": "execute_result",
     "data": {
      "text/plain": [
       "NaT"
      ]
     },
     "metadata": {},
     "execution_count": 10
    }
   ],
   "source": [
    "idx[2]     # NaT，not a time是pandas中时间戳数据的是null值"
   ]
  },
  {
   "cell_type": "code",
   "execution_count": 11,
   "metadata": {},
   "outputs": [
    {
     "output_type": "execute_result",
     "data": {
      "text/plain": [
       "array([False, False,  True])"
      ]
     },
     "metadata": {},
     "execution_count": 11
    }
   ],
   "source": [
    "pd.isnull(idx)"
   ]
  },
  {
   "cell_type": "markdown",
   "metadata": {},
   "source": [
    "### 时间序列: 以时间戳为索引的Series或DateFrame"
   ]
  },
  {
   "cell_type": "code",
   "execution_count": 12,
   "metadata": {},
   "outputs": [
    {
     "output_type": "execute_result",
     "data": {
      "text/plain": [
       "2021-04-01   -0.506298\n",
       "2021-04-05   -1.212571\n",
       "2021-04-07   -0.502677\n",
       "2021-04-09   -1.805604\n",
       "2021-04-10    0.048688\n",
       "2021-04-15    1.780234\n",
       "dtype: float64"
      ]
     },
     "metadata": {},
     "execution_count": 12
    }
   ],
   "source": [
    "dates = [datetime(2021,4,1), datetime(2021,4,5), datetime(2021,4,7),\n",
    "         datetime(2021,4,9), datetime(2021,4,10), datetime(2021,4,15)]\n",
    "ts = Series(np.random.randn(6), index=dates)\n",
    "ts"
   ]
  },
  {
   "cell_type": "code",
   "execution_count": 13,
   "metadata": {
    "scrolled": true
   },
   "outputs": [
    {
     "output_type": "execute_result",
     "data": {
      "text/plain": [
       "DatetimeIndex(['2021-04-01', '2021-04-05', '2021-04-07', '2021-04-09',\n",
       "               '2021-04-10', '2021-04-15'],\n",
       "              dtype='datetime64[ns]', freq=None)"
      ]
     },
     "metadata": {},
     "execution_count": 13
    }
   ],
   "source": [
    "ts.index"
   ]
  },
  {
   "cell_type": "code",
   "execution_count": 14,
   "metadata": {},
   "outputs": [
    {
     "output_type": "execute_result",
     "data": {
      "text/plain": [
       "dtype('<M8[ns]')"
      ]
     },
     "metadata": {},
     "execution_count": 14
    }
   ],
   "source": [
    "# pandas使用Numpy的datetime64数据类型在纳秒级的分辨率下存储时间戳\n",
    "ts.index.dtype"
   ]
  },
  {
   "cell_type": "markdown",
   "metadata": {},
   "source": [
    "不同索引的时间序列之间的算数运算在日期上自动对齐:"
   ]
  },
  {
   "cell_type": "code",
   "execution_count": 15,
   "metadata": {},
   "outputs": [
    {
     "output_type": "execute_result",
     "data": {
      "text/plain": [
       "2021-04-01   -1.012597\n",
       "2021-04-05         NaN\n",
       "2021-04-07   -1.005354\n",
       "2021-04-09         NaN\n",
       "2021-04-10    0.097376\n",
       "2021-04-15         NaN\n",
       "dtype: float64"
      ]
     },
     "metadata": {},
     "execution_count": 15
    }
   ],
   "source": [
    "ts + ts[::2]        # ts[::2]将ts中每隔一个的元素取出"
   ]
  },
  {
   "cell_type": "markdown",
   "metadata": {},
   "source": [
    "创建的时间序列Series的索引为DatetimeIndex对象，而DatetimeIndex对象的每个标量值是pandas的Timestamp对象，该对象可以保存频率信息:"
   ]
  },
  {
   "cell_type": "code",
   "execution_count": 16,
   "metadata": {},
   "outputs": [
    {
     "output_type": "execute_result",
     "data": {
      "text/plain": [
       "-0.5026771472987005"
      ]
     },
     "metadata": {},
     "execution_count": 16
    }
   ],
   "source": [
    "ts[2]"
   ]
  },
  {
   "cell_type": "markdown",
   "metadata": {},
   "source": [
    "### 索引、选择、子集\n",
    "当基于标签进行索引和选择时，时间序列的行为和其他pandas.Series类似:"
   ]
  },
  {
   "cell_type": "code",
   "execution_count": 17,
   "metadata": {},
   "outputs": [
    {
     "output_type": "execute_result",
     "data": {
      "text/plain": [
       "-0.5026771472987005"
      ]
     },
     "metadata": {},
     "execution_count": 17
    }
   ],
   "source": [
    "stamp = ts.index[2]\n",
    "ts[stamp]"
   ]
  },
  {
   "cell_type": "markdown",
   "metadata": {},
   "source": [
    "可以传入一个能解释为日期的字符串："
   ]
  },
  {
   "cell_type": "code",
   "execution_count": 18,
   "metadata": {},
   "outputs": [
    {
     "output_type": "execute_result",
     "data": {
      "text/plain": [
       "-0.5062984509650735"
      ]
     },
     "metadata": {},
     "execution_count": 18
    }
   ],
   "source": [
    "ts['20210401']"
   ]
  },
  {
   "cell_type": "markdown",
   "metadata": {},
   "source": [
    "对于长时间序列，可以通过年、月获取时间序列的切片:"
   ]
  },
  {
   "cell_type": "code",
   "execution_count": 19,
   "metadata": {},
   "outputs": [
    {
     "output_type": "execute_result",
     "data": {
      "text/plain": [
       "2018-01-01   -0.352418\n",
       "2018-01-02   -0.734847\n",
       "2018-01-03   -0.324235\n",
       "2018-01-04   -1.335168\n",
       "2018-01-05    1.339721\n",
       "                ...   \n",
       "2020-09-22   -1.471699\n",
       "2020-09-23   -0.864000\n",
       "2020-09-24   -0.985652\n",
       "2020-09-25   -0.595978\n",
       "2020-09-26    1.512416\n",
       "Freq: D, Length: 1000, dtype: float64"
      ]
     },
     "metadata": {},
     "execution_count": 19
    }
   ],
   "source": [
    "long_ts = Series(np.random.randn(1000), index=pd.date_range('1/1/2018', periods=1000))\n",
    "long_ts"
   ]
  },
  {
   "cell_type": "code",
   "execution_count": 20,
   "metadata": {
    "scrolled": true
   },
   "outputs": [
    {
     "output_type": "execute_result",
     "data": {
      "text/plain": [
       "2018-01-01   -0.352418\n",
       "2018-01-02   -0.734847\n",
       "2018-01-03   -0.324235\n",
       "2018-01-04   -1.335168\n",
       "2018-01-05    1.339721\n",
       "                ...   \n",
       "2018-12-27    2.604432\n",
       "2018-12-28    1.694335\n",
       "2018-12-29    0.653961\n",
       "2018-12-30    0.192852\n",
       "2018-12-31   -0.640476\n",
       "Freq: D, Length: 365, dtype: float64"
      ]
     },
     "metadata": {},
     "execution_count": 20
    }
   ],
   "source": [
    "long_ts['2018']"
   ]
  },
  {
   "cell_type": "code",
   "execution_count": 21,
   "metadata": {},
   "outputs": [
    {
     "output_type": "execute_result",
     "data": {
      "text/plain": [
       "31"
      ]
     },
     "metadata": {},
     "execution_count": 21
    }
   ],
   "source": [
    "long_ts['2018-12'].count()"
   ]
  },
  {
   "cell_type": "code",
   "execution_count": 22,
   "metadata": {
    "scrolled": true
   },
   "outputs": [
    {
     "output_type": "execute_result",
     "data": {
      "text/plain": [
       "2020-01-01    1.346938\n",
       "2020-01-02    0.430164\n",
       "2020-01-03   -1.449413\n",
       "2020-01-04   -1.982574\n",
       "2020-01-05   -0.942428\n",
       "                ...   \n",
       "2020-06-26   -1.667307\n",
       "2020-06-27   -0.332475\n",
       "2020-06-28   -1.215730\n",
       "2020-06-29   -0.525625\n",
       "2020-06-30    0.036877\n",
       "Freq: D, Length: 182, dtype: float64"
      ]
     },
     "metadata": {},
     "execution_count": 22
    }
   ],
   "source": [
    "long_ts['1/1/2020':'30/6/2020']"
   ]
  },
  {
   "cell_type": "markdown",
   "metadata": {},
   "source": [
    "注意！通过这种方式的切片产生了原时间序列的视图，意味着没有数据被复制，在切片上的修改会反映在原始数据上！"
   ]
  },
  {
   "cell_type": "markdown",
   "metadata": {},
   "source": [
    "### 含有重复索引的时间序列"
   ]
  },
  {
   "cell_type": "code",
   "execution_count": 23,
   "metadata": {},
   "outputs": [
    {
     "output_type": "execute_result",
     "data": {
      "text/plain": [
       "2021-04-14    0\n",
       "2021-05-23    1\n",
       "2021-05-23    2\n",
       "2021-06-13    3\n",
       "2021-06-13    4\n",
       "dtype: int32"
      ]
     },
     "metadata": {},
     "execution_count": 23
    }
   ],
   "source": [
    "dates = pd.DatetimeIndex(['2021/4/14', '2021/5/23', '2021/5/23', '2021/6/13', '2021/6/13'])\n",
    "dup_ts = Series(np.arange(5), index=dates)\n",
    "dup_ts"
   ]
  },
  {
   "cell_type": "code",
   "execution_count": 24,
   "metadata": {},
   "outputs": [
    {
     "output_type": "execute_result",
     "data": {
      "text/plain": [
       "False"
      ]
     },
     "metadata": {},
     "execution_count": 24
    }
   ],
   "source": [
    "dup_ts.index.is_unique"
   ]
  },
  {
   "cell_type": "code",
   "execution_count": 25,
   "metadata": {},
   "outputs": [
    {
     "output_type": "execute_result",
     "data": {
      "text/plain": [
       "2021-05-23    1\n",
       "2021-05-23    2\n",
       "dtype: int32"
      ]
     },
     "metadata": {},
     "execution_count": 25
    }
   ],
   "source": [
    "dup_ts['20210523']"
   ]
  },
  {
   "cell_type": "markdown",
   "metadata": {},
   "source": [
    "可通过groupby函数对其进行聚合:"
   ]
  },
  {
   "cell_type": "code",
   "execution_count": 26,
   "metadata": {},
   "outputs": [
    {
     "output_type": "execute_result",
     "data": {
      "text/plain": [
       "2021-04-14    0.0\n",
       "2021-05-23    1.5\n",
       "2021-06-13    3.5\n",
       "dtype: float64"
      ]
     },
     "metadata": {},
     "execution_count": 26
    }
   ],
   "source": [
    "grouped = dup_ts.groupby(level=0)\n",
    "grouped.mean()"
   ]
  },
  {
   "cell_type": "code",
   "execution_count": 27,
   "metadata": {},
   "outputs": [
    {
     "output_type": "execute_result",
     "data": {
      "text/plain": [
       "2021-04-14    1\n",
       "2021-05-23    2\n",
       "2021-06-13    2\n",
       "dtype: int64"
      ]
     },
     "metadata": {},
     "execution_count": 27
    }
   ],
   "source": [
    "grouped.count()"
   ]
  },
  {
   "cell_type": "markdown",
   "metadata": {},
   "source": [
    "### 日期范围、频率和移位 --> 生成日期范围\n",
    "使用pd.date_range可以根据特定频率生成指定长度的DatetimeIndex:"
   ]
  },
  {
   "cell_type": "code",
   "execution_count": 28,
   "metadata": {},
   "outputs": [
    {
     "output_type": "execute_result",
     "data": {
      "text/plain": [
       "DatetimeIndex(['2021-06-09', '2021-06-10', '2021-06-11', '2021-06-12'], dtype='datetime64[ns]', freq='D')"
      ]
     },
     "metadata": {},
     "execution_count": 28
    }
   ],
   "source": [
    "index = pd.date_range('2021/6/9','2021/6/12')\n",
    "index"
   ]
  },
  {
   "cell_type": "code",
   "execution_count": 29,
   "metadata": {},
   "outputs": [
    {
     "output_type": "execute_result",
     "data": {
      "text/plain": [
       "DatetimeIndex(['2021-04-30', '2021-05-31'], dtype='datetime64[ns]', freq='M')"
      ]
     },
     "metadata": {},
     "execution_count": 29
    }
   ],
   "source": [
    "# 默认情况下产生的索引的间隔为天，通过freq参数可以设置其他频率\n",
    "index = pd.date_range('2021/4/1','2021/6/1',freq='M')\n",
    "index"
   ]
  },
  {
   "cell_type": "code",
   "execution_count": 30,
   "metadata": {},
   "outputs": [
    {
     "output_type": "execute_result",
     "data": {
      "text/plain": [
       "DatetimeIndex(['2021-04-01', '2021-04-02', '2021-04-03', '2021-04-04'], dtype='datetime64[ns]', freq='D')"
      ]
     },
     "metadata": {},
     "execution_count": 30
    }
   ],
   "source": [
    "pd.date_range(start='2021/4/1', periods=4)"
   ]
  },
  {
   "cell_type": "code",
   "execution_count": 31,
   "metadata": {
    "scrolled": true
   },
   "outputs": [
    {
     "output_type": "execute_result",
     "data": {
      "text/plain": [
       "DatetimeIndex(['2021-05-29', '2021-05-30', '2021-05-31', '2021-06-01'], dtype='datetime64[ns]', freq='D')"
      ]
     },
     "metadata": {},
     "execution_count": 31
    }
   ],
   "source": [
    "pd.date_range(end='2021/6/1',periods=4)"
   ]
  },
  {
   "cell_type": "markdown",
   "metadata": {},
   "source": [
    "如果想生成标准化为零点的时间戳："
   ]
  },
  {
   "cell_type": "code",
   "execution_count": 32,
   "metadata": {},
   "outputs": [
    {
     "output_type": "execute_result",
     "data": {
      "text/plain": [
       "DatetimeIndex(['2021-06-12', '2021-06-13', '2021-06-14', '2021-06-15'], dtype='datetime64[ns]', freq='D')"
      ]
     },
     "metadata": {},
     "execution_count": 32
    }
   ],
   "source": [
    "pd.date_range('2021-06-12 12:56:31', periods=4, normalize=True)"
   ]
  },
  {
   "cell_type": "markdown",
   "metadata": {},
   "source": [
    "### 日期范围、频率和移位 --> 频率和日期偏移\n",
    "pandas中频率由基础频率和倍数组成，基础频率通常会有字符串别名，例如'M'代表月，'H'代表小时。对于每个基础频率，都有一个对象可以被用于定义日期偏移量:"
   ]
  },
  {
   "cell_type": "code",
   "execution_count": 33,
   "metadata": {},
   "outputs": [
    {
     "output_type": "execute_result",
     "data": {
      "text/plain": [
       "<Hour>"
      ]
     },
     "metadata": {},
     "execution_count": 33
    }
   ],
   "source": [
    "from pandas.tseries.offsets import Hour, Minute\n",
    "\n",
    "hour = Hour()\n",
    "hour"
   ]
  },
  {
   "cell_type": "markdown",
   "metadata": {},
   "source": [
    "可以传递一个整数来定义偏移量的倍数："
   ]
  },
  {
   "cell_type": "code",
   "execution_count": 34,
   "metadata": {},
   "outputs": [
    {
     "output_type": "execute_result",
     "data": {
      "text/plain": [
       "<4 * Hours>"
      ]
     },
     "metadata": {},
     "execution_count": 34
    }
   ],
   "source": [
    "four_hours = Hour(4)\n",
    "four_hours"
   ]
  },
  {
   "cell_type": "markdown",
   "metadata": {},
   "source": [
    "在大多数应用中，不需要显式地创建这些对象，而是使用字符串别名，如'4H'，在基础频率前放一个整数就可以生成倍数："
   ]
  },
  {
   "cell_type": "code",
   "execution_count": 35,
   "metadata": {},
   "outputs": [
    {
     "output_type": "execute_result",
     "data": {
      "text/plain": [
       "DatetimeIndex(['2021-06-12 00:00:00', '2021-06-12 06:00:00',\n",
       "               '2021-06-12 12:00:00', '2021-06-12 18:00:00'],\n",
       "              dtype='datetime64[ns]', freq='6H')"
      ]
     },
     "metadata": {},
     "execution_count": 35
    }
   ],
   "source": [
    "pd.date_range(start='2021/6/12', periods=4, freq='6H')"
   ]
  },
  {
   "cell_type": "code",
   "execution_count": 36,
   "metadata": {
    "scrolled": true
   },
   "outputs": [
    {
     "output_type": "execute_result",
     "data": {
      "text/plain": [
       "DatetimeIndex(['2021-06-12 00:00:00', '2021-06-12 02:20:38',\n",
       "               '2021-06-12 04:41:16', '2021-06-12 07:01:54'],\n",
       "              dtype='datetime64[ns]', freq='8438S')"
      ]
     },
     "metadata": {},
     "execution_count": 36
    }
   ],
   "source": [
    "pd.date_range(start='2021/6/12', periods=4, freq='2H20min38s')      "
   ]
  },
  {
   "cell_type": "markdown",
   "metadata": {},
   "source": [
    "月中某星期的日期："
   ]
  },
  {
   "cell_type": "code",
   "execution_count": 37,
   "metadata": {},
   "outputs": [
    {
     "output_type": "execute_result",
     "data": {
      "text/plain": [
       "DatetimeIndex(['2021-01-15', '2021-02-19', '2021-03-19', '2021-04-16',\n",
       "               '2021-05-21', '2021-06-18', '2021-07-16'],\n",
       "              dtype='datetime64[ns]', freq='WOM-3FRI')"
      ]
     },
     "metadata": {},
     "execution_count": 37
    }
   ],
   "source": [
    "rnd = pd.date_range('2021-01-01', '2021-08-01', freq='WOM-3FRI')\n",
    "rnd"
   ]
  },
  {
   "cell_type": "markdown",
   "metadata": {},
   "source": [
    "Series和DataFrame都有一个shift方法用于进行简单的前向或后向移位，而不改变索引："
   ]
  },
  {
   "cell_type": "code",
   "execution_count": 38,
   "metadata": {},
   "outputs": [
    {
     "output_type": "execute_result",
     "data": {
      "text/plain": [
       "2021-01-31   -1.210239\n",
       "2021-02-28    0.672817\n",
       "2021-03-31   -0.849780\n",
       "2021-04-30    0.619954\n",
       "Freq: M, dtype: float64"
      ]
     },
     "metadata": {},
     "execution_count": 38
    }
   ],
   "source": [
    "ts = Series(np.random.randn(4), index=pd.date_range('1/1/2021', periods=4, freq='M'))\n",
    "ts"
   ]
  },
  {
   "cell_type": "code",
   "execution_count": 39,
   "metadata": {},
   "outputs": [
    {
     "output_type": "execute_result",
     "data": {
      "text/plain": [
       "2021-01-31         NaN\n",
       "2021-02-28         NaN\n",
       "2021-03-31   -1.210239\n",
       "2021-04-30    0.672817\n",
       "Freq: M, dtype: float64"
      ]
     },
     "metadata": {},
     "execution_count": 39
    }
   ],
   "source": [
    "ts.shift(2)         "
   ]
  },
  {
   "cell_type": "code",
   "execution_count": 40,
   "metadata": {
    "scrolled": true
   },
   "outputs": [
    {
     "output_type": "execute_result",
     "data": {
      "text/plain": [
       "2021-01-31   -0.849780\n",
       "2021-02-28    0.619954\n",
       "2021-03-31         NaN\n",
       "2021-04-30         NaN\n",
       "Freq: M, dtype: float64"
      ]
     },
     "metadata": {},
     "execution_count": 40
    }
   ],
   "source": [
    "ts.shift(-2)    "
   ]
  },
  {
   "cell_type": "markdown",
   "metadata": {},
   "source": [
    "shift常用于计算时间序列或DataFrame多列时间序列的百分比变化："
   ]
  },
  {
   "cell_type": "code",
   "execution_count": 41,
   "metadata": {},
   "outputs": [
    {
     "output_type": "execute_result",
     "data": {
      "text/plain": [
       "2021-01-31         NaN\n",
       "2021-02-28   -1.555937\n",
       "2021-03-31   -2.263019\n",
       "2021-04-30   -1.729546\n",
       "Freq: M, dtype: float64"
      ]
     },
     "metadata": {},
     "execution_count": 41
    }
   ],
   "source": [
    "ts / ts.shift(1) - 1"
   ]
  },
  {
   "cell_type": "markdown",
   "metadata": {},
   "source": [
    "由于简单移位并不改变索引，一些数据会被丢弃，因此如果频率是已知的，可以将频率传递给shift来推移时间戳而不是简单的数据:"
   ]
  },
  {
   "cell_type": "code",
   "execution_count": 42,
   "metadata": {},
   "outputs": [
    {
     "output_type": "execute_result",
     "data": {
      "text/plain": [
       "2021-03-31   -1.210239\n",
       "2021-04-30    0.672817\n",
       "2021-05-31   -0.849780\n",
       "2021-06-30    0.619954\n",
       "Freq: M, dtype: float64"
      ]
     },
     "metadata": {},
     "execution_count": 42
    }
   ],
   "source": [
    "ts.shift(2, freq='M')"
   ]
  },
  {
   "cell_type": "markdown",
   "metadata": {},
   "source": [
    "其他的频率也可以传递：    "
   ]
  },
  {
   "cell_type": "code",
   "execution_count": 43,
   "metadata": {},
   "outputs": [
    {
     "output_type": "execute_result",
     "data": {
      "text/plain": [
       "2021-02-03   -1.210239\n",
       "2021-03-03    0.672817\n",
       "2021-04-03   -0.849780\n",
       "2021-05-03    0.619954\n",
       "dtype: float64"
      ]
     },
     "metadata": {},
     "execution_count": 43
    }
   ],
   "source": [
    "ts.shift(3, freq='D')"
   ]
  },
  {
   "cell_type": "code",
   "execution_count": 44,
   "metadata": {},
   "outputs": [
    {
     "output_type": "execute_result",
     "data": {
      "text/plain": [
       "2021-01-31 01:30:00   -1.210239\n",
       "2021-02-28 01:30:00    0.672817\n",
       "2021-03-31 01:30:00   -0.849780\n",
       "2021-04-30 01:30:00    0.619954\n",
       "dtype: float64"
      ]
     },
     "metadata": {},
     "execution_count": 44
    }
   ],
   "source": [
    "ts.shift(1, freq='90T')    # T表示分钟"
   ]
  },
  {
   "cell_type": "markdown",
   "metadata": {},
   "source": [
    "### 使用偏移进行移位日期\n",
    "pandas的日期偏移也可以使用datetime或Timestamp对象完成："
   ]
  },
  {
   "cell_type": "code",
   "execution_count": 45,
   "metadata": {},
   "outputs": [
    {
     "output_type": "execute_result",
     "data": {
      "text/plain": [
       "datetime.datetime(2021, 5, 24, 16, 28, 13, 334892)"
      ]
     },
     "metadata": {},
     "execution_count": 45
    }
   ],
   "source": [
    "from pandas.tseries.offsets import Day, MonthEnd\n",
    "\n",
    "now = datetime.now()\n",
    "now"
   ]
  },
  {
   "cell_type": "code",
   "execution_count": 46,
   "metadata": {},
   "outputs": [
    {
     "output_type": "execute_result",
     "data": {
      "text/plain": [
       "Timestamp('2021-05-27 16:28:13.334892')"
      ]
     },
     "metadata": {},
     "execution_count": 46
    }
   ],
   "source": [
    "now + 3 * Day()"
   ]
  },
  {
   "cell_type": "code",
   "execution_count": 47,
   "metadata": {},
   "outputs": [
    {
     "output_type": "execute_result",
     "data": {
      "text/plain": [
       "Timestamp('2021-05-31 16:28:13.334892')"
      ]
     },
     "metadata": {},
     "execution_count": 47
    }
   ],
   "source": [
    "now + MonthEnd()"
   ]
  },
  {
   "cell_type": "code",
   "execution_count": 48,
   "metadata": {},
   "outputs": [
    {
     "output_type": "execute_result",
     "data": {
      "text/plain": [
       "Timestamp('2021-06-30 16:28:13.334892')"
      ]
     },
     "metadata": {},
     "execution_count": 48
    }
   ],
   "source": [
    "now + MonthEnd(2)"
   ]
  },
  {
   "cell_type": "markdown",
   "metadata": {},
   "source": [
    "锚定偏移可以用rollforward和rollback分别显式地将日期向前或向后移动:"
   ]
  },
  {
   "cell_type": "code",
   "execution_count": 49,
   "metadata": {},
   "outputs": [
    {
     "output_type": "execute_result",
     "data": {
      "text/plain": [
       "Timestamp('2021-05-31 16:28:13.334892')"
      ]
     },
     "metadata": {},
     "execution_count": 49
    }
   ],
   "source": [
    "offset = MonthEnd()\n",
    "offset.rollforward(now)"
   ]
  },
  {
   "cell_type": "code",
   "execution_count": 50,
   "metadata": {},
   "outputs": [
    {
     "output_type": "execute_result",
     "data": {
      "text/plain": [
       "Timestamp('2021-04-30 16:28:13.334892')"
      ]
     },
     "metadata": {},
     "execution_count": 50
    }
   ],
   "source": [
    "offset.rollback(now)"
   ]
  },
  {
   "cell_type": "markdown",
   "metadata": {},
   "source": [
    "将移位方法与groupby一起使用是日期偏移的一种创造性用法："
   ]
  },
  {
   "cell_type": "code",
   "execution_count": 51,
   "metadata": {
    "scrolled": true
   },
   "outputs": [
    {
     "output_type": "execute_result",
     "data": {
      "text/plain": [
       "2021-01-15    0.080126\n",
       "2021-01-19    0.570829\n",
       "2021-01-23   -0.403398\n",
       "2021-01-27   -0.539619\n",
       "2021-01-31   -0.658668\n",
       "2021-02-04   -0.047140\n",
       "2021-02-08   -0.969948\n",
       "2021-02-12   -0.584366\n",
       "2021-02-16   -0.906820\n",
       "2021-02-20    0.318611\n",
       "2021-02-24    0.442220\n",
       "2021-02-28   -0.129912\n",
       "2021-03-04   -0.254277\n",
       "2021-03-08   -1.709824\n",
       "2021-03-12   -0.586660\n",
       "2021-03-16   -0.709958\n",
       "2021-03-20   -0.827587\n",
       "2021-03-24    0.880628\n",
       "2021-03-28    1.367391\n",
       "2021-04-01   -0.551236\n",
       "Freq: 4D, dtype: float64"
      ]
     },
     "metadata": {},
     "execution_count": 51
    }
   ],
   "source": [
    "ts = Series(np.random.randn(20), index=pd.date_range('1/15/2021', periods=20, freq='4d'))\n",
    "ts"
   ]
  },
  {
   "cell_type": "code",
   "execution_count": 52,
   "metadata": {},
   "outputs": [
    {
     "output_type": "execute_result",
     "data": {
      "text/plain": [
       "2021-01-31   -0.190146\n",
       "2021-02-28   -0.268194\n",
       "2021-03-31   -0.262898\n",
       "2021-04-30   -0.551236\n",
       "dtype: float64"
      ]
     },
     "metadata": {},
     "execution_count": 52
    }
   ],
   "source": [
    "ts.groupby(offset.rollforward).mean()     # 月末"
   ]
  },
  {
   "cell_type": "markdown",
   "metadata": {},
   "source": [
    "使用resample是更快捷的方法："
   ]
  },
  {
   "cell_type": "code",
   "execution_count": 53,
   "metadata": {},
   "outputs": [
    {
     "output_type": "execute_result",
     "data": {
      "text/plain": [
       "2021-01-31   -0.190146\n",
       "2021-02-28   -0.268194\n",
       "2021-03-31   -0.262898\n",
       "2021-04-30   -0.551236\n",
       "Freq: M, dtype: float64"
      ]
     },
     "metadata": {},
     "execution_count": 53
    }
   ],
   "source": [
    "ts.resample('M').mean()"
   ]
  },
  {
   "cell_type": "markdown",
   "metadata": {},
   "source": [
    "### 时期Period"
   ]
  },
  {
   "cell_type": "code",
   "execution_count": 54,
   "metadata": {},
   "outputs": [
    {
     "output_type": "execute_result",
     "data": {
      "text/plain": [
       "Period('2021', 'A-DEC')"
      ]
     },
     "metadata": {},
     "execution_count": 54
    }
   ],
   "source": [
    "p = pd.Period(2021, freq='A-DEC')    #A-DEC 每年指定月份的最后一个日历日\n",
    "p"
   ]
  },
  {
   "cell_type": "code",
   "execution_count": 55,
   "metadata": {},
   "outputs": [
    {
     "output_type": "execute_result",
     "data": {
      "text/plain": [
       "Period('2023', 'A-DEC')"
      ]
     },
     "metadata": {},
     "execution_count": 55
    }
   ],
   "source": [
    "p + 2"
   ]
  },
  {
   "cell_type": "code",
   "execution_count": 56,
   "metadata": {},
   "outputs": [
    {
     "output_type": "execute_result",
     "data": {
      "text/plain": [
       "Period('2016', 'A-DEC')"
      ]
     },
     "metadata": {},
     "execution_count": 56
    }
   ],
   "source": [
    "p - 5"
   ]
  },
  {
   "cell_type": "code",
   "execution_count": 57,
   "metadata": {},
   "outputs": [
    {
     "output_type": "execute_result",
     "data": {
      "text/plain": [
       "<4 * YearEnds: month=12>"
      ]
     },
     "metadata": {},
     "execution_count": 57
    }
   ],
   "source": [
    "pd.Period(2025, freq='A-DEC') - p"
   ]
  },
  {
   "cell_type": "code",
   "execution_count": 58,
   "metadata": {},
   "outputs": [
    {
     "output_type": "execute_result",
     "data": {
      "text/plain": [
       "2021-06    0\n",
       "2021-07    1\n",
       "2021-08    2\n",
       "2021-09    3\n",
       "2021-10    4\n",
       "2021-11    5\n",
       "2021-12    6\n",
       "Freq: M, dtype: int32"
      ]
     },
     "metadata": {},
     "execution_count": 58
    }
   ],
   "source": [
    "date5 = pd.period_range('2021/6/1', '2021/12/5', freq='M')\n",
    "pd.Series(np.arange(7), index=date5)"
   ]
  },
  {
   "cell_type": "markdown",
   "metadata": {},
   "source": [
    "### 频率转换：Period和PeriodIndex对象可以通过asfreq方法转换频率"
   ]
  },
  {
   "cell_type": "code",
   "execution_count": 59,
   "metadata": {},
   "outputs": [
    {
     "output_type": "execute_result",
     "data": {
      "text/plain": [
       "Period('2021-01', 'M')"
      ]
     },
     "metadata": {},
     "execution_count": 59
    }
   ],
   "source": [
    "p = pd.Period(2021, freq='A-DEC')\n",
    "p.asfreq('M', how='start')"
   ]
  },
  {
   "cell_type": "code",
   "execution_count": 60,
   "metadata": {},
   "outputs": [
    {
     "output_type": "execute_result",
     "data": {
      "text/plain": [
       "Period('2021-12', 'M')"
      ]
     },
     "metadata": {},
     "execution_count": 60
    }
   ],
   "source": [
    "p.asfreq('M', how='end')"
   ]
  },
  {
   "cell_type": "code",
   "execution_count": 61,
   "metadata": {},
   "outputs": [
    {
     "output_type": "execute_result",
     "data": {
      "text/plain": [
       "PeriodIndex(['2018', '2019', '2020', '2021'], dtype='period[A-DEC]', freq='A-DEC')"
      ]
     },
     "metadata": {},
     "execution_count": 61
    }
   ],
   "source": [
    "date6 = pd.period_range('2018', '2021', freq='A-DEC')\n",
    "date6"
   ]
  },
  {
   "cell_type": "code",
   "execution_count": 62,
   "metadata": {},
   "outputs": [
    {
     "output_type": "execute_result",
     "data": {
      "text/plain": [
       "2018-01    0\n",
       "2019-01    1\n",
       "2020-01    2\n",
       "2021-01    3\n",
       "Freq: M, dtype: int32"
      ]
     },
     "metadata": {},
     "execution_count": 62
    }
   ],
   "source": [
    "ps = pd.Series(np.arange(4), index=date6)\n",
    "ps.asfreq('M',how='start')"
   ]
  },
  {
   "cell_type": "markdown",
   "metadata": {},
   "source": [
    "利用to_period方法可以将由时间戳索引的时间序列数据转换为以时期为索引"
   ]
  },
  {
   "cell_type": "code",
   "execution_count": 63,
   "metadata": {},
   "outputs": [
    {
     "output_type": "execute_result",
     "data": {
      "text/plain": [
       "2021-06    0\n",
       "2021-07    1\n",
       "2021-08    2\n",
       "2021-09    3\n",
       "Freq: M, dtype: int32"
      ]
     },
     "metadata": {},
     "execution_count": 63
    }
   ],
   "source": [
    "date7 = pd.date_range('2021/6/1', periods=4, freq='M')\n",
    "s = pd.Series(np.arange(4), index=date7)\n",
    "ps = s.to_period()\n",
    "ps"
   ]
  },
  {
   "cell_type": "code",
   "execution_count": 64,
   "metadata": {},
   "outputs": [
    {
     "output_type": "execute_result",
     "data": {
      "text/plain": [
       "2021    0\n",
       "2021    1\n",
       "2021    2\n",
       "2021    3\n",
       "Freq: A-DEC, dtype: int32"
      ]
     },
     "metadata": {},
     "execution_count": 64
    }
   ],
   "source": [
    "ps = s.to_period('A-DEC')     #指定转换的频率\n",
    "ps"
   ]
  },
  {
   "cell_type": "code",
   "execution_count": 65,
   "metadata": {},
   "outputs": [
    {
     "output_type": "execute_result",
     "data": {
      "text/plain": [
       "2021-06    0\n",
       "2021-07    1\n",
       "2021-08    2\n",
       "2021-09    3\n",
       "Freq: M, dtype: int32"
      ]
     },
     "metadata": {},
     "execution_count": 65
    }
   ],
   "source": [
    "ps = s.to_period()\n",
    "ps"
   ]
  },
  {
   "cell_type": "code",
   "execution_count": 66,
   "metadata": {},
   "outputs": [
    {
     "output_type": "execute_result",
     "data": {
      "text/plain": [
       "2021-06-01    0\n",
       "2021-07-01    1\n",
       "2021-08-01    2\n",
       "2021-09-01    3\n",
       "Freq: MS, dtype: int32"
      ]
     },
     "metadata": {},
     "execution_count": 66
    }
   ],
   "source": [
    "ps.to_timestamp(how='start')      #逆操作"
   ]
  },
  {
   "cell_type": "markdown",
   "metadata": {},
   "source": [
    "### 频率转换与重采样\n",
    "重采样是时间序列频率转换的处理过程。高频率聚合到低频率称为降采样，反之为升采样:"
   ]
  },
  {
   "cell_type": "code",
   "execution_count": 67,
   "metadata": {},
   "outputs": [
    {
     "output_type": "execute_result",
     "data": {
      "text/plain": [
       "2021-04-01    0\n",
       "2021-04-02    1\n",
       "2021-04-03    2\n",
       "2021-04-04    3\n",
       "2021-04-05    4\n",
       "Freq: D, dtype: int32"
      ]
     },
     "metadata": {},
     "execution_count": 67
    }
   ],
   "source": [
    "date = pd.date_range(start='2021/4/1', periods=100, freq='D')\n",
    "s = pd.Series(np.arange(100), index=date)\n",
    "s.head()"
   ]
  },
  {
   "cell_type": "code",
   "execution_count": 68,
   "metadata": {},
   "outputs": [
    {
     "output_type": "execute_result",
     "data": {
      "text/plain": [
       "2021-04-30    14.5\n",
       "2021-05-31    45.0\n",
       "2021-06-30    75.5\n",
       "2021-07-31    95.0\n",
       "Freq: M, dtype: float64"
      ]
     },
     "metadata": {},
     "execution_count": 68
    }
   ],
   "source": [
    "s.resample('M').mean()          # 重采样，将以天为频率转换为以月为频率，聚合方法为平均值"
   ]
  },
  {
   "cell_type": "markdown",
   "metadata": {},
   "source": [
    "在降采样中重点考虑closed和label两个参数，其分别表示哪边区间是闭合的，哪边用于标记"
   ]
  },
  {
   "cell_type": "code",
   "execution_count": 69,
   "metadata": {},
   "outputs": [
    {
     "output_type": "execute_result",
     "data": {
      "text/plain": [
       "2021-04-01     0\n",
       "2021-04-06    15\n",
       "2021-04-11    40\n",
       "2021-04-16    11\n",
       "Freq: 5D, dtype: int32"
      ]
     },
     "metadata": {},
     "execution_count": 69
    }
   ],
   "source": [
    "date = pd.date_range(start='2021/4/1', periods=12, freq='D')\n",
    "s = pd.Series(np.arange(12), index=date)\n",
    "s.resample('5D', closed='right', label='right').sum()"
   ]
  },
  {
   "cell_type": "code",
   "execution_count": 70,
   "metadata": {},
   "outputs": [
    {
     "output_type": "execute_result",
     "data": {
      "text/plain": [
       "2021-04-01    10\n",
       "2021-04-06    35\n",
       "2021-04-11    21\n",
       "Freq: 5D, dtype: int32"
      ]
     },
     "metadata": {},
     "execution_count": 70
    }
   ],
   "source": [
    "s.resample('5D', closed='left', label='left').sum()"
   ]
  },
  {
   "cell_type": "markdown",
   "metadata": {},
   "source": [
    "在升采样中用到的不是聚合，而是需要对缺失值进行填充:"
   ]
  },
  {
   "cell_type": "code",
   "execution_count": 71,
   "metadata": {},
   "outputs": [
    {
     "output_type": "execute_result",
     "data": {
      "text/plain": [
       "2021-04-03    2\n",
       "2021-04-13    5\n",
       "dtype: int64"
      ]
     },
     "metadata": {},
     "execution_count": 71
    }
   ],
   "source": [
    "date = [datetime(2021,4,3), datetime(2021,4,13)]\n",
    "s = pd.Series([2, 5], index=date)\n",
    "s"
   ]
  },
  {
   "cell_type": "code",
   "execution_count": 72,
   "metadata": {},
   "outputs": [
    {
     "output_type": "execute_result",
     "data": {
      "text/plain": [
       "2021-04-03    2\n",
       "2021-04-04    2\n",
       "2021-04-05    2\n",
       "2021-04-06    2\n",
       "2021-04-07    2\n",
       "2021-04-08    2\n",
       "2021-04-09    2\n",
       "2021-04-10    2\n",
       "2021-04-11    2\n",
       "2021-04-12    2\n",
       "2021-04-13    5\n",
       "Freq: D, dtype: int64"
      ]
     },
     "metadata": {},
     "execution_count": 72
    }
   ],
   "source": [
    "s.resample('D').ffill()"
   ]
  },
  {
   "cell_type": "code",
   "execution_count": 73,
   "metadata": {},
   "outputs": [
    {
     "output_type": "execute_result",
     "data": {
      "text/plain": [
       "2021-04-03    2.0\n",
       "2021-04-04    2.0\n",
       "2021-04-05    2.0\n",
       "2021-04-06    NaN\n",
       "2021-04-07    NaN\n",
       "2021-04-08    NaN\n",
       "2021-04-09    NaN\n",
       "2021-04-10    NaN\n",
       "2021-04-11    NaN\n",
       "2021-04-12    NaN\n",
       "2021-04-13    5.0\n",
       "Freq: D, dtype: float64"
      ]
     },
     "metadata": {},
     "execution_count": 73
    }
   ],
   "source": [
    "s.resample('D').ffill(2)     #设置填充的个数"
   ]
  }
 ],
 "metadata": {
  "kernelspec": {
   "name": "python385jvsc74a57bd07b4b4feff2f24a0f0a34464dbe537a36fda679851528fb8735cb41fa49dffb2d",
   "display_name": "Python 3.8.5 64-bit ('base': conda)"
  },
  "language_info": {
   "codemirror_mode": {
    "name": "ipython",
    "version": 3
   },
   "file_extension": ".py",
   "mimetype": "text/x-python",
   "name": "python",
   "nbconvert_exporter": "python",
   "pygments_lexer": "ipython3",
   "version": "3.8.5"
  }
 },
 "nbformat": 4,
 "nbformat_minor": 4
}