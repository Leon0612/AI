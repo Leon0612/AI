{
 "metadata": {
  "language_info": {
   "codemirror_mode": {
    "name": "ipython",
    "version": 3
   },
   "file_extension": ".py",
   "mimetype": "text/x-python",
   "name": "python",
   "nbconvert_exporter": "python",
   "pygments_lexer": "ipython3",
   "version": "3.8.5"
  },
  "orig_nbformat": 2,
  "kernelspec": {
   "name": "python385jvsc74a57bd07b4b4feff2f24a0f0a34464dbe537a36fda679851528fb8735cb41fa49dffb2d",
   "display_name": "Python 3.8.5 64-bit ('base': conda)"
  }
 },
 "nbformat": 4,
 "nbformat_minor": 2,
 "cells": [
  {
   "source": [
    "### 离散化与分箱"
   ],
   "cell_type": "markdown",
   "metadata": {}
  },
  {
   "cell_type": "code",
   "execution_count": 1,
   "metadata": {},
   "outputs": [],
   "source": [
    "import numpy as np\n",
    "np.random.seed(42)\n",
    "import pandas as pd"
   ]
  },
  {
   "cell_type": "code",
   "execution_count": 2,
   "metadata": {},
   "outputs": [
    {
     "output_type": "execute_result",
     "data": {
      "text/plain": [
       "['youth', 'youth', 'youth', 'youthadult', 'youth', ..., 'youthadult', 'senior', 'middleaged', 'middleaged', 'youthadult']\n",
       "Length: 12\n",
       "Categories (4, object): ['youth' < 'youthadult' < 'middleaged' < 'senior']"
      ]
     },
     "metadata": {},
     "execution_count": 2
    }
   ],
   "source": [
    "ages = [20, 22, 25, 27, 21, 23, 37, 31, 61, 45, 41, 32]\n",
    "# 将这些年龄分为18-25，26-35，36-60以及60以上几个组\n",
    "bins = [18, 25, 36, 60, 100]\n",
    "group_names = ['youth', 'youthadult', 'middleaged', 'senior']\n",
    "groups = pd.cut(ages, bins, labels=group_names)               # 传入right=False, 左闭右开\n",
    "groups"
   ]
  },
  {
   "cell_type": "code",
   "execution_count": 3,
   "metadata": {},
   "outputs": [
    {
     "output_type": "execute_result",
     "data": {
      "text/plain": [
       "Index(['youth', 'youthadult', 'middleaged', 'senior'], dtype='object')"
      ]
     },
     "metadata": {},
     "execution_count": 3
    }
   ],
   "source": [
    "# pd.cut返回一个特殊的Categorical对象\n",
    "groups.categories"
   ]
  },
  {
   "cell_type": "code",
   "execution_count": 4,
   "metadata": {},
   "outputs": [
    {
     "output_type": "execute_result",
     "data": {
      "text/plain": [
       "array([0, 0, 0, 1, 0, 0, 2, 1, 3, 2, 2, 1], dtype=int8)"
      ]
     },
     "metadata": {},
     "execution_count": 4
    }
   ],
   "source": [
    "groups.codes"
   ]
  },
  {
   "cell_type": "code",
   "execution_count": 5,
   "metadata": {},
   "outputs": [
    {
     "output_type": "execute_result",
     "data": {
      "text/plain": [
       "youth         5\n",
       "middleaged    3\n",
       "youthadult    3\n",
       "senior        1\n",
       "dtype: int64"
      ]
     },
     "metadata": {},
     "execution_count": 5
    }
   ],
   "source": [
    "pd.value_counts(groups)"
   ]
  },
  {
   "source": [
    "如果传给cut整数个的箱来代替显式的箱边，pandas将根据数据中最小值和最大值计算出等长的箱:"
   ],
   "cell_type": "markdown",
   "metadata": {}
  },
  {
   "cell_type": "code",
   "execution_count": 6,
   "metadata": {},
   "outputs": [
    {
     "output_type": "execute_result",
     "data": {
      "text/plain": [
       "       data\n",
       "0  0.496714\n",
       "1 -0.138264\n",
       "2  0.647689\n",
       "3  1.523030\n",
       "4 -0.234153"
      ],
      "text/html": "<div>\n<style scoped>\n    .dataframe tbody tr th:only-of-type {\n        vertical-align: middle;\n    }\n\n    .dataframe tbody tr th {\n        vertical-align: top;\n    }\n\n    .dataframe thead th {\n        text-align: right;\n    }\n</style>\n<table border=\"1\" class=\"dataframe\">\n  <thead>\n    <tr style=\"text-align: right;\">\n      <th></th>\n      <th>data</th>\n    </tr>\n  </thead>\n  <tbody>\n    <tr>\n      <th>0</th>\n      <td>0.496714</td>\n    </tr>\n    <tr>\n      <th>1</th>\n      <td>-0.138264</td>\n    </tr>\n    <tr>\n      <th>2</th>\n      <td>0.647689</td>\n    </tr>\n    <tr>\n      <th>3</th>\n      <td>1.523030</td>\n    </tr>\n    <tr>\n      <th>4</th>\n      <td>-0.234153</td>\n    </tr>\n  </tbody>\n</table>\n</div>"
     },
     "metadata": {},
     "execution_count": 6
    }
   ],
   "source": [
    "frame = pd.DataFrame(np.random.randn(1000), columns=['data'])\n",
    "frame.head()"
   ]
  },
  {
   "cell_type": "code",
   "execution_count": 7,
   "metadata": {},
   "outputs": [
    {
     "output_type": "execute_result",
     "data": {
      "text/plain": [
       "0       (-0.4, 1.02]\n",
       "1       (-0.4, 1.02]\n",
       "2       (-0.4, 1.02]\n",
       "3       (1.02, 2.43]\n",
       "4       (-0.4, 1.02]\n",
       "           ...      \n",
       "995     (-0.4, 1.02]\n",
       "996     (1.02, 2.43]\n",
       "997     (-0.4, 1.02]\n",
       "998    (-1.82, -0.4]\n",
       "999     (-0.4, 1.02]\n",
       "Name: data, Length: 1000, dtype: category\n",
       "Categories (5, interval[float64]): [(-3.25, -1.82] < (-1.82, -0.4] < (-0.4, 1.02] < (1.02, 2.43] < (2.43, 3.85]]"
      ]
     },
     "metadata": {},
     "execution_count": 7
    }
   ],
   "source": [
    "groups = pd.cut(frame.data, 5, precision=2)\n",
    "groups"
   ]
  },
  {
   "source": [
    "cut返回的Categorical对象可以直接传递给groupby:"
   ],
   "cell_type": "markdown",
   "metadata": {}
  },
  {
   "cell_type": "code",
   "execution_count": 8,
   "metadata": {},
   "outputs": [
    {
     "output_type": "execute_result",
     "data": {
      "text/plain": [
       "                     min       max  count      mean\n",
       "data                                               \n",
       "(-3.25, -1.82] -3.241267 -1.840874   26.0 -2.173346\n",
       "(-1.82, -0.4]  -1.804882 -0.408075  324.0 -0.918304\n",
       "(-0.4, 1.02]   -0.401220  1.014370  498.0  0.270195\n",
       "(1.02, 2.43]    1.029156  2.314659  142.0  1.489463\n",
       "(2.43, 3.85]    2.445752  3.852731   10.0  2.730883"
      ],
      "text/html": "<div>\n<style scoped>\n    .dataframe tbody tr th:only-of-type {\n        vertical-align: middle;\n    }\n\n    .dataframe tbody tr th {\n        vertical-align: top;\n    }\n\n    .dataframe thead th {\n        text-align: right;\n    }\n</style>\n<table border=\"1\" class=\"dataframe\">\n  <thead>\n    <tr style=\"text-align: right;\">\n      <th></th>\n      <th>min</th>\n      <th>max</th>\n      <th>count</th>\n      <th>mean</th>\n    </tr>\n    <tr>\n      <th>data</th>\n      <th></th>\n      <th></th>\n      <th></th>\n      <th></th>\n    </tr>\n  </thead>\n  <tbody>\n    <tr>\n      <th>(-3.25, -1.82]</th>\n      <td>-3.241267</td>\n      <td>-1.840874</td>\n      <td>26.0</td>\n      <td>-2.173346</td>\n    </tr>\n    <tr>\n      <th>(-1.82, -0.4]</th>\n      <td>-1.804882</td>\n      <td>-0.408075</td>\n      <td>324.0</td>\n      <td>-0.918304</td>\n    </tr>\n    <tr>\n      <th>(-0.4, 1.02]</th>\n      <td>-0.401220</td>\n      <td>1.014370</td>\n      <td>498.0</td>\n      <td>0.270195</td>\n    </tr>\n    <tr>\n      <th>(1.02, 2.43]</th>\n      <td>1.029156</td>\n      <td>2.314659</td>\n      <td>142.0</td>\n      <td>1.489463</td>\n    </tr>\n    <tr>\n      <th>(2.43, 3.85]</th>\n      <td>2.445752</td>\n      <td>3.852731</td>\n      <td>10.0</td>\n      <td>2.730883</td>\n    </tr>\n  </tbody>\n</table>\n</div>"
     },
     "metadata": {},
     "execution_count": 8
    }
   ],
   "source": [
    "def get_stats(group):\n",
    "    return {'min': group.min(), 'max': group.max(), 'count': group.count(), 'mean': group.mean()}\n",
    "\n",
    "\n",
    "grouped = frame.data.groupby(groups)\n",
    "grouped.apply(get_stats).unstack()"
   ]
  },
  {
   "source": [
    "为了根据样本分位数计算出等大小的桶，则需要使用qcut，通过传递labels=False来获得分位数数值:"
   ],
   "cell_type": "markdown",
   "metadata": {}
  },
  {
   "cell_type": "code",
   "execution_count": 9,
   "metadata": {},
   "outputs": [
    {
     "output_type": "execute_result",
     "data": {
      "text/plain": [
       "           min       max  count      mean\n",
       "data                                     \n",
       "0    -3.241267 -0.808298  200.0 -1.327204\n",
       "1    -0.802277 -0.241236  200.0 -0.521204\n",
       "2    -0.240325  0.248221  200.0  0.019183\n",
       "3     0.249384  0.813510  200.0  0.515885\n",
       "4     0.813517  3.852731  200.0  1.410000"
      ],
      "text/html": "<div>\n<style scoped>\n    .dataframe tbody tr th:only-of-type {\n        vertical-align: middle;\n    }\n\n    .dataframe tbody tr th {\n        vertical-align: top;\n    }\n\n    .dataframe thead th {\n        text-align: right;\n    }\n</style>\n<table border=\"1\" class=\"dataframe\">\n  <thead>\n    <tr style=\"text-align: right;\">\n      <th></th>\n      <th>min</th>\n      <th>max</th>\n      <th>count</th>\n      <th>mean</th>\n    </tr>\n    <tr>\n      <th>data</th>\n      <th></th>\n      <th></th>\n      <th></th>\n      <th></th>\n    </tr>\n  </thead>\n  <tbody>\n    <tr>\n      <th>0</th>\n      <td>-3.241267</td>\n      <td>-0.808298</td>\n      <td>200.0</td>\n      <td>-1.327204</td>\n    </tr>\n    <tr>\n      <th>1</th>\n      <td>-0.802277</td>\n      <td>-0.241236</td>\n      <td>200.0</td>\n      <td>-0.521204</td>\n    </tr>\n    <tr>\n      <th>2</th>\n      <td>-0.240325</td>\n      <td>0.248221</td>\n      <td>200.0</td>\n      <td>0.019183</td>\n    </tr>\n    <tr>\n      <th>3</th>\n      <td>0.249384</td>\n      <td>0.813510</td>\n      <td>200.0</td>\n      <td>0.515885</td>\n    </tr>\n    <tr>\n      <th>4</th>\n      <td>0.813517</td>\n      <td>3.852731</td>\n      <td>200.0</td>\n      <td>1.410000</td>\n    </tr>\n  </tbody>\n</table>\n</div>"
     },
     "metadata": {},
     "execution_count": 9
    }
   ],
   "source": [
    "grouping = pd.qcut(frame.data, 5, labels=False)\n",
    "grouped = frame.data.groupby(grouping)\n",
    "grouped.apply(get_stats).unstack()"
   ]
  },
  {
   "source": [
    "qcut基于样本分位数进行分箱，可以通过qcut获得等长的箱:"
   ],
   "cell_type": "markdown",
   "metadata": {}
  },
  {
   "cell_type": "code",
   "execution_count": 10,
   "metadata": {},
   "outputs": [
    {
     "output_type": "execute_result",
     "data": {
      "text/plain": [
       "(0.683, 3.926]      500\n",
       "(0.0241, 0.683]     500\n",
       "(-0.624, 0.0241]    500\n",
       "(-3.021, -0.624]    500\n",
       "dtype: int64"
      ]
     },
     "metadata": {},
     "execution_count": 10
    }
   ],
   "source": [
    "data = np.random.randn(2000)\n",
    "cuts = pd.qcut(data, 4)\n",
    "pd.value_counts(cuts)"
   ]
  },
  {
   "cell_type": "code",
   "execution_count": 11,
   "metadata": {},
   "outputs": [
    {
     "output_type": "execute_result",
     "data": {
      "text/plain": [
       "(0.0241, 1.302]     800\n",
       "(-1.221, 0.0241]    800\n",
       "(1.302, 3.926]      200\n",
       "(-3.021, -1.221]    200\n",
       "dtype: int64"
      ]
     },
     "metadata": {},
     "execution_count": 11
    }
   ],
   "source": [
    "pd.value_counts(pd.qcut(data, [0, 0.1, 0.5, 0.9, 1.0]))   # 传入自定义的分位数(0到1之间)"
   ]
  }
 ]
}