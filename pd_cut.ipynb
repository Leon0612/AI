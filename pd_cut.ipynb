{
 "metadata": {
  "language_info": {
   "codemirror_mode": {
    "name": "ipython",
    "version": 3
   },
   "file_extension": ".py",
   "mimetype": "text/x-python",
   "name": "python",
   "nbconvert_exporter": "python",
   "pygments_lexer": "ipython3",
   "version": "3.8.5"
  },
  "orig_nbformat": 2,
  "kernelspec": {
   "name": "python385jvsc74a57bd07b4b4feff2f24a0f0a34464dbe537a36fda679851528fb8735cb41fa49dffb2d",
   "display_name": "Python 3.8.5 64-bit ('base': conda)"
  }
 },
 "nbformat": 4,
 "nbformat_minor": 2,
 "cells": [
  {
   "source": [
    "### 分位数与桶分析"
   ],
   "cell_type": "markdown",
   "metadata": {}
  },
  {
   "cell_type": "code",
   "execution_count": 1,
   "metadata": {},
   "outputs": [],
   "source": [
    "import numpy as np\n",
    "np.random.seed(42)\n",
    "import pandas as pd"
   ]
  },
  {
   "cell_type": "code",
   "execution_count": 2,
   "metadata": {},
   "outputs": [
    {
     "output_type": "execute_result",
     "data": {
      "text/plain": [
       "       data\n",
       "0  0.496714\n",
       "1 -0.138264\n",
       "2  0.647689\n",
       "3  1.523030\n",
       "4 -0.234153"
      ],
      "text/html": "<div>\n<style scoped>\n    .dataframe tbody tr th:only-of-type {\n        vertical-align: middle;\n    }\n\n    .dataframe tbody tr th {\n        vertical-align: top;\n    }\n\n    .dataframe thead th {\n        text-align: right;\n    }\n</style>\n<table border=\"1\" class=\"dataframe\">\n  <thead>\n    <tr style=\"text-align: right;\">\n      <th></th>\n      <th>data</th>\n    </tr>\n  </thead>\n  <tbody>\n    <tr>\n      <th>0</th>\n      <td>0.496714</td>\n    </tr>\n    <tr>\n      <th>1</th>\n      <td>-0.138264</td>\n    </tr>\n    <tr>\n      <th>2</th>\n      <td>0.647689</td>\n    </tr>\n    <tr>\n      <th>3</th>\n      <td>1.523030</td>\n    </tr>\n    <tr>\n      <th>4</th>\n      <td>-0.234153</td>\n    </tr>\n  </tbody>\n</table>\n</div>"
     },
     "metadata": {},
     "execution_count": 2
    }
   ],
   "source": [
    "frame = pd.DataFrame(np.random.randn(1000), columns=['data'])\n",
    "frame.head()"
   ]
  },
  {
   "cell_type": "code",
   "execution_count": 3,
   "metadata": {},
   "outputs": [
    {
     "output_type": "execute_result",
     "data": {
      "text/plain": [
       "0       (0.306, 2.079]\n",
       "1      (-1.468, 0.306]\n",
       "2       (0.306, 2.079]\n",
       "3       (0.306, 2.079]\n",
       "4      (-1.468, 0.306]\n",
       "            ...       \n",
       "995    (-1.468, 0.306]\n",
       "996     (0.306, 2.079]\n",
       "997     (0.306, 2.079]\n",
       "998    (-1.468, 0.306]\n",
       "999     (0.306, 2.079]\n",
       "Name: data, Length: 1000, dtype: category\n",
       "Categories (4, interval[float64]): [(-3.248, -1.468] < (-1.468, 0.306] < (0.306, 2.079] < (2.079, 3.853]]"
      ]
     },
     "metadata": {},
     "execution_count": 3
    }
   ],
   "source": [
    "quartiles = pd.cut(frame.data, 4)\n",
    "quartiles"
   ]
  },
  {
   "source": [
    "cut返回的Categorical对象可以直接传递给groupby:"
   ],
   "cell_type": "markdown",
   "metadata": {}
  },
  {
   "cell_type": "code",
   "execution_count": 4,
   "metadata": {},
   "outputs": [
    {
     "output_type": "execute_result",
     "data": {
      "text/plain": [
       "                       min       max  count      mean\n",
       "data                                                 \n",
       "(-3.248, -1.468] -3.241267 -1.478522   60.0 -1.856827\n",
       "(-1.468, 0.306]  -1.463515  0.301547  562.0 -0.442008\n",
       "(0.306, 2.079]    0.307300  2.075401  357.0  0.918120\n",
       "(2.079, 3.853]    2.092387  3.852731   21.0  2.446729"
      ],
      "text/html": "<div>\n<style scoped>\n    .dataframe tbody tr th:only-of-type {\n        vertical-align: middle;\n    }\n\n    .dataframe tbody tr th {\n        vertical-align: top;\n    }\n\n    .dataframe thead th {\n        text-align: right;\n    }\n</style>\n<table border=\"1\" class=\"dataframe\">\n  <thead>\n    <tr style=\"text-align: right;\">\n      <th></th>\n      <th>min</th>\n      <th>max</th>\n      <th>count</th>\n      <th>mean</th>\n    </tr>\n    <tr>\n      <th>data</th>\n      <th></th>\n      <th></th>\n      <th></th>\n      <th></th>\n    </tr>\n  </thead>\n  <tbody>\n    <tr>\n      <th>(-3.248, -1.468]</th>\n      <td>-3.241267</td>\n      <td>-1.478522</td>\n      <td>60.0</td>\n      <td>-1.856827</td>\n    </tr>\n    <tr>\n      <th>(-1.468, 0.306]</th>\n      <td>-1.463515</td>\n      <td>0.301547</td>\n      <td>562.0</td>\n      <td>-0.442008</td>\n    </tr>\n    <tr>\n      <th>(0.306, 2.079]</th>\n      <td>0.307300</td>\n      <td>2.075401</td>\n      <td>357.0</td>\n      <td>0.918120</td>\n    </tr>\n    <tr>\n      <th>(2.079, 3.853]</th>\n      <td>2.092387</td>\n      <td>3.852731</td>\n      <td>21.0</td>\n      <td>2.446729</td>\n    </tr>\n  </tbody>\n</table>\n</div>"
     },
     "metadata": {},
     "execution_count": 4
    }
   ],
   "source": [
    "def get_stats(group):\n",
    "    return {'min': group.min(), 'max': group.max(), 'count': group.count(), 'mean': group.mean()}\n",
    "\n",
    "\n",
    "grouped = frame.data.groupby(quartiles)\n",
    "grouped.apply(get_stats).unstack()"
   ]
  },
  {
   "source": [
    "这些就是等长桶，为了根据样本分位数计算出等大小的桶，则需要使用qcut，通过传递labels=False来获得分位数数值:"
   ],
   "cell_type": "markdown",
   "metadata": {}
  },
  {
   "cell_type": "code",
   "execution_count": 5,
   "metadata": {},
   "outputs": [
    {
     "output_type": "execute_result",
     "data": {
      "text/plain": [
       "           min       max  count      mean\n",
       "data                                     \n",
       "0    -3.241267 -1.245739  100.0 -1.656631\n",
       "1    -1.244655 -0.808298  100.0 -0.997777\n",
       "2    -0.802277 -0.524520  100.0 -0.651002\n",
       "3    -0.522860 -0.241236  100.0 -0.391406\n",
       "4    -0.240325  0.024510  100.0 -0.102573\n",
       "5     0.026091  0.248221  100.0  0.140939\n",
       "6     0.249384  0.513786  100.0  0.374631\n",
       "7     0.514439  0.813510  100.0  0.657138\n",
       "8     0.813517  1.305479  100.0  1.023412\n",
       "9     1.307143  3.852731  100.0  1.796588"
      ],
      "text/html": "<div>\n<style scoped>\n    .dataframe tbody tr th:only-of-type {\n        vertical-align: middle;\n    }\n\n    .dataframe tbody tr th {\n        vertical-align: top;\n    }\n\n    .dataframe thead th {\n        text-align: right;\n    }\n</style>\n<table border=\"1\" class=\"dataframe\">\n  <thead>\n    <tr style=\"text-align: right;\">\n      <th></th>\n      <th>min</th>\n      <th>max</th>\n      <th>count</th>\n      <th>mean</th>\n    </tr>\n    <tr>\n      <th>data</th>\n      <th></th>\n      <th></th>\n      <th></th>\n      <th></th>\n    </tr>\n  </thead>\n  <tbody>\n    <tr>\n      <th>0</th>\n      <td>-3.241267</td>\n      <td>-1.245739</td>\n      <td>100.0</td>\n      <td>-1.656631</td>\n    </tr>\n    <tr>\n      <th>1</th>\n      <td>-1.244655</td>\n      <td>-0.808298</td>\n      <td>100.0</td>\n      <td>-0.997777</td>\n    </tr>\n    <tr>\n      <th>2</th>\n      <td>-0.802277</td>\n      <td>-0.524520</td>\n      <td>100.0</td>\n      <td>-0.651002</td>\n    </tr>\n    <tr>\n      <th>3</th>\n      <td>-0.522860</td>\n      <td>-0.241236</td>\n      <td>100.0</td>\n      <td>-0.391406</td>\n    </tr>\n    <tr>\n      <th>4</th>\n      <td>-0.240325</td>\n      <td>0.024510</td>\n      <td>100.0</td>\n      <td>-0.102573</td>\n    </tr>\n    <tr>\n      <th>5</th>\n      <td>0.026091</td>\n      <td>0.248221</td>\n      <td>100.0</td>\n      <td>0.140939</td>\n    </tr>\n    <tr>\n      <th>6</th>\n      <td>0.249384</td>\n      <td>0.513786</td>\n      <td>100.0</td>\n      <td>0.374631</td>\n    </tr>\n    <tr>\n      <th>7</th>\n      <td>0.514439</td>\n      <td>0.813510</td>\n      <td>100.0</td>\n      <td>0.657138</td>\n    </tr>\n    <tr>\n      <th>8</th>\n      <td>0.813517</td>\n      <td>1.305479</td>\n      <td>100.0</td>\n      <td>1.023412</td>\n    </tr>\n    <tr>\n      <th>9</th>\n      <td>1.307143</td>\n      <td>3.852731</td>\n      <td>100.0</td>\n      <td>1.796588</td>\n    </tr>\n  </tbody>\n</table>\n</div>"
     },
     "metadata": {},
     "execution_count": 5
    }
   ],
   "source": [
    "grouping = pd.qcut(frame.data, 10, labels=False)\n",
    "grouped = frame.data.groupby(grouping)\n",
    "grouped.apply(get_stats).unstack()"
   ]
  },
  {
   "cell_type": "code",
   "execution_count": 6,
   "metadata": {},
   "outputs": [
    {
     "output_type": "execute_result",
     "data": {
      "text/plain": [
       "0      6\n",
       "1      4\n",
       "2      7\n",
       "3      9\n",
       "4      4\n",
       "      ..\n",
       "995    3\n",
       "996    9\n",
       "997    7\n",
       "998    2\n",
       "999    7\n",
       "Name: data, Length: 1000, dtype: int64"
      ]
     },
     "metadata": {},
     "execution_count": 6
    }
   ],
   "source": [
    "grouping"
   ]
  }
 ]
}