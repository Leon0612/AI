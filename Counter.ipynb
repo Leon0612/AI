{
 "metadata": {
  "language_info": {
   "codemirror_mode": {
    "name": "ipython",
    "version": 3
   },
   "file_extension": ".py",
   "mimetype": "text/x-python",
   "name": "python",
   "nbconvert_exporter": "python",
   "pygments_lexer": "ipython3",
   "version": "3.8.5"
  },
  "orig_nbformat": 2,
  "kernelspec": {
   "name": "python385jvsc74a57bd07b4b4feff2f24a0f0a34464dbe537a36fda679851528fb8735cb41fa49dffb2d",
   "display_name": "Python 3.8.5 64-bit ('base': conda)"
  }
 },
 "nbformat": 4,
 "nbformat_minor": 2,
 "cells": [
  {
   "source": [
    "## Counter对象\n",
    "程序可通过任何可迭代对象参数来创建Counter对象，此时Counter将会自动统计各元素出现的次数，并以元素为key，出现的次数为value来构建Counter对象；程序也能以dict为参数来构建Counter对象；还能通过关键词参数来构建:"
   ],
   "cell_type": "markdown",
   "metadata": {}
  },
  {
   "cell_type": "code",
   "execution_count": 1,
   "metadata": {},
   "outputs": [
    {
     "output_type": "execute_result",
     "data": {
      "text/plain": [
       "Counter({'h': 7, 'a': 5})"
      ]
     },
     "metadata": {},
     "execution_count": 1
    }
   ],
   "source": [
    "from collections import Counter\n",
    "\n",
    "c1 = Counter()\n",
    "\n",
    "# 以可迭代对象创建Counter对象\n",
    "c2 = Counter('hahahaaahhhh')\n",
    "c2"
   ]
  },
  {
   "cell_type": "code",
   "execution_count": 2,
   "metadata": {},
   "outputs": [
    {
     "output_type": "execute_result",
     "data": {
      "text/plain": [
       "Counter({'Python': 3, 'Java': 2, 'Go': 1})"
      ]
     },
     "metadata": {},
     "execution_count": 2
    }
   ],
   "source": [
    "c3 = Counter(['Python', 'Java', 'Go', 'Java', 'Python', 'Python'])\n",
    "c3"
   ]
  },
  {
   "cell_type": "code",
   "execution_count": 3,
   "metadata": {},
   "outputs": [
    {
     "output_type": "execute_result",
     "data": {
      "text/plain": [
       "Counter({'red': 4, 'yellow': 3})"
      ]
     },
     "metadata": {},
     "execution_count": 3
    }
   ],
   "source": [
    "# 以dict来创建Counter对象\n",
    "c4 = Counter({'red': 4, 'yellow': 3})\n",
    "c4"
   ]
  },
  {
   "cell_type": "code",
   "execution_count": 4,
   "metadata": {},
   "outputs": [
    {
     "output_type": "execute_result",
     "data": {
      "text/plain": [
       "Counter({'Python': 4, 'Go': 2})"
      ]
     },
     "metadata": {},
     "execution_count": 4
    }
   ],
   "source": [
    "# 使用关键词参数创建Counter\n",
    "c5 = Counter(Python=4, Go=2)\n",
    "c5"
   ]
  },
  {
   "source": [
    "事实上，Counter继承dict类，因此它完全可以调用dict所支持的方法。此外，Counter还提供了如下三个常用的方法：\n",
    "\n",
    "1、elements(): 该方法返回该Counter所包含的全部元素组成的迭代器\n",
    "\n",
    "2、most_common(n): 返回该Counter中出现最多的n个元素\n",
    "\n",
    "3、substract(iterable-or-mapping): 计算减去之后各元素出现的次数 "
   ],
   "cell_type": "markdown",
   "metadata": {}
  },
  {
   "cell_type": "code",
   "execution_count": 5,
   "metadata": {},
   "outputs": [
    {
     "output_type": "execute_result",
     "data": {
      "text/plain": [
       "Counter({'Swift': 2, 'Kotlin': 2, 'Go': 1})"
      ]
     },
     "metadata": {},
     "execution_count": 5
    }
   ],
   "source": [
    "cnt = Counter()\n",
    "for word in ['Swift', 'Kotlin', 'Kotlin', 'Swift', 'Go']:\n",
    "    cnt[word] += 1\n",
    "\n",
    "cnt"
   ]
  },
  {
   "cell_type": "code",
   "execution_count": 6,
   "metadata": {},
   "outputs": [
    {
     "output_type": "execute_result",
     "data": {
      "text/plain": [
       "['Swift', 'Swift', 'Kotlin', 'Kotlin', 'Go']"
      ]
     },
     "metadata": {},
     "execution_count": 6
    }
   ],
   "source": [
    "list(cnt.elements())"
   ]
  },
  {
   "cell_type": "code",
   "execution_count": 7,
   "metadata": {},
   "outputs": [
    {
     "output_type": "execute_result",
     "data": {
      "text/plain": [
       "[('Swift', 2), ('Kotlin', 2)]"
      ]
     },
     "metadata": {},
     "execution_count": 7
    }
   ],
   "source": [
    "cnt.most_common(2)"
   ]
  },
  {
   "cell_type": "code",
   "execution_count": 8,
   "metadata": {},
   "outputs": [
    {
     "output_type": "execute_result",
     "data": {
      "text/plain": [
       "Counter({'a': 2, 'b': 0, 'c': -3, 'd': -6})"
      ]
     },
     "metadata": {},
     "execution_count": 8
    }
   ],
   "source": [
    "c = Counter({'a': 3, 'b': 2, 'c': 0, 'd': -2})\n",
    "d = Counter({'a': 1, 'b': 2, 'c': 3, 'd': 4})\n",
    "c.subtract(d)\n",
    "c"
   ]
  }
 ]
}