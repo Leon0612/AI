{
 "metadata": {
  "language_info": {
   "codemirror_mode": {
    "name": "ipython",
    "version": 3
   },
   "file_extension": ".py",
   "mimetype": "text/x-python",
   "name": "python",
   "nbconvert_exporter": "python",
   "pygments_lexer": "ipython3",
   "version": "3.8.5"
  },
  "orig_nbformat": 2,
  "kernelspec": {
   "name": "python385jvsc74a57bd07b4b4feff2f24a0f0a34464dbe537a36fda679851528fb8735cb41fa49dffb2d",
   "display_name": "Python 3.8.5 64-bit ('base': conda)"
  }
 },
 "nbformat": 4,
 "nbformat_minor": 2,
 "cells": [
  {
   "source": [
    "## defaultdict对象\n",
    "defaultdict是dict的子类，因此defaultdict可以被当成dict来使用，dict支持的功能，defaultdict基本都支持。它与dict最大的区别在于：如果程序试图根据不存在的key来访问dict中对应的value，则会引发KeyError异常；而defaultdict则可以提供一个default_factory属性，该属性所指定的函数负责为不存在的key来生成value:"
   ],
   "cell_type": "markdown",
   "metadata": {}
  },
  {
   "cell_type": "code",
   "execution_count": 1,
   "metadata": {},
   "outputs": [
    {
     "output_type": "execute_result",
     "data": {
      "text/plain": [
       "0"
      ]
     },
     "metadata": {},
     "execution_count": 1
    }
   ],
   "source": [
    "from collections import defaultdict\n",
    "\n",
    "my_dict = {}\n",
    "# 使用int作为defaultdict的default_factory，当key不存在时，将会返回int函数的返回值\n",
    "my_defaultdict = defaultdict(int)\n",
    "my_defaultdict['a']"
   ]
  },
  {
   "cell_type": "code",
   "execution_count": 2,
   "metadata": {},
   "outputs": [
    {
     "output_type": "error",
     "ename": "KeyError",
     "evalue": "'a'",
     "traceback": [
      "\u001b[1;31m---------------------------------------------------------------------------\u001b[0m",
      "\u001b[1;31mKeyError\u001b[0m                                  Traceback (most recent call last)",
      "\u001b[1;32m<ipython-input-2-150125666ba1>\u001b[0m in \u001b[0;36m<module>\u001b[1;34m\u001b[0m\n\u001b[1;32m----> 1\u001b[1;33m \u001b[0mmy_dict\u001b[0m\u001b[1;33m[\u001b[0m\u001b[1;34m'a'\u001b[0m\u001b[1;33m]\u001b[0m\u001b[1;33m\u001b[0m\u001b[1;33m\u001b[0m\u001b[0m\n\u001b[0m",
      "\u001b[1;31mKeyError\u001b[0m: 'a'"
     ]
    }
   ],
   "source": [
    "my_dict['a']"
   ]
  },
  {
   "source": [
    "假如程序中包含多个key-value对数据，其中有些key是重复的，程序希望对这些键值对进行整理，key对应一个list，该list中包含这组数据中该key对应的所有value。通过普通的dict进行操作:"
   ],
   "cell_type": "markdown",
   "metadata": {}
  },
  {
   "cell_type": "code",
   "execution_count": 3,
   "metadata": {},
   "outputs": [
    {
     "output_type": "execute_result",
     "data": {
      "text/plain": [
       "[('python', [1, 3, 9]), ('swift', [2, 4])]"
      ]
     },
     "metadata": {},
     "execution_count": 3
    }
   ],
   "source": [
    "s = [('python', 1), ('swift', 2), ('python', 3), ('swift', 4), ('python', 9)]\n",
    "d = {}\n",
    "for k, v in s:\n",
    "    # setdefault方法用于获取指定key对应的value\n",
    "    # 如果该key不存在，则先将key对应的value设置成默认值: []\n",
    "    d.setdefault(k, []).append(v)\n",
    "\n",
    "\n",
    "list(d.items())"
   ]
  },
  {
   "source": [
    "上面用普通的dict来处理，需要处理key不存在的情况。如果使用defaultdict来处理则简单的多，因为程序可以直接为defaultdict中不存在的key设置默认的value:"
   ],
   "cell_type": "markdown",
   "metadata": {}
  },
  {
   "cell_type": "code",
   "execution_count": 4,
   "metadata": {},
   "outputs": [
    {
     "output_type": "execute_result",
     "data": {
      "text/plain": [
       "[('python', [1, 3, 9]), ('swift', [2, 4])]"
      ]
     },
     "metadata": {},
     "execution_count": 4
    }
   ],
   "source": [
    "d = defaultdict(list)\n",
    "for k, v in s:\n",
    "    d[k].append(v)\n",
    "\n",
    "\n",
    "list(d.items())"
   ]
  }
 ]
}