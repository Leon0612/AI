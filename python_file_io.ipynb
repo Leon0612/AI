{
 "metadata": {
  "language_info": {
   "codemirror_mode": {
    "name": "ipython",
    "version": 3
   },
   "file_extension": ".py",
   "mimetype": "text/x-python",
   "name": "python",
   "nbconvert_exporter": "python",
   "pygments_lexer": "ipython3",
   "version": "3.8.5"
  },
  "orig_nbformat": 2,
  "kernelspec": {
   "name": "python385jvsc74a57bd07b4b4feff2f24a0f0a34464dbe537a36fda679851528fb8735cb41fa49dffb2d",
   "display_name": "Python 3.8.5 64-bit ('base': conda)"
  }
 },
 "nbformat": 4,
 "nbformat_minor": 2,
 "cells": [
  {
   "source": [
    "### 使用os.path操作目录"
   ],
   "cell_type": "markdown",
   "metadata": {}
  },
  {
   "cell_type": "code",
   "execution_count": 1,
   "metadata": {},
   "outputs": [
    {
     "output_type": "stream",
     "name": "stdout",
     "text": [
      "绝对路径: c:\\Users\\Leon\\Desktop\\visits.txt\n获取共同前缀名: /usr/l\n获取共同路径: \\usr\n获取目录: usr/local\n判断指定目录是否存在: False\n"
     ]
    }
   ],
   "source": [
    "import os\n",
    "import time\n",
    "\n",
    "print(\"绝对路径:\", os.path.abspath('./visits.txt'))\n",
    "print(\"获取共同前缀名:\", os.path.commonprefix(['/usr/lib', '/usr/local/lib']))\n",
    "print(\"获取共同路径:\", os.path.commonpath(['/usr/lib', '/usr/local/lib']))\n",
    "print(\"获取目录:\", os.path.dirname('usr/local/test.txt'))\n",
    "print(\"判断指定目录是否存在:\", os.path.exists('usr/local/test.txt'))"
   ]
  },
  {
   "cell_type": "code",
   "execution_count": 2,
   "metadata": {},
   "outputs": [
    {
     "output_type": "stream",
     "name": "stdout",
     "text": [
      "判断是否为目录: False\n判断是否为文件: True\n获取文件大小: 10\n获取创建时间: Mon May 31 15:21:40 2021\n获取最近一次访问时间: Mon May 31 15:21:40 2021\n获取最后一次修改时间: Mon Mar 15 13:51:46 2021\n判断是否为同一个文件: True\n"
     ]
    }
   ],
   "source": [
    "print(\"判断是否为目录:\", os.path.isdir('./visits.txt'))\n",
    "print(\"判断是否为文件:\", os.path.isfile('./visits.txt'))\n",
    "print(\"获取文件大小:\", os.path.getsize('./visits.txt'))\n",
    "print(\"获取创建时间:\", time.ctime(os.path.getctime('./visits.txt')))\n",
    "print(\"获取最近一次访问时间:\", time.ctime(os.path.getatime('./visits.txt')))\n",
    "print(\"获取最后一次修改时间:\", time.ctime(os.path.getmtime('./visits.txt')))\n",
    "print(\"判断是否为同一个文件:\", os.path.samefile('visits.txt', './visits.txt'))"
   ]
  },
  {
   "source": [
    "### 使用fnmatch处理文件名匹配\n",
    "1、\\* : 可匹配任意个任意字符  \n",
    "2、? : 可匹配一个任意字符  \n",
    "3、\\[字符序列\\] : 可匹配括号里字符序列中的任意字符  \n",
    "4、\\[!字符序列\\] : 可匹配不在中括号里字符序列中的任意字符  \n",
    "5、fnmatch.fnmatch(filename, pattern) : 判断指定文件名是否匹配指定pattern  \n",
    "6、fnmatch.fnmatchcase(filename, pattern) : 同上，但区分大小写  \n",
    "7、fnmatch.filter(names, pattern) : 该函数对names列表进行过滤，返回匹配pattern的文件名组成的子集合   "
   ],
   "cell_type": "markdown",
   "metadata": {}
  },
  {
   "cell_type": "code",
   "execution_count": 3,
   "metadata": {},
   "outputs": [
    {
     "output_type": "execute_result",
     "data": {
      "text/plain": [
       "['a.py', 'c.py']"
      ]
     },
     "metadata": {},
     "execution_count": 3
    }
   ],
   "source": [
    "import fnmatch\n",
    "\n",
    "names = ['a.py', 'b.py', 'c.py', 'd.py']\n",
    "sub = fnmatch.filter(names, '[ac].py')\n",
    "sub"
   ]
  },
  {
   "cell_type": "code",
   "execution_count": 4,
   "metadata": {},
   "outputs": [
    {
     "output_type": "stream",
     "name": "stdout",
     "text": [
      "python_file_io.ipynb\n"
     ]
    }
   ],
   "source": [
    "from pathlib import Path\n",
    "\n",
    "# 遍历当前目录下的所有文件和子目录\n",
    "for file in Path('.').iterdir():\n",
    "    # 访问所有以'.ipynb'结尾的文件\n",
    "    if fnmatch.fnmatch(file, '*.ipynb'):\n",
    "        print(file)"
   ]
  },
  {
   "source": [
    "### 打开文件\n",
    "open()函数支持以下文件打开模式:  \n",
    "1、r : read-only, 用r和r+模式(读写模式)都不能创建文件，用w, w+, a, a+可以打开不存在的文件，open函数自动创建新文件。  \n",
    "2、w : write mode, 用此模式打开文件时open函数会立即清空文件内容。  \n",
    "3、a : 追加模式。  \n",
    "4、b : 二进制模式。rb表示二进制只读模式，rb+表示二进制读写模式，ab代表二进制追加模式，如果程序需要读写文本文件以外的其他文件，都应该添加b模式。"
   ],
   "cell_type": "markdown",
   "metadata": {}
  },
  {
   "cell_type": "code",
   "execution_count": 5,
   "metadata": {},
   "outputs": [
    {
     "output_type": "stream",
     "name": "stdout",
     "text": [
      "<_io.TextIOWrapper name='./visits.txt' mode='r' encoding='cp936'>\n所访问文件的编码方式: cp936\n所访问文件的访问模式: r\n所访问文件对象打开的文件名: ./visits.txt\n所访问文件是否已经关闭: False\n"
     ]
    }
   ],
   "source": [
    "# 以默认方式打开文件\n",
    "f = open('./visits.txt')\n",
    "print(f)\n",
    "print(\"所访问文件的编码方式:\", f.encoding)\n",
    "print(\"所访问文件的访问模式:\", f.mode)\n",
    "print(\"所访问文件对象打开的文件名:\", f.name)\n",
    "print(\"所访问文件是否已经关闭:\", f.closed)"
   ]
  },
  {
   "source": [
    "### 按字节或字符读取文件"
   ],
   "cell_type": "markdown",
   "metadata": {}
  },
  {
   "cell_type": "code",
   "execution_count": 6,
   "metadata": {},
   "outputs": [
    {
     "output_type": "stream",
     "name": "stdout",
     "text": [
      "15\n35\n80"
     ]
    }
   ],
   "source": [
    "f = open('./visits.txt', 'r', True)     # 当第三个参数为True时，打开的文件是带缓冲的，此时I/O将具有更好的性能\n",
    "try:\n",
    "    while True:\n",
    "        ch = f.read(1)\n",
    "        if not ch:\n",
    "            break\n",
    "        print(ch, end='')\n",
    "finally:\n",
    "    f.close()"
   ]
  },
  {
   "source": [
    "使用open函数打开文本文件时，总是使用当前操作系统的字符集，例如WINDOWS平台，open函数总是使用GBK字符集。因此打开的txt文件也必须用GBK字符集保存，否则会出现UnicodeDecodeError。如果要读取的文件使用的字符集与当前操作系统的字符集不匹配，可以使用二进制模式读取，然后用bytes的decode方法恢复成字符串。或者利用open函数打开文件时通过encoding参数指定字符集:"
   ],
   "cell_type": "markdown",
   "metadata": {}
  },
  {
   "cell_type": "code",
   "execution_count": 7,
   "metadata": {},
   "outputs": [
    {
     "output_type": "execute_result",
     "data": {
      "text/plain": [
       "'素胚勾勒出青花\\r\\n笔锋浓转淡\\r\\n瓶身描绘的牡丹\\r\\n一如你初妆'"
      ]
     },
     "metadata": {},
     "execution_count": 7
    }
   ],
   "source": [
    "f = open('./lyric.txt', mode='rb')\n",
    "f.read().decode('utf-8')"
   ]
  },
  {
   "cell_type": "code",
   "execution_count": 8,
   "metadata": {},
   "outputs": [],
   "source": [
    "f.close()"
   ]
  },
  {
   "source": [
    "### 按行读取"
   ],
   "cell_type": "markdown",
   "metadata": {}
  },
  {
   "cell_type": "code",
   "execution_count": 9,
   "metadata": {},
   "outputs": [
    {
     "output_type": "stream",
     "name": "stdout",
     "text": [
      "素胚勾勒出青花\n笔锋浓转淡\n瓶身描绘的牡丹\n一如你初妆"
     ]
    }
   ],
   "source": [
    "f = open('./lyric.txt', mode='r', encoding='utf-8')\n",
    "try:\n",
    "    while True:\n",
    "        # 每次读取一行\n",
    "        line = f.readline()\n",
    "        # 如果没有读取到数据，就跳出循环\n",
    "        if not line:\n",
    "            break\n",
    "        print(line, end='')\n",
    "finally:\n",
    "    f.close()"
   ]
  },
  {
   "cell_type": "code",
   "execution_count": 10,
   "metadata": {},
   "outputs": [
    {
     "output_type": "stream",
     "name": "stdout",
     "text": [
      "素胚勾勒出青花\n笔锋浓转淡\n瓶身描绘的牡丹\n一如你初妆"
     ]
    }
   ],
   "source": [
    "f = open('./lyric.txt', mode='r', encoding='utf-8')\n",
    "try:\n",
    "    for line in f.readlines():\n",
    "        print(line, end='')\n",
    "finally:\n",
    "    f.close()"
   ]
  },
  {
   "source": [
    "### 使用fileinput读取多个输入流"
   ],
   "cell_type": "markdown",
   "metadata": {}
  },
  {
   "cell_type": "code",
   "execution_count": 11,
   "metadata": {},
   "outputs": [
    {
     "output_type": "stream",
     "name": "stdout",
     "text": [
      "./visits.txt 1 15\n./visits.txt 2 35\n./visits.txt 3 80./test.txt 1 33\n./test.txt 2 34\n./test.txt 3 35"
     ]
    }
   ],
   "source": [
    "import fileinput\n",
    "\n",
    "for line in fileinput.input(files=('./visits.txt', './test.txt')):\n",
    "    print(fileinput.filename(), fileinput.filelineno(), line, end='')"
   ]
  },
  {
   "cell_type": "code",
   "execution_count": 12,
   "metadata": {},
   "outputs": [],
   "source": [
    "fileinput.close()"
   ]
  },
  {
   "source": [
    "## 使用with语句：可以自动关闭资源\n",
    "使用with语句来管理资源，不需要显式地关闭文件，其实现原理是: 使用with语句管理的资源必须是一个实现上下文管理协议的类，这个类的对象可被称为上下文管理器，要实现上下文管理协议，必须实现以下两个方法:   \n",
    "- context_manager.\\__enter\\__(): 进入上下文管理器自动调用的方法，该方法会在with代码块执行之前执行。      \n",
    "- context_manager.\\__exit\\__(): 退出上下文管理器时自动调用的方法，如果with代码块成功执行结束，程序自动调用该方法。\n",
    "  \n",
    "上面程序所用的文件对象、FileInput对象，都实现了上述两个方法，因此可以接收with语句的管理。"
   ],
   "cell_type": "markdown",
   "metadata": {}
  },
  {
   "cell_type": "code",
   "execution_count": 13,
   "metadata": {},
   "outputs": [
    {
     "output_type": "stream",
     "name": "stdout",
     "text": [
      "素胚勾勒出青花\n笔锋浓转淡\n瓶身描绘的牡丹\n一如你初妆"
     ]
    }
   ],
   "source": [
    "with open('lyric.txt', mode='r', encoding='utf-8') as f:\n",
    "    for line in f:\n",
    "        print(line, end='')"
   ]
  },
  {
   "cell_type": "code",
   "execution_count": 14,
   "metadata": {},
   "outputs": [
    {
     "output_type": "stream",
     "name": "stdout",
     "text": [
      "15\n35\n8033\n34\n35"
     ]
    }
   ],
   "source": [
    "import fileinput\n",
    "\n",
    "with fileinput.input(files=('./visits.txt', './test.txt')) as f:\n",
    "    for line in f:\n",
    "        print(line, end='')"
   ]
  }
 ]
}