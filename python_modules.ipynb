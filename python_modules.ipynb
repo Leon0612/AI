{
 "metadata": {
  "language_info": {
   "codemirror_mode": {
    "name": "ipython",
    "version": 3
   },
   "file_extension": ".py",
   "mimetype": "text/x-python",
   "name": "python",
   "nbconvert_exporter": "python",
   "pygments_lexer": "ipython3",
   "version": "3.8.5"
  },
  "orig_nbformat": 2,
  "kernelspec": {
   "name": "python385jvsc74a57bd07b4b4feff2f24a0f0a34464dbe537a36fda679851528fb8735cb41fa49dffb2d",
   "display_name": "Python 3.8.5 64-bit ('base': conda)"
  }
 },
 "nbformat": 4,
 "nbformat_minor": 2,
 "cells": [
  {
   "source": [
    "### MENU\n",
    "1. sys  \n",
    "2. OS  \n",
    "3. random模块  \n",
    "4. time模块  \n",
    "5. json模块  \n",
    "6. 正则表达式(Regular Expression)\n",
    "7. 容器相关类 --> set和frozenset  \n",
    "8. 容器相关类 --> 双端队列deque\n",
    "9. 容器相关类 --> ChainMap对象\n",
    "10. 容器相关类 --> OrderedDict对象  \n",
    "11. 函数相关模块 --> itertools  \n",
    "12. 函数相关模块 --> functools  \n",
    "13. decimal"
   ],
   "cell_type": "markdown",
   "metadata": {}
  },
  {
   "source": [
    "### sys: 代表了Python解释器，主要用于获取和Python解释器相关的信息"
   ],
   "cell_type": "markdown",
   "metadata": {}
  },
  {
   "cell_type": "code",
   "execution_count": 1,
   "metadata": {},
   "outputs": [
    {
     "output_type": "stream",
     "name": "stdout",
     "text": [
      "win32\n\n3.8.5 (default, Sep  3 2020, 21:29:08) [MSC v.1916 64 bit (AMD64)]\n"
     ]
    }
   ],
   "source": [
    "print(sys.platform, end='\\n\\n')\n",
    "print(sys.version)"
   ]
  },
  {
   "cell_type": "code",
   "execution_count": 2,
   "metadata": {},
   "outputs": [
    {
     "output_type": "stream",
     "name": "stdout",
     "text": [
      "ipykernel_launcher\n--ip=127.0.0.1\n--stdin=9028\n--control=9026\n--hb=9025\n--Session.signature_scheme=\"hmac-sha256\"\n--Session.key=b\"24e8815c-4eb9-4549-91e1-ff9ac6e22c86\"\n--shell=9027\n--transport=\"tcp\"\n--iopub=9029\n--f=C:\\Users\\Leon\\AppData\\Local\\Temp\\tmp-143404vbD708b1409.json\n"
     ]
    }
   ],
   "source": [
    "# 获取运行参数\n",
    "for arg in sys.argv:\n",
    "    print(arg)"
   ]
  },
  {
   "source": [
    "### OS: 主要用于获取程序运行所在操作系统的相关信息"
   ],
   "cell_type": "markdown",
   "metadata": {}
  },
  {
   "cell_type": "code",
   "execution_count": 3,
   "metadata": {},
   "outputs": [
    {
     "output_type": "stream",
     "name": "stdout",
     "text": [
      "8\n\\\n;\n"
     ]
    }
   ],
   "source": [
    "print(os.cpu_count())\n",
    "print(os.sep)\n",
    "print(os.pathsep)"
   ]
  },
  {
   "source": [
    "### random模块"
   ],
   "cell_type": "markdown",
   "metadata": {}
  },
  {
   "cell_type": "code",
   "execution_count": 4,
   "metadata": {},
   "outputs": [
    {
     "output_type": "stream",
     "name": "stdout",
     "text": [
      "['Random', 'seed', 'random', 'uniform', 'randint', 'choice', 'sample', 'randrange', 'shuffle', 'normalvariate', 'lognormvariate', 'expovariate', 'vonmisesvariate', 'gammavariate', 'triangular', 'gauss', 'betavariate', 'paretovariate', 'weibullvariate', 'getstate', 'setstate', 'getrandbits', 'choices', 'SystemRandom']\n"
     ]
    }
   ],
   "source": [
    "import random\n",
    "\n",
    "print(random.__all__)"
   ]
  },
  {
   "source": [
    "### time模块"
   ],
   "cell_type": "markdown",
   "metadata": {}
  },
  {
   "cell_type": "code",
   "execution_count": 5,
   "metadata": {},
   "outputs": [
    {
     "output_type": "stream",
     "name": "stdout",
     "text": [
      "Sat May 29 13:54:14 2021\n2021-05-29 13:54:14\ntime.struct_time(tm_year=2020, tm_mon=10, tm_mday=26, tm_hour=0, tm_min=0, tm_sec=0, tm_wday=0, tm_yday=300, tm_isdst=-1)\n"
     ]
    }
   ],
   "source": [
    "import time\n",
    "\n",
    "# 将当前事件转换为时间字符串\n",
    "print(time.asctime())\n",
    "\n",
    "# 将当前时间转换为指定格式的字符串\n",
    "print(time.strftime('%Y-%m-%d %H:%M:%S'))\n",
    "\n",
    "# 将指定时间字符串恢复成struct_time对象\n",
    "print(time.strptime('2020年10月26日', '%Y年%m月%d日'))"
   ]
  },
  {
   "source": [
    "### json模块"
   ],
   "cell_type": "markdown",
   "metadata": {}
  },
  {
   "cell_type": "code",
   "execution_count": 6,
   "metadata": {},
   "outputs": [
    {
     "output_type": "stream",
     "name": "stdout",
     "text": [
      "['dump', 'dumps', 'load', 'loads', 'JSONDecoder', 'JSONDecodeError', 'JSONEncoder']\n"
     ]
    }
   ],
   "source": [
    "import json\n",
    "\n",
    "print(json.__all__)"
   ]
  },
  {
   "cell_type": "code",
   "execution_count": 7,
   "metadata": {},
   "outputs": [
    {
     "output_type": "execute_result",
     "data": {
      "text/plain": [
       "'[\"kk\", {\"favorite\": [\"coding\", null, \"game\", 25]}]'"
      ]
     },
     "metadata": {},
     "execution_count": 7
    }
   ],
   "source": [
    "# 将Python对象转换为JSON字符串(元组会被当成数组)\n",
    "s = json.dumps(['kk', {'favorite': ('coding', None, 'game', 25)}])\n",
    "s"
   ]
  },
  {
   "cell_type": "code",
   "execution_count": 8,
   "metadata": {},
   "outputs": [
    {
     "output_type": "execute_result",
     "data": {
      "text/plain": [
       "'\"\\\\\"foo\\\\bar\"'"
      ]
     },
     "metadata": {},
     "execution_count": 8
    }
   ],
   "source": [
    "# 将简单的字符串准换为JSON字符串\n",
    "s1 = json.dumps(\"\\\"foo\\bar\")\n",
    "s1"
   ]
  },
  {
   "cell_type": "code",
   "execution_count": 9,
   "metadata": {},
   "outputs": [
    {
     "output_type": "execute_result",
     "data": {
      "text/plain": [
       "'{\"a\": 0, \"b\": 0, \"c\": 0}'"
      ]
     },
     "metadata": {},
     "execution_count": 9
    }
   ],
   "source": [
    "# 将Python的dict对象转换为JSON字符串，并对key排序\n",
    "s2 = json.dumps({'c': 0, 'b': 0, 'a': 0}, sort_keys=True)\n",
    "s2"
   ]
  },
  {
   "cell_type": "code",
   "execution_count": 10,
   "metadata": {},
   "outputs": [
    {
     "output_type": "execute_result",
     "data": {
      "text/plain": [
       "'[1,2,3,{\"x\":5,\"y\":7}]'"
      ]
     },
     "metadata": {},
     "execution_count": 10
    }
   ],
   "source": [
    "# 将Python转换为JSON字符串并指定JSON分隔符：在逗号和冒号之后没有空格(默认有空格)\n",
    "s3 = json.dumps([1, 2, 3, {'x': 5, 'y': 7}], separators=(',', ':'))\n",
    "s3"
   ]
  },
  {
   "cell_type": "code",
   "execution_count": 11,
   "metadata": {},
   "outputs": [
    {
     "output_type": "execute_result",
     "data": {
      "text/plain": [
       "'{\\n    \"java\": 4,\\n    \"python\": 6\\n}'"
      ]
     },
     "metadata": {},
     "execution_count": 11
    }
   ],
   "source": [
    "# 指定indent为4，意味着转换的JSON字符串有缩进\n",
    "s4 = json.dumps({'java': 4, 'python': 6}, sort_keys=True, indent=4)\n",
    "s4"
   ]
  },
  {
   "cell_type": "code",
   "execution_count": 12,
   "metadata": {},
   "outputs": [
    {
     "output_type": "execute_result",
     "data": {
      "text/plain": [
       "'{\"names\": [\"kk\", \"master\"]}'"
      ]
     },
     "metadata": {},
     "execution_count": 12
    }
   ],
   "source": [
    "# 使用JSONEncoder的encode方法将Python对象转换为JSON字符串\n",
    "s5 = json.JSONEncoder().encode({'names': ('kk', 'master')})\n",
    "s5"
   ]
  },
  {
   "source": [
    "将转换的JSON字符串输出到文件中: json.dump(\\['Swift', {'Python': 'excellent'}\\], f). dumps与dump函数的功能、所支持的基本选项基本相同，只是dumps函数直接返回转换得到的JSON字符串，dump将转换得到的JSON字符串输出到文件中。"
   ],
   "cell_type": "markdown",
   "metadata": {}
  },
  {
   "cell_type": "code",
   "execution_count": 13,
   "metadata": {},
   "outputs": [
    {
     "output_type": "execute_result",
     "data": {
      "text/plain": [
       "['kk', {'favorite': ['coding', None, 'game', 25]}]"
      ]
     },
     "metadata": {},
     "execution_count": 13
    }
   ],
   "source": [
    "# 将JSON字符串恢复成Python列表\n",
    "result1 = json.loads('[\"kk\", {\"favorite\": [\"coding\", null, \"game\", 25]}]')\n",
    "result1"
   ]
  },
  {
   "cell_type": "code",
   "execution_count": 14,
   "metadata": {},
   "outputs": [
    {
     "output_type": "execute_result",
     "data": {
      "text/plain": [
       "'\"foo\"bar'"
      ]
     },
     "metadata": {},
     "execution_count": 14
    }
   ],
   "source": [
    "# 将JSON字符串恢复成Python字符串\n",
    "result2 = json.loads('\"\\\\\"foo\\\\\"bar\"')\n",
    "result2"
   ]
  },
  {
   "cell_type": "code",
   "execution_count": 15,
   "metadata": {},
   "outputs": [],
   "source": [
    "# 从文件流恢复JSON列表\n",
    "# f = open('test.json')\n",
    "# result3.load(f)"
   ]
  },
  {
   "source": [
    "### 正则表达式(Regular Expression)\n",
    "用于描述一种字符串匹配的模式，它可以用于检查一个字符串是否包含有某个字串，也可用于从字符串中提取匹配的子串，或者对字符串中匹配的子串执行替换操作。"
   ],
   "cell_type": "markdown",
   "metadata": {}
  },
  {
   "cell_type": "code",
   "execution_count": 16,
   "metadata": {},
   "outputs": [
    {
     "output_type": "stream",
     "name": "stdout",
     "text": [
      "['match', 'fullmatch', 'search', 'sub', 'subn', 'split', 'findall', 'finditer', 'compile', 'purge', 'template', 'escape', 'error', 'Pattern', 'Match', 'A', 'I', 'L', 'M', 'S', 'X', 'U', 'ASCII', 'IGNORECASE', 'LOCALE', 'MULTILINE', 'DOTALL', 'VERBOSE', 'UNICODE']\n"
     ]
    }
   ],
   "source": [
    "import re\n",
    "\n",
    "print(re.__all__)"
   ]
  },
  {
   "source": [
    "re.compile(pattern, flags=0): 该函数用于将正则表达式字符串编译成\\_sre.SRE\\_Pattern对象，该对象代表了正则表达式编译之后在内存中的对象，它可以缓存并复用正则表达式字符串，如果程序需要多次使用同一个正则表达式字符串，可以考虑先编译它:"
   ],
   "cell_type": "markdown",
   "metadata": {}
  },
  {
   "cell_type": "code",
   "execution_count": 17,
   "metadata": {},
   "outputs": [
    {
     "output_type": "execute_result",
     "data": {
      "text/plain": [
       "re.compile(r'abc', re.UNICODE)"
      ]
     },
     "metadata": {},
     "execution_count": 17
    }
   ],
   "source": [
    "p = re.compile('abc')\n",
    "p"
   ]
  },
  {
   "cell_type": "code",
   "execution_count": 18,
   "metadata": {},
   "outputs": [
    {
     "output_type": "execute_result",
     "data": {
      "text/plain": [
       "<re.Match object; span=(4, 7), match='abc'>"
      ]
     },
     "metadata": {},
     "execution_count": 18
    }
   ],
   "source": [
    "# 调用_sre.SRE_Pattern对象的search()方法\n",
    "p.search(\"www.abc.com\")"
   ]
  },
  {
   "cell_type": "code",
   "execution_count": 19,
   "metadata": {},
   "outputs": [
    {
     "output_type": "execute_result",
     "data": {
      "text/plain": [
       "<re.Match object; span=(4, 7), match='abc'>"
      ]
     },
     "metadata": {},
     "execution_count": 19
    }
   ],
   "source": [
    "# 直接使用正则表达式匹配目标字符串\n",
    "re.search('abc', 'www.abc.com')"
   ]
  },
  {
   "source": [
    "1、re.search(pattern, string, flags=0): 扫描整个字符串，并返字符串中第一处匹配pattern的匹配对象，该函数返回sre.SRE_Pattern对象; \n",
    "\n",
    "2、re.match(pattern, string, flags=0): 尝试从字符串的开始位置来匹配正则表达式，如果从开始位置不成功，返回None。该函数返回sre.SRE_Pattern对象，该对象包含的span(n)方法用于获取第n+1个组的匹配位置，group(n)方法用于获取第n+1个组所匹配的子串。\n",
    "\n",
    "3、search和match的区别在于：match必须从字符串开始处就匹配，但search则可以搜索整个字符串。"
   ],
   "cell_type": "markdown",
   "metadata": {}
  },
  {
   "cell_type": "code",
   "execution_count": 20,
   "metadata": {},
   "outputs": [
    {
     "output_type": "execute_result",
     "data": {
      "text/plain": [
       "['abc', 'abc']"
      ]
     },
     "metadata": {},
     "execution_count": 20
    }
   ],
   "source": [
    "re.findall('abc', 'www.abc.com, abc_website', re.I)"
   ]
  },
  {
   "cell_type": "code",
   "execution_count": 21,
   "metadata": {},
   "outputs": [
    {
     "output_type": "stream",
     "name": "stdout",
     "text": [
      "(4, 7) --> abc\n(13, 16) --> abc\n"
     ]
    }
   ],
   "source": [
    "it = re.finditer('abc', 'www.abc.com, abc_website', re.I)\n",
    "\n",
    "for e in it:\n",
    "    print(str(e.span()) + \" --> \" + e.group())"
   ]
  },
  {
   "source": [
    "1、re.fullmatch(pattern, string, flags=0): 该函数要求整个字符串能匹配pattern，如果匹配则返回包含匹配信息的\\_sre.SRE_Match对象，否则返回None;  \n",
    "\n",
    "2、re.sub(pattern, repl, string, count=0, flags=0): 该函数用于将string字符串中所有匹配pattern的内容替换成repl；repl既可以是被替换的字符串，也可以是一个函数。count参数控制最多替换多少次，如果指定count为0，则表示全部替换。"
   ],
   "cell_type": "markdown",
   "metadata": {}
  },
  {
   "cell_type": "code",
   "execution_count": 22,
   "metadata": {},
   "outputs": [
    {
     "output_type": "execute_result",
     "data": {
      "text/plain": [
       "'2020/10/29'"
      ]
     },
     "metadata": {},
     "execution_count": 22
    }
   ],
   "source": [
    "test_date = '2020-10-29'\n",
    "re.sub(r'-', '/', test_date)"
   ]
  },
  {
   "cell_type": "code",
   "execution_count": 23,
   "metadata": {},
   "outputs": [
    {
     "output_type": "execute_result",
     "data": {
      "text/plain": [
       "'2020/10-29'"
      ]
     },
     "metadata": {},
     "execution_count": 23
    }
   ],
   "source": [
    "re.sub(r'-', '/', test_date, count=1)"
   ]
  },
  {
   "source": [
    "re.split(pattern, string, maxsplit=0, flags=0): 使用pattern对string进行分割，该函数返回分割得到的多个子串组成的列表，maxsplit参数控制最多分割几次："
   ],
   "cell_type": "markdown",
   "metadata": {}
  },
  {
   "cell_type": "code",
   "execution_count": 24,
   "metadata": {},
   "outputs": [
    {
     "output_type": "execute_result",
     "data": {
      "text/plain": [
       "['kk', ' master', ' monster']"
      ]
     },
     "metadata": {},
     "execution_count": 24
    }
   ],
   "source": [
    "re.split(',', 'kk, master, monster')"
   ]
  },
  {
   "cell_type": "code",
   "execution_count": 25,
   "metadata": {},
   "outputs": [
    {
     "output_type": "execute_result",
     "data": {
      "text/plain": [
       "['kk', ' master, monster']"
      ]
     },
     "metadata": {},
     "execution_count": 25
    }
   ],
   "source": [
    "re.split(',', 'kk, master, monster', maxsplit=1)"
   ]
  },
  {
   "source": [
    "1、re.purge(): 清除正则表达式缓存。  \n",
    "\n",
    "2、re.escape(pattern): 对模式中除ASCII字符、数值、下划线之外的其他字符进行转义。"
   ],
   "cell_type": "markdown",
   "metadata": {}
  },
  {
   "cell_type": "code",
   "execution_count": 26,
   "metadata": {},
   "outputs": [
    {
     "output_type": "execute_result",
     "data": {
      "text/plain": [
       "'kk\\\\.sun\\\\ beats\\\\ monsters\\\\ to\\\\ protect\\\\ the\\\\ master!'"
      ]
     },
     "metadata": {},
     "execution_count": 26
    }
   ],
   "source": [
    "re.escape('kk.sun beats monsters to protect the master!')"
   ]
  },
  {
   "source": [
    "用圆括号将多个表达式括起来形成组:"
   ],
   "cell_type": "markdown",
   "metadata": {}
  },
  {
   "cell_type": "code",
   "execution_count": 27,
   "metadata": {},
   "outputs": [
    {
     "output_type": "execute_result",
     "data": {
      "text/plain": [
       "<re.Match object; span=(4, 11), match='abc.com'>"
      ]
     },
     "metadata": {},
     "execution_count": 27
    }
   ],
   "source": [
    "m = re.search(r'(abc).(com)', r\"www.abc.com.cn\")\n",
    "m"
   ]
  },
  {
   "cell_type": "code",
   "execution_count": 28,
   "metadata": {},
   "outputs": [
    {
     "output_type": "execute_result",
     "data": {
      "text/plain": [
       "'abc.com'"
      ]
     },
     "metadata": {},
     "execution_count": 28
    }
   ],
   "source": [
    "m.group(0)"
   ]
  },
  {
   "cell_type": "code",
   "execution_count": 29,
   "metadata": {},
   "outputs": [
    {
     "output_type": "execute_result",
     "data": {
      "text/plain": [
       "'abc.com'"
      ]
     },
     "metadata": {},
     "execution_count": 29
    }
   ],
   "source": [
    "# 底层调用的是m.__getitem__(0)\n",
    "m[0]"
   ]
  },
  {
   "cell_type": "code",
   "execution_count": 30,
   "metadata": {},
   "outputs": [
    {
     "output_type": "execute_result",
     "data": {
      "text/plain": [
       "(4, 11)"
      ]
     },
     "metadata": {},
     "execution_count": 30
    }
   ],
   "source": [
    "m.span(0)"
   ]
  },
  {
   "cell_type": "code",
   "execution_count": 31,
   "metadata": {},
   "outputs": [
    {
     "output_type": "execute_result",
     "data": {
      "text/plain": [
       "('abc', 'com')"
      ]
     },
     "metadata": {},
     "execution_count": 31
    }
   ],
   "source": [
    "m.groups()"
   ]
  },
  {
   "source": [
    "上面程序中使用了一个包含两个组的正则表达式，因此程序可以依次获取group(0), group(1), group(2), 即依次获取整个正则表达式所匹配的子串、第一个组所匹配的子串和第二个组所匹配的子串；程序也可以依次获取span(0), span(1) 和 span(2)的值，即依次获取整个正则表达式、第一个组、第二个组所匹配的子串的开始位置和结束位置。如果在正则表达式中为组指定了名字(用 ?P<名字> 为正则表达式的组指定名字)，就可以调用groupdict()方法来获取所有组所匹配的字符串组成的字典，其中作为字典的key:"
   ],
   "cell_type": "markdown",
   "metadata": {}
  },
  {
   "cell_type": "code",
   "execution_count": 32,
   "metadata": {},
   "outputs": [
    {
     "output_type": "execute_result",
     "data": {
      "text/plain": [
       "{'Prefix': 'abc', 'Suffix': 'com'}"
      ]
     },
     "metadata": {},
     "execution_count": 32
    }
   ],
   "source": [
    "m2 = re.search(r'(?P<Prefix>abc).(?P<Suffix>com)', r\"www.abc.com.cn is a website.\")\n",
    "m2.groupdict()"
   ]
  },
  {
   "source": [
    "### 正则表达式旗标\n",
    "1、 re.A或re.ASCII: 改旗标控制\\w, \\W, \\b, \\B, \\d, \\D, \\s, \\S 只匹配ASCII字符，而不匹配所有的Unicode字符。\n",
    "\n",
    "2、 re.I或re.IGNORECASE: 使用正则表达式匹配时不区分大小写。\n",
    "\n",
    "3、 re.L或re.LOCALE: 根据当前区域设置使用正则表达式匹配时不区分大小写，该旗标只能对bytes模式起作用。\n",
    "\n",
    "4、 re.M或re.MULTILINE: 多行模式的旗标，当指定该旗标后，'^'能匹配字符串的开头和每行的开头; '$'能匹配字符串的末尾和每行的末尾。\n",
    "\n",
    "5、 re.S或re.DOTALL: 让(.)能匹配包括换行符在内的所有字符，如果不指定该旗标，则(.)只能匹配不包括换行符的所有字符。\n",
    "\n",
    "6、 re.X或re.VERBOSE: 通过该旗标允许分行书写正则表达式，也允许为正则表达式添加注释。"
   ],
   "cell_type": "markdown",
   "metadata": {}
  },
  {
   "cell_type": "code",
   "execution_count": 33,
   "metadata": {},
   "outputs": [
    {
     "output_type": "execute_result",
     "data": {
      "text/plain": [
       "['Abc', 'ABC']"
      ]
     },
     "metadata": {},
     "execution_count": 33
    }
   ],
   "source": [
    "re.findall(r'abc', 'Abc is a good domain, ABC is good', flags=re.I)"
   ]
  },
  {
   "cell_type": "code",
   "execution_count": 34,
   "metadata": {},
   "outputs": [],
   "source": [
    "# 以下两个正则表达式都可以匹配上海市的座机号\n",
    "a = re.compile(r\"\"\"021    # 上海的区号\n",
    "                \\-        # 中间的短横线\n",
    "                \\d{8}     # 8个数值\"\"\", flags=re.X)\n",
    "                \n",
    "b = re.compile(r'020\\-\\d{8}')"
   ]
  },
  {
   "source": [
    "### 正则表达式中支持的特殊字符\n",
    "- $ : 匹配一行的结尾\n",
    "- ^ : 匹配一行的开头\n",
    "- \\(\\) : 标记子表达式，也就是组的开始位置和结束位置\n",
    "- \\[\\] : 用于确定中括号表达式的开始位置和结束位置\n",
    "- \\{\\} : 用于标记前面子表达式出现的频度\n",
    "- \\* : 指定前面子表达式可以出现零次或多次\n",
    "- \\+ : 指定前面子表达式可以出现一次或多次\n",
    "- ? : 指定前面子表达式可以出现零次或一次\n",
    "- . : 匹配除换行符之外的任意单个字符\n",
    "- | : 指定在两项之间任选一项  \n",
    "\n",
    "### 正则表达式支持的预定义字符（通配符）\n",
    "- \\d : 匹配0-9所有数字\n",
    "- \\D : 匹配非数字\n",
    "- \\s : 匹配所有的空白字符，包括空格、制表符、回车符、换页符、换行符\n",
    "- \\S : 匹配所有的非空白字符\n",
    "- \\w : 匹配所有的单词字符，包括0-9的所有数字、26个英文字母和下划线\n",
    "- \\W : 匹配所有的非单词字符  \n",
    "\n",
    "### 方括号表达式\n",
    "- 表示枚举：例如\\[abc\\]表示匹配a, b, c中任意一个字符\n",
    "- 表示范围：例如\\[a-f\\]表示匹配a-f范围内的任意字符\n",
    "- 表示求否^：例如\\[^abc\\]匹配非a, b, c的任意字符; \\[^a-f\\]表示不是a-f范围内的任意字符"
   ],
   "cell_type": "markdown",
   "metadata": {}
  },
  {
   "source": [
    "### 容器相关类 --> set和frozenset  \n",
    "set集合有两个主要特征：1. set不记录元素的添加顺序；2. 元素不允许重复。但set集合是可变容器，程序可以改变容器中的元素。与set对应的还有frozenset，frozenset是set的不可变版本，它的元素是不可变的。"
   ],
   "cell_type": "markdown",
   "metadata": {}
  },
  {
   "cell_type": "code",
   "execution_count": 35,
   "metadata": {},
   "outputs": [
    {
     "output_type": "execute_result",
     "data": {
      "text/plain": [
       "{6, 'kk', 'master'}"
      ]
     },
     "metadata": {},
     "execution_count": 35
    }
   ],
   "source": [
    "# 使用{}构建set集合\n",
    "c = {'kk'}\n",
    "c.add('master')\n",
    "c.add(6)\n",
    "c"
   ]
  },
  {
   "cell_type": "code",
   "execution_count": 36,
   "metadata": {},
   "outputs": [
    {
     "output_type": "execute_result",
     "data": {
      "text/plain": [
       "{'Go', 'Java'}"
      ]
     },
     "metadata": {},
     "execution_count": 36
    }
   ],
   "source": [
    "# 使用set函数创建set集合\n",
    "books = set()\n",
    "books.add('Java')\n",
    "books.add('Go')\n",
    "books"
   ]
  },
  {
   "cell_type": "code",
   "execution_count": 37,
   "metadata": {},
   "outputs": [
    {
     "output_type": "execute_result",
     "data": {
      "text/plain": [
       "set()"
      ]
     },
     "metadata": {},
     "execution_count": 37
    }
   ],
   "source": [
    "books.clear()\n",
    "books"
   ]
  },
  {
   "source": [
    "1、 issubset(): 判断前面的set是否为后面的set集合的子集合\n",
    "\n",
    "2、 issuperset(): 判断前面的set是否为后面的set集合的父集合\n",
    "\n",
    "3、 difference(): 用前面的set的元素减去后面的set集合的元素，返回两个集合做减法的结果\n",
    "\n",
    "4、 difference_update(): 改变第一个set集合\n",
    "\n",
    "5、 intersection(): 返回两个set集合的交集\n",
    "\n",
    "6、 intersection_update(): 通过交集运算改变第一个集合\n",
    "\n",
    "7、 union(): 返回两个set的并集\n",
    "\n",
    "8、 update(): 通过并集运算改变第一个set"
   ],
   "cell_type": "markdown",
   "metadata": {}
  },
  {
   "cell_type": "code",
   "execution_count": 38,
   "metadata": {},
   "outputs": [
    {
     "output_type": "execute_result",
     "data": {
      "text/plain": [
       "{frozenset({'K', 'i', 'l', 'n', 'o', 't'})}"
      ]
     },
     "metadata": {},
     "execution_count": 38
    }
   ],
   "source": [
    "s = set()\n",
    "f_s = frozenset('Kotlin')\n",
    "# 为set添加frozenset\n",
    "s.add(f_s)\n",
    "s"
   ]
  },
  {
   "cell_type": "code",
   "execution_count": 39,
   "metadata": {},
   "outputs": [
    {
     "output_type": "stream",
     "name": "stdout",
     "text": [
      "unhashable type: 'set'\n"
     ]
    }
   ],
   "source": [
    "sub_s = {'Java'}\n",
    "# 为set添加set\n",
    "try:\n",
    "    s.add(sub_s)\n",
    "except TypeError:\n",
    "    print(\"unhashable type: 'set'\")"
   ]
  },
  {
   "source": [
    "### 容器相关类 --> 双端队列(deque)\n",
    "双端队列代表一种特殊的队列，它可以在两端同时进行插入、删除操作。对于一个deque来说，它可以从两端分别进行插入、删除操作，如果程序将所有的插入、删除操作都固定在一端进行，那么这个deque就变成了栈；如果固定在一端只添加元素，在另一端只删除元素，那么它就变成了队列。"
   ],
   "cell_type": "markdown",
   "metadata": {}
  },
  {
   "cell_type": "code",
   "execution_count": 40,
   "metadata": {},
   "outputs": [
    {
     "output_type": "stream",
     "name": "stdout",
     "text": [
      "['append', 'appendleft', 'clear', 'copy', 'count', 'extend', 'extendleft', 'index', 'insert', 'maxlen', 'pop', 'popleft', 'remove', 'reverse', 'rotate']\n"
     ]
    }
   ],
   "source": [
    "from collections import deque\n",
    "\n",
    "a = [e for e in dir(deque) if not e.startswith('_')]\n",
    "print(a)"
   ]
  },
  {
   "cell_type": "code",
   "execution_count": 41,
   "metadata": {},
   "outputs": [
    {
     "output_type": "execute_result",
     "data": {
      "text/plain": [
       "deque(['Java', 'Python', 'Go', 'Scala'])"
      ]
     },
     "metadata": {},
     "execution_count": 41
    }
   ],
   "source": [
    "stack = deque(('Java', 'Python'))\n",
    "\n",
    "# 元素入栈\n",
    "stack.append('Go')\n",
    "stack.append('Scala')\n",
    "stack"
   ]
  },
  {
   "cell_type": "code",
   "execution_count": 42,
   "metadata": {},
   "outputs": [
    {
     "output_type": "execute_result",
     "data": {
      "text/plain": [
       "'Scala'"
      ]
     },
     "metadata": {},
     "execution_count": 42
    }
   ],
   "source": [
    "# 元素出栈，后添加的元素先出栈\n",
    "stack.pop()"
   ]
  },
  {
   "cell_type": "code",
   "execution_count": 43,
   "metadata": {},
   "outputs": [
    {
     "output_type": "execute_result",
     "data": {
      "text/plain": [
       "'Java'"
      ]
     },
     "metadata": {},
     "execution_count": 43
    }
   ],
   "source": [
    "stack.popleft()"
   ]
  },
  {
   "source": [
    "deque还有一个rotate()方法，该方法可将队列的队尾元素移动到队头，使之首尾相连:"
   ],
   "cell_type": "markdown",
   "metadata": {}
  },
  {
   "cell_type": "code",
   "execution_count": 44,
   "metadata": {},
   "outputs": [
    {
     "output_type": "execute_result",
     "data": {
      "text/plain": [
       "deque([0, 1, 2, 3, 4])"
      ]
     },
     "metadata": {},
     "execution_count": 44
    }
   ],
   "source": [
    "q = deque(range(5))\n",
    "q"
   ]
  },
  {
   "cell_type": "code",
   "execution_count": 45,
   "metadata": {},
   "outputs": [
    {
     "output_type": "execute_result",
     "data": {
      "text/plain": [
       "deque([4, 0, 1, 2, 3])"
      ]
     },
     "metadata": {},
     "execution_count": 45
    }
   ],
   "source": [
    "q.rotate()\n",
    "q"
   ]
  },
  {
   "source": [
    "### Python的堆操作\n",
    "堆是一种经过排序的完全二叉树，若树中所有节点的值都小于其左、右子节点的值，次数的根节点值最小，这种称为小顶堆，反之称为大顶堆。小顶堆的任意子树也是小顶堆。Python提供基于小顶堆的操作，Python并没有提供“堆”这种数据类型，它是直接把list当成堆处理，这样程序每次获取堆元素时，总会取得堆中最小的元素:"
   ],
   "cell_type": "markdown",
   "metadata": {}
  },
  {
   "cell_type": "code",
   "execution_count": 46,
   "metadata": {},
   "outputs": [
    {
     "output_type": "stream",
     "name": "stdout",
     "text": [
      "['heappush', 'heappop', 'heapify', 'heapreplace', 'merge', 'nlargest', 'nsmallest', 'heappushpop']\n"
     ]
    }
   ],
   "source": [
    "import heapq\n",
    "\n",
    "print(heapq.__all__)"
   ]
  },
  {
   "cell_type": "code",
   "execution_count": 47,
   "metadata": {},
   "outputs": [
    {
     "output_type": "execute_result",
     "data": {
      "text/plain": [
       "[0, 1, 2, 3, 4, 5, 6, 7, 8, 9, 0.5]"
      ]
     },
     "metadata": {},
     "execution_count": 47
    }
   ],
   "source": [
    "test_list = list(range(10))\n",
    "test_list.append(0.5)\n",
    "test_list"
   ]
  },
  {
   "cell_type": "code",
   "execution_count": 48,
   "metadata": {},
   "outputs": [
    {
     "output_type": "execute_result",
     "data": {
      "text/plain": [
       "[0, 0.5, 2, 3, 1, 5, 6, 7, 8, 9, 4]"
      ]
     },
     "metadata": {},
     "execution_count": 48
    }
   ],
   "source": [
    "# 将堆属性应用到列表上\n",
    "heapq.heapify(test_list)\n",
    "# 满足小顶堆的特征\n",
    "test_list"
   ]
  },
  {
   "cell_type": "code",
   "execution_count": 49,
   "metadata": {},
   "outputs": [
    {
     "output_type": "execute_result",
     "data": {
      "text/plain": [
       "[0, 0.5, 2, 3, 1, 5, 6, 7, 8, 9, 4, 7.2]"
      ]
     },
     "metadata": {},
     "execution_count": 49
    }
   ],
   "source": [
    "# heappush(heap, item): 将item元素加入堆\n",
    "heapq.heappush(test_list, 7.2)\n",
    "test_list"
   ]
  },
  {
   "cell_type": "code",
   "execution_count": 50,
   "metadata": {},
   "outputs": [
    {
     "output_type": "execute_result",
     "data": {
      "text/plain": [
       "0"
      ]
     },
     "metadata": {},
     "execution_count": 50
    }
   ],
   "source": [
    "# 将堆中最小元素弹出\n",
    "heapq.heappop(test_list)"
   ]
  },
  {
   "cell_type": "code",
   "execution_count": 51,
   "metadata": {},
   "outputs": [
    {
     "output_type": "execute_result",
     "data": {
      "text/plain": [
       "0.5"
      ]
     },
     "metadata": {},
     "execution_count": 51
    }
   ],
   "source": [
    "heapq.heappop(test_list)"
   ]
  },
  {
   "cell_type": "code",
   "execution_count": 52,
   "metadata": {},
   "outputs": [
    {
     "output_type": "execute_result",
     "data": {
      "text/plain": [
       "[2, 3, 5, 7, 4, 8.1, 6, 7.2, 8, 9]"
      ]
     },
     "metadata": {},
     "execution_count": 52
    }
   ],
   "source": [
    "# 将堆中最小元素弹出，并将x元素入堆\n",
    "heapq.heapreplace(test_list, 8.1)\n",
    "test_list"
   ]
  },
  {
   "cell_type": "code",
   "execution_count": 53,
   "metadata": {},
   "outputs": [
    {
     "output_type": "execute_result",
     "data": {
      "text/plain": [
       "2"
      ]
     },
     "metadata": {},
     "execution_count": 53
    }
   ],
   "source": [
    "# 将item入堆，然后弹出堆中最小元素\n",
    "heapq.heappushpop(test_list, 3.4)"
   ]
  },
  {
   "cell_type": "code",
   "execution_count": 54,
   "metadata": {},
   "outputs": [
    {
     "output_type": "execute_result",
     "data": {
      "text/plain": [
       "[9, 8.1, 8, 7.2]"
      ]
     },
     "metadata": {},
     "execution_count": 54
    }
   ],
   "source": [
    "# 返回堆中最大的n个元素\n",
    "heapq.nlargest(4, test_list)"
   ]
  },
  {
   "cell_type": "code",
   "execution_count": 55,
   "metadata": {},
   "outputs": [
    {
     "output_type": "execute_result",
     "data": {
      "text/plain": [
       "[3, 3.4, 4, 5]"
      ]
     },
     "metadata": {},
     "execution_count": 55
    }
   ],
   "source": [
    "# 返回堆中最小的n个元素\n",
    "heapq.nsmallest(4, test_list)"
   ]
  },
  {
   "source": [
    "当程序要获取列表中最大的n个元素或者最小的n个元素时，使用堆能缓存列表的排序结果，因此具有较好的性能。"
   ],
   "cell_type": "markdown",
   "metadata": {}
  },
  {
   "source": [
    "### 容器相关类 --> ChainMap对象\n",
    "ChainMap使用链的方式将多个dict“链”在一起，从而允许程序可以直接获取任意一个dict所包含的key对应的value。但实际上其底层并未真正合并这些dict，因此程序无须调用多个update()方法将多个dict进行合并。由于并未真正合并，所以在多个dict中完全可能具有重复的key，此时排在“链”前面的dict中的key具有更高的优先级。"
   ],
   "cell_type": "markdown",
   "metadata": {}
  },
  {
   "cell_type": "code",
   "execution_count": 56,
   "metadata": {},
   "outputs": [
    {
     "output_type": "execute_result",
     "data": {
      "text/plain": [
       "ChainMap({'Java': 88, 'Python': 96}, {'Go': 83, 'Python': 92}, {'Swift': 85, 'Go': 81})"
      ]
     },
     "metadata": {},
     "execution_count": 56
    }
   ],
   "source": [
    "from collections import ChainMap\n",
    "\n",
    "a = {'Java': 88, 'Python': 96}\n",
    "b = {'Go': 83, 'Python': 92}\n",
    "c = {'Swift': 85, 'Go': 81}\n",
    "cm = ChainMap(a, b, c)\n",
    "cm"
   ]
  },
  {
   "cell_type": "code",
   "execution_count": 57,
   "metadata": {},
   "outputs": [
    {
     "output_type": "execute_result",
     "data": {
      "text/plain": [
       "88"
      ]
     },
     "metadata": {},
     "execution_count": 57
    }
   ],
   "source": [
    "cm['Java']"
   ]
  },
  {
   "source": [
    "借鉴Python文档库中的一个例子，该例子将局部范围的定义、全局范围的定义、Python内置定义链成一个ChainMap，当程序通过该ChainMap获取变量时，将会按照局部定义、全局定义、内置定义的顺序执行搜索："
   ],
   "cell_type": "markdown",
   "metadata": {}
  },
  {
   "cell_type": "code",
   "execution_count": 58,
   "metadata": {},
   "outputs": [],
   "source": [
    "import builtins\n",
    "\n",
    "my_name = 'leon'\n",
    "def test():\n",
    "    my_name = 'faye'\n",
    "    pylookup = ChainMap(locals(), globals(), vars(builtins))\n",
    "    # 访问my_name对应的value，优先使用局部范围的定义\n",
    "    print(pylookup['my_name'])\n",
    "    # 访问len对应的value，由于在局部范围、全局范围中都找不到，因此访问内置的len函数\n",
    "    print(pylookup['len'])"
   ]
  },
  {
   "cell_type": "code",
   "execution_count": 59,
   "metadata": {},
   "outputs": [
    {
     "output_type": "stream",
     "name": "stdout",
     "text": [
      "faye\n<built-in function len>\n"
     ]
    }
   ],
   "source": [
    "test()"
   ]
  },
  {
   "source": [
    "### 容器相关类 --> OrderedDict对象\n",
    "该对象是dict的子类，其最大特征是：它可以维护添加key-value对的顺序，即先添加的key-value排在前面，后添加的key-value排在后面。即使两个OrderedDict中的键值对完全相同，但顺序不同，程序在判断它们是否相等的时候也依然会返回False:"
   ],
   "cell_type": "markdown",
   "metadata": {}
  },
  {
   "cell_type": "code",
   "execution_count": 60,
   "metadata": {},
   "outputs": [
    {
     "output_type": "execute_result",
     "data": {
      "text/plain": [
       "OrderedDict([('b', 5), ('c', 2), ('a', 7)])"
      ]
     },
     "metadata": {},
     "execution_count": 60
    }
   ],
   "source": [
    "from collections import OrderedDict\n",
    "\n",
    "od = OrderedDict(b = 5, c = 2, a = 7)\n",
    "od"
   ]
  },
  {
   "cell_type": "code",
   "execution_count": 61,
   "metadata": {},
   "outputs": [
    {
     "output_type": "stream",
     "name": "stdout",
     "text": [
      "python 98\njava 94\ngo 82\nkotlin 85\n"
     ]
    }
   ],
   "source": [
    "d = OrderedDict()\n",
    "d['python'] = 98\n",
    "d['java'] = 94\n",
    "d['go'] = 82\n",
    "d['kotlin'] = 85\n",
    "\n",
    "for k, v in d.items():\n",
    "    print(k, v)"
   ]
  },
  {
   "source": [
    "由于OrderedDict是有序的，因此Python为之提供了如下两个方法：\n",
    "\n",
    "1、 popitem(last=True): 默认弹出并返回最右边（最后加入）的key-value对；如果将last参数设置为False，则弹出并返回最左边的key-value对\n",
    "\n",
    "2、 move_to_end(key, last=True): 默认将指定的key-value对移动到最右边（最后加入）；如果将last设置为False，则移到最左边"
   ],
   "cell_type": "markdown",
   "metadata": {}
  },
  {
   "source": [
    "### 函数相关模块 --> itertools\n",
    "首先是itertools模块中三个生成无限迭代器的函数：\n",
    "\n",
    "1、count(start, \\[step\\]): 生成start, start+step, start+2*step ...的迭代器，step默认为1\n",
    "\n",
    "2、cycle(p): 对序列p生成无限循环的迭代器，例如cycle('abcd')生成的迭代器为：a,b,c,d,a,b,c,d,......\n",
    "\n",
    "3、repeat(elem, \\[n\\]): 生成无限个elem元素重复的迭代器"
   ],
   "cell_type": "markdown",
   "metadata": {}
  },
  {
   "cell_type": "code",
   "execution_count": 62,
   "metadata": {},
   "outputs": [
    {
     "output_type": "stream",
     "name": "stdout",
     "text": [
      "10 13 16 19 22 "
     ]
    }
   ],
   "source": [
    "import itertools\n",
    "\n",
    "for e in itertools.count(10, 3):\n",
    "    print(e, end=' ')\n",
    "    if e > 20:\n",
    "        break"
   ]
  },
  {
   "cell_type": "code",
   "execution_count": 63,
   "metadata": {},
   "outputs": [
    {
     "output_type": "stream",
     "name": "stdout",
     "text": [
      "python java go python java go python java "
     ]
    }
   ],
   "source": [
    "my_counter = 0\n",
    "for e in itertools.cycle(['python', 'java', 'go']):\n",
    "    print(e, end=' ')\n",
    "    my_counter += 1\n",
    "    if my_counter > 7:\n",
    "        break"
   ]
  },
  {
   "cell_type": "code",
   "execution_count": 64,
   "metadata": {},
   "outputs": [
    {
     "output_type": "stream",
     "name": "stdout",
     "text": [
      "go\tgo\tgo\t"
     ]
    }
   ],
   "source": [
    "for e in itertools.repeat('go', 3):\n",
    "    print(e, end='\\t')"
   ]
  },
  {
   "source": [
    "在itertools模块中还有一些常用的迭代器函数:"
   ],
   "cell_type": "markdown",
   "metadata": {}
  },
  {
   "cell_type": "code",
   "execution_count": 65,
   "metadata": {},
   "outputs": [
    {
     "output_type": "stream",
     "name": "stdout",
     "text": [
      "0 1 3 6 10 15 "
     ]
    }
   ],
   "source": [
    "# 使用累加的方式计算下一个元素的值\n",
    "for e in itertools.accumulate(range(6)):\n",
    "    print(e, end=' ')"
   ]
  },
  {
   "cell_type": "code",
   "execution_count": 66,
   "metadata": {},
   "outputs": [
    {
     "output_type": "stream",
     "name": "stdout",
     "text": [
      "1 2 6 24 120 "
     ]
    }
   ],
   "source": [
    "# 使用x*y的方式来计算下一个元素的值\n",
    "for e in itertools.accumulate(range(1, 6), lambda x, y: x * y):\n",
    "    print(e, end=' ')"
   ]
  },
  {
   "cell_type": "code",
   "execution_count": 67,
   "metadata": {},
   "outputs": [
    {
     "output_type": "stream",
     "name": "stdout",
     "text": [
      "a b go python "
     ]
    }
   ],
   "source": [
    "# 将两个序列链在一起，生成新的迭代器\n",
    "for e in itertools.chain(['a', 'b'], ['go', 'python']):\n",
    "    print(e, end=' ')"
   ]
  },
  {
   "cell_type": "code",
   "execution_count": 68,
   "metadata": {},
   "outputs": [
    {
     "output_type": "stream",
     "name": "stdout",
     "text": [
      "b python "
     ]
    }
   ],
   "source": [
    "# 根据第二个序列来筛选第一个序列的元素\n",
    "# 由于第二个元素只有中间两个元素为1（True），因此第一个序列只保留中间两个元素\n",
    "for e in itertools.compress(['a', 'b', 'python', 'go'], [0, 1, 1, 0]):\n",
    "    print(e, end=' ')"
   ]
  },
  {
   "cell_type": "code",
   "execution_count": 69,
   "metadata": {},
   "outputs": [
    {
     "output_type": "stream",
     "name": "stdout",
     "text": [
      "kotlin x y "
     ]
    }
   ],
   "source": [
    "# 获取序列中长度不小于4的元素开始到结束的所有元素\n",
    "for e in itertools.dropwhile(lambda x: len(x)<4, ['a', 'b', 'kotlin', 'x', 'y']):\n",
    "    print(e, end=' ')"
   ]
  },
  {
   "cell_type": "code",
   "execution_count": 70,
   "metadata": {},
   "outputs": [
    {
     "output_type": "stream",
     "name": "stdout",
     "text": [
      "a b "
     ]
    }
   ],
   "source": [
    "# 去掉序列中从长度不小于4的元素开始到结束的所有元素\n",
    "for e in itertools.takewhile(lambda x: len(x)<4, ['a', 'b', 'kotlin', 'x', 'y']):\n",
    "    print(e, end=' ')"
   ]
  },
  {
   "cell_type": "code",
   "execution_count": 71,
   "metadata": {},
   "outputs": [
    {
     "output_type": "stream",
     "name": "stdout",
     "text": [
      "kotlin "
     ]
    }
   ],
   "source": [
    "# 只保留序列中长度不小于4的元素\n",
    "for e in itertools.filterfalse(lambda x: len(x)<4, ['a', 'b', 'kotlin', 'x', 'y']):\n",
    "    print(e, end=' ')"
   ]
  },
  {
   "cell_type": "code",
   "execution_count": 72,
   "metadata": {},
   "outputs": [
    {
     "output_type": "stream",
     "name": "stdout",
     "text": [
      "32 9 1000 "
     ]
    }
   ],
   "source": [
    "# 使用pow函数对原序列的元素进行计算，将计算结果作为新序列的元素\n",
    "for e in itertools.starmap(pow, [(2, 5), (3, 2), (10, 3)]):\n",
    "    print(e, end=' ')"
   ]
  },
  {
   "cell_type": "code",
   "execution_count": 73,
   "metadata": {},
   "outputs": [
    {
     "output_type": "stream",
     "name": "stdout",
     "text": [
      "('A', 'x') ('B', 'y') ('C', '-') ('D', '-') "
     ]
    }
   ],
   "source": [
    "# 将'ABCD'、'xy'的元素按索引合并成元组，这些元组作为新序列的元素\n",
    "# 长度不够的元素使用'-'字符代替\n",
    "for e in itertools.zip_longest('ABCD', 'xy', fillvalue='-'):\n",
    "    print(e, end=' ')"
   ]
  },
  {
   "source": [
    "在itertools中还有一些用于生成排列组合的工具函数:"
   ],
   "cell_type": "markdown",
   "metadata": {}
  },
  {
   "cell_type": "code",
   "execution_count": 74,
   "metadata": {},
   "outputs": [
    {
     "output_type": "stream",
     "name": "stdout",
     "text": [
      "('A', 'C') ('A', 'D') ('B', 'C') ('B', 'D') "
     ]
    }
   ],
   "source": [
    "# 使用两个序列进行排列组合\n",
    "for e in itertools.product('AB', 'CD'):\n",
    "    print(e, end=' ')"
   ]
  },
  {
   "cell_type": "code",
   "execution_count": 75,
   "metadata": {},
   "outputs": [
    {
     "output_type": "stream",
     "name": "stdout",
     "text": [
      "('A', 'A') ('A', 'B') ('B', 'A') ('B', 'B') "
     ]
    }
   ],
   "source": [
    "# 使用一个序列，重复两次进行全排列\n",
    "for e in itertools.product('AB', repeat=2):\n",
    "    print(e, end=' ')"
   ]
  },
  {
   "cell_type": "code",
   "execution_count": 76,
   "metadata": {},
   "outputs": [
    {
     "output_type": "stream",
     "name": "stdout",
     "text": [
      "A.B, A.C, A.D, B.A, B.C, B.D, C.A, C.B, C.D, D.A, D.B, D.C, "
     ]
    }
   ],
   "source": [
    "# 从序列中取两个元素进行排列\n",
    "for e in itertools.permutations('ABCD', 2):\n",
    "    print('.'.join(e), end=', ')"
   ]
  },
  {
   "cell_type": "code",
   "execution_count": 77,
   "metadata": {},
   "outputs": [
    {
     "output_type": "stream",
     "name": "stdout",
     "text": [
      "A.B, A.C, A.D, B.C, B.D, C.D, "
     ]
    }
   ],
   "source": [
    "# 从序列中取两个元素进行组合，元素不允许重复\n",
    "for e in itertools.combinations('ABCD', 2):\n",
    "    print('.'.join(e), end=', ')"
   ]
  },
  {
   "cell_type": "code",
   "execution_count": 78,
   "metadata": {},
   "outputs": [
    {
     "output_type": "stream",
     "name": "stdout",
     "text": [
      "A.A, A.B, A.C, A.D, B.B, B.C, B.D, C.C, C.D, D.D, "
     ]
    }
   ],
   "source": [
    "# 从序列中取两个元素进行组合，元素允许重复\n",
    "for e in itertools.combinations_with_replacement('ABCD', 2):\n",
    "    print('.'.join(e), end=', ')"
   ]
  },
  {
   "source": [
    "### 函数相关模块 --> functools的功能函数"
   ],
   "cell_type": "markdown",
   "metadata": {}
  },
  {
   "cell_type": "code",
   "execution_count": 79,
   "metadata": {},
   "outputs": [
    {
     "output_type": "stream",
     "name": "stdout",
     "text": [
      "['RLock', 'WRAPPER_ASSIGNMENTS', 'WRAPPER_UPDATES', 'cached_property', 'cmp_to_key', 'get_cache_token', 'lru_cache', 'namedtuple', 'partial', 'partialmethod', 'recursive_repr', 'reduce', 'singledispatch', 'singledispatchmethod', 'total_ordering', 'update_wrapper', 'wraps']\n"
     ]
    }
   ],
   "source": [
    "import functools\n",
    "\n",
    "a = [e for e in dir(functools) if not e.startswith('_')]\n",
    "print(a)"
   ]
  },
  {
   "source": [
    "### decimal\n",
    "在重视精度的场合使用decimal，例如货币计算:"
   ],
   "cell_type": "markdown",
   "metadata": {}
  },
  {
   "cell_type": "code",
   "execution_count": 80,
   "metadata": {},
   "outputs": [
    {
     "output_type": "stream",
     "name": "stdout",
     "text": [
      "5.364999999999999\n5.36\n"
     ]
    }
   ],
   "source": [
    "rate = 1.45\n",
    "seconds = 3 * 60 + 42\n",
    "cost = rate * seconds / 60\n",
    "print(cost)\n",
    "print(round(cost, 2))"
   ]
  },
  {
   "source": [
    "如果希望round是把数字调高至5.37。为了解决这种问题，可以使用内置的Decimal类，该类默认提供28个小数位，以进行定点数学运算。Decimal类解决了IEEE 754浮点数产生的精度问题，而且开发者可以更加精准地控制该类的舍入行为:"
   ],
   "cell_type": "markdown",
   "metadata": {}
  },
  {
   "cell_type": "code",
   "execution_count": 81,
   "metadata": {},
   "outputs": [
    {
     "output_type": "stream",
     "name": "stdout",
     "text": [
      "5.365\n",
      "5.37\n"
     ]
    }
   ],
   "source": [
    "from decimal import *\n",
    "\n",
    "rate = Decimal('1.45')\n",
    "seconds = Decimal('222')\n",
    "cost = rate * seconds / Decimal('60')\n",
    "rounded = cost.quantize(Decimal('0.01'), rounding=ROUND_UP)\n",
    "print(cost)\n",
    "print(rounded)"
   ]
  }
 ]
}